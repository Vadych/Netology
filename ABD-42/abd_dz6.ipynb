{
  "cells": [
    {
      "cell_type": "code",
      "execution_count": 1,
      "metadata": {
        "id": "1pSrW3TfBnX1"
      },
      "outputs": [
        {
          "name": "stderr",
          "output_type": "stream",
          "text": [
            "24/04/09 12:06:26 WARN Utils: Your hostname, MacBook-Pro-Vadim.local resolves to a loopback address: 127.0.0.1; using 192.168.139.65 instead (on interface en0)\n",
            "24/04/09 12:06:26 WARN Utils: Set SPARK_LOCAL_IP if you need to bind to another address\n",
            "Setting default log level to \"WARN\".\n",
            "To adjust logging level use sc.setLogLevel(newLevel). For SparkR, use setLogLevel(newLevel).\n",
            "24/04/09 12:06:42 WARN NativeCodeLoader: Unable to load native-hadoop library for your platform... using builtin-java classes where applicable\n"
          ]
        }
      ],
      "source": [
        "from pyspark.sql import SparkSession\n",
        "\n",
        "spark = SparkSession.builder.master(\"local[*]\").getOrCreate()"
      ]
    },
    {
      "cell_type": "markdown",
      "metadata": {
        "id": "ET5O_hjXP1mQ"
      },
      "source": [
        "## Загрузите данные при помощи spark.read.csv из приложенного файла"
      ]
    },
    {
      "cell_type": "code",
      "execution_count": 50,
      "metadata": {
        "id": "dU4NSXjdBrYL"
      },
      "outputs": [],
      "source": [
        "df = spark.read.csv('iris.csv', header=True, inferSchema=True)"
      ]
    },
    {
      "cell_type": "code",
      "execution_count": 51,
      "metadata": {
        "colab": {
          "base_uri": "https://localhost:8080/",
          "height": 204
        },
        "id": "hWYpVRxpByHH",
        "outputId": "7fda0760-bad4-44a7-e8f4-1f79ab2f0c61"
      },
      "outputs": [
        {
          "name": "stdout",
          "output_type": "stream",
          "text": [
            "+------------+-----------+------------+-----------+-------+-----------+\n",
            "|sepal_length|sepal_width|petal_length|petal_width|variety|variety_num|\n",
            "+------------+-----------+------------+-----------+-------+-----------+\n",
            "|         5.1|        3.5|         1.4|        0.2| Setosa|          0|\n",
            "|         4.9|        3.0|         1.4|        0.2| Setosa|          0|\n",
            "|         4.7|        3.2|         1.3|        0.2| Setosa|          0|\n",
            "|         4.6|        3.1|         1.5|        0.2| Setosa|          0|\n",
            "|         5.0|        3.6|         1.4|        0.2| Setosa|          0|\n",
            "+------------+-----------+------------+-----------+-------+-----------+\n",
            "only showing top 5 rows\n",
            "\n"
          ]
        }
      ],
      "source": [
        "df.show(5)"
      ]
    },
    {
      "cell_type": "code",
      "execution_count": 52,
      "metadata": {},
      "outputs": [
        {
          "data": {
            "text/plain": [
              "[('sepal_length', 'double'),\n",
              " ('sepal_width', 'double'),\n",
              " ('petal_length', 'double'),\n",
              " ('petal_width', 'double'),\n",
              " ('variety', 'string'),\n",
              " ('variety_num', 'int')]"
            ]
          },
          "execution_count": 52,
          "metadata": {},
          "output_type": "execute_result"
        }
      ],
      "source": [
        "df.dtypes"
      ]
    },
    {
      "cell_type": "code",
      "execution_count": 53,
      "metadata": {},
      "outputs": [
        {
          "name": "stdout",
          "output_type": "stream",
          "text": [
            "+-------+------------------+-------------------+------------------+------------------+---------+------------------+\n",
            "|summary|      sepal_length|        sepal_width|      petal_length|       petal_width|  variety|       variety_num|\n",
            "+-------+------------------+-------------------+------------------+------------------+---------+------------------+\n",
            "|  count|               150|                150|               150|               150|      150|               150|\n",
            "|   mean| 5.843333333333335|  3.057333333333334|3.7580000000000027| 1.199333333333334|     NULL|               1.0|\n",
            "| stddev|0.8280661279778637|0.43586628493669793|1.7652982332594662|0.7622376689603467|     NULL|0.8192319205190406|\n",
            "|    min|               4.3|                2.0|               1.0|               0.1|   Setosa|                 0|\n",
            "|    max|               7.9|                4.4|               6.9|               2.5|Virginica|                 2|\n",
            "+-------+------------------+-------------------+------------------+------------------+---------+------------------+\n",
            "\n"
          ]
        }
      ],
      "source": [
        "df.describe().show()"
      ]
    },
    {
      "cell_type": "markdown",
      "metadata": {
        "id": "0d-mTjYiQAuF"
      },
      "source": [
        "## Воспользуйтесь командами groupBy, max, min и avg, чтобы вывести максимальное минимальное и среднее значние каждого из аттрбутов цветка ('sepal_length','sepal_width','petal_length','petal_width')"
      ]
    },
    {
      "cell_type": "code",
      "execution_count": 54,
      "metadata": {
        "colab": {
          "base_uri": "https://localhost:8080/",
          "height": 153
        },
        "id": "zblq8_2LB1lR",
        "outputId": "2fe8fe58-5848-43fa-dfc8-cf665af8f8b1"
      },
      "outputs": [
        {
          "name": "stdout",
          "output_type": "stream",
          "text": [
            "+----------+-----------------+----------------+-----------------+----------------+\n",
            "|   variety|max(sepal_length)|max(sepal_width)|max(petal_length)|max(petal_width)|\n",
            "+----------+-----------------+----------------+-----------------+----------------+\n",
            "| Virginica|              7.9|             3.8|              6.9|             2.5|\n",
            "|    Setosa|              5.8|             4.4|              1.9|             0.6|\n",
            "|Versicolor|              7.0|             3.4|              5.1|             1.8|\n",
            "+----------+-----------------+----------------+-----------------+----------------+\n",
            "\n"
          ]
        }
      ],
      "source": [
        "df.drop('variety_num').groupby('variety').max().show()"
      ]
    },
    {
      "cell_type": "code",
      "execution_count": 55,
      "metadata": {},
      "outputs": [
        {
          "name": "stdout",
          "output_type": "stream",
          "text": [
            "+----------+-----------------+----------------+-----------------+----------------+\n",
            "|   variety|min(sepal_length)|min(sepal_width)|min(petal_length)|min(petal_width)|\n",
            "+----------+-----------------+----------------+-----------------+----------------+\n",
            "| Virginica|              4.9|             2.2|              4.5|             1.4|\n",
            "|    Setosa|              4.3|             2.3|              1.0|             0.1|\n",
            "|Versicolor|              4.9|             2.0|              3.0|             1.0|\n",
            "+----------+-----------------+----------------+-----------------+----------------+\n",
            "\n"
          ]
        }
      ],
      "source": [
        "df.drop('variety_num').groupby('variety').min().show()"
      ]
    },
    {
      "cell_type": "code",
      "execution_count": 56,
      "metadata": {},
      "outputs": [
        {
          "name": "stdout",
          "output_type": "stream",
          "text": [
            "+----------+-----------------+------------------+------------------+------------------+\n",
            "|   variety|avg(sepal_length)|  avg(sepal_width)| avg(petal_length)|  avg(petal_width)|\n",
            "+----------+-----------------+------------------+------------------+------------------+\n",
            "| Virginica|6.587999999999998|2.9739999999999998|             5.552|             2.026|\n",
            "|    Setosa|5.005999999999999| 3.428000000000001|1.4620000000000002|0.2459999999999999|\n",
            "|Versicolor|            5.936|2.7700000000000005|              4.26|1.3259999999999998|\n",
            "+----------+-----------------+------------------+------------------+------------------+\n",
            "\n"
          ]
        }
      ],
      "source": [
        "df.drop('variety_num').groupby('variety').avg().show()"
      ]
    },
    {
      "cell_type": "code",
      "execution_count": 13,
      "metadata": {
        "id": "hFHLu0GeB9G6"
      },
      "outputs": [],
      "source": [
        "import matplotlib.pyplot as plt"
      ]
    },
    {
      "cell_type": "code",
      "execution_count": 14,
      "metadata": {
        "colab": {
          "base_uri": "https://localhost:8080/",
          "height": 285
        },
        "id": "dz2jOZxCB9W6",
        "outputId": "550899b7-db50-4aa8-a927-eaabdc36a86e"
      },
      "outputs": [
        {
          "data": {
            "text/plain": [
              "<matplotlib.collections.PathCollection at 0x11eda1a10>"
            ]
          },
          "execution_count": 14,
          "metadata": {},
          "output_type": "execute_result"
        },
        {
          "data": {
            "image/png": "[encoded data removed]",
            "text/plain": [
              "<Figure size 640x480 with 1 Axes>"
            ]
          },
          "metadata": {},
          "output_type": "display_data"
        }
      ],
      "source": [
        "plt.scatter(df[['sepal_length']].collect(), df[['sepal_width']].collect(), c=df[['variety_num']].collect())"
      ]
    },
    {
      "cell_type": "markdown",
      "metadata": {
        "id": "OlNbmAsWQUVy"
      },
      "source": [
        "## Выведите по аналогии график petal_length и petal_width, так же раскрашенный по типам цветков"
      ]
    },
    {
      "cell_type": "code",
      "execution_count": 29,
      "metadata": {},
      "outputs": [
        {
          "data": {
            "text/plain": [
              "<matplotlib.legend.Legend at 0x16da95250>"
            ]
          },
          "execution_count": 29,
          "metadata": {},
          "output_type": "execute_result"
        },
        {
          "data": {
            "image/png": "[encoded data removed]",
            "text/plain": [
              "<Figure size 640x480 with 1 Axes>"
            ]
          },
          "metadata": {},
          "output_type": "display_data"
        }
      ],
      "source": [
        "sc = plt.scatter(\n",
        "    df[['petal_length']].collect(), \n",
        "    df[['petal_width']].collect(), \n",
        "    c=df[['variety_num']].collect(),\n",
        ")\n",
        "plt.legend(*sc.legend_elements())\n"
      ]
    },
    {
      "cell_type": "markdown",
      "metadata": {
        "id": "A590TgXXQnpM"
      },
      "source": [
        "## Посмотрите внимательно на получившийся график и сформируйте правило вида ЕСЛИ ЗНАЧЕНИЕ ПАРАМЕТРА A < ЗНАЧЕНИЕ, ТО IRIS ОТНОСИТСЯ К КЛАССУ SETOSA - ИНАЧЕ К КАКОМУ-ТО ДРУГОМУ (НАЗОВЕМ, ЕГО НАПРИМЕР UNKNOWN)\n",
        "## При помощи команд withColumn, when, otherwise создайте в датафрейме новую колонку с таким предсказанием"
      ]
    },
    {
      "cell_type": "markdown",
      "metadata": {},
      "source": [
        "Если petal_length < 2, то Setosa"
      ]
    },
    {
      "cell_type": "code",
      "execution_count": 30,
      "metadata": {
        "id": "FXmgBm7vRM1p"
      },
      "outputs": [],
      "source": [
        "from pyspark.sql.functions import when"
      ]
    },
    {
      "cell_type": "code",
      "execution_count": 76,
      "metadata": {},
      "outputs": [],
      "source": [
        "df_predict = df.withColumn(\n",
        "    'prediction',\n",
        "    when(df['petal_length'] < 2, 'Setosa').otherwise('UNKNOWN')\n",
        ")"
      ]
    },
    {
      "cell_type": "markdown",
      "metadata": {
        "id": "M1Pw0NZ0Rjxq"
      },
      "source": [
        "## Проверьте качество своего предсказания\n",
        "Для этого:\n",
        "1. Подсчитайте количество строк, где Вы предсказали класс Setosa и правильный класс был так же Setosa\n",
        "2. Подсчитайте количество строк, где Вы предскзали класс Setosa, а правильный класс был какой-то другой (воспользуйтесь оператором \"не равно\" - !=)"
      ]
    },
    {
      "cell_type": "code",
      "execution_count": 77,
      "metadata": {
        "colab": {
          "base_uri": "https://localhost:8080/",
          "height": 34
        },
        "id": "BhGr7GoljSBy",
        "outputId": "50923e5a-fb49-4d61-9a1d-ac02f1ac8ba5"
      },
      "outputs": [
        {
          "data": {
            "text/plain": [
              "50"
            ]
          },
          "execution_count": 77,
          "metadata": {},
          "output_type": "execute_result"
        }
      ],
      "source": [
        "df_predict.where(df_predict['variety'] == df_predict['prediction']).count()"
      ]
    },
    {
      "cell_type": "code",
      "execution_count": 78,
      "metadata": {
        "colab": {
          "base_uri": "https://localhost:8080/",
          "height": 34
        },
        "id": "Mf-g88-dIGIi",
        "outputId": "e58cfe7e-bd12-44b7-8bcb-fd74bf1d0459"
      },
      "outputs": [
        {
          "data": {
            "text/plain": [
              "0"
            ]
          },
          "execution_count": 78,
          "metadata": {},
          "output_type": "execute_result"
        }
      ],
      "source": [
        "df_predict.where(\n",
        "    (df_predict['variety'] != df_predict['prediction']) &\n",
        "    (df_predict['prediction'] == 'Setosa')\n",
        ").count()"
      ]
    },
    {
      "cell_type": "code",
      "execution_count": null,
      "metadata": {
        "id": "s6je2fP2IQJ2"
      },
      "outputs": [],
      "source": []
    }
  ],
  "metadata": {
    "colab": {
      "provenance": []
    },
    "kernelspec": {
      "display_name": "Python 3",
      "name": "python3"
    },
    "language_info": {
      "codemirror_mode": {
        "name": "ipython",
        "version": 3
      },
      "file_extension": ".py",
      "mimetype": "text/x-python",
      "name": "python",
      "nbconvert_exporter": "python",
      "pygments_lexer": "ipython3",
      "version": "3.11.5"
    }
  },
  "nbformat": 4,
  "nbformat_minor": 0
}
