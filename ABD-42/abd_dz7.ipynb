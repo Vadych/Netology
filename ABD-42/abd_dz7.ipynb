{
 "cells": [
  {
   "cell_type": "markdown",
   "metadata": {},
   "source": [
    "1. Взять данные.\n",
    "2. Загрузить в PySpark.\n",
    "3. При помощи VectorAssembler преобразовать все колонки с признаками в одну (использовать Pipeline — опционально).\n",
    "4. Разбить данные на train и test.\n",
    "5. Создать модель логистической регреcсии или модель дерева и обучить её.\n",
    "6. Воспользоваться MulticlassClassificationEvaluator для оценки качества на train и test множестве."
   ]
  },
  {
   "cell_type": "code",
   "execution_count": 1,
   "metadata": {},
   "outputs": [],
   "source": [
    "from pyspark.sql import SparkSession\n",
    "from pyspark.ml.feature import VectorAssembler\n",
    "from pyspark.ml import Pipeline\n",
    "from pyspark.ml.classification import LogisticRegression\n",
    "from pyspark.ml.evaluation import MulticlassClassificationEvaluator\n",
    "from pyspark.ml.classification import DecisionTreeClassifier\n"
   ]
  },
  {
   "cell_type": "code",
   "execution_count": 2,
   "metadata": {},
   "outputs": [
    {
     "name": "stderr",
     "output_type": "stream",
     "text": [
      "24/04/26 17:09:40 WARN Utils: Your hostname, MacBook-Pro-Vadim.local resolves to a loopback address: 127.0.0.1; using 192.168.139.65 instead (on interface en0)\n",
      "24/04/26 17:09:40 WARN Utils: Set SPARK_LOCAL_IP if you need to bind to another address\n",
      "Setting default log level to \"WARN\".\n",
      "To adjust logging level use sc.setLogLevel(newLevel). For SparkR, use setLogLevel(newLevel).\n",
      "24/04/26 17:09:56 WARN NativeCodeLoader: Unable to load native-hadoop library for your platform... using builtin-java classes where applicable\n",
      "24/04/26 17:09:58 WARN Utils: Service 'SparkUI' could not bind on port 4040. Attempting port 4041.\n"
     ]
    }
   ],
   "source": [
    "spark = SparkSession.builder.master(\"local[*]\").getOrCreate()"
   ]
  },
  {
   "cell_type": "code",
   "execution_count": 3,
   "metadata": {},
   "outputs": [
    {
     "name": "stderr",
     "output_type": "stream",
     "text": [
      "                                                                                \r"
     ]
    }
   ],
   "source": [
    "df = spark.read.csv('iris.csv', header=True, inferSchema=True)"
   ]
  },
  {
   "cell_type": "code",
   "execution_count": 4,
   "metadata": {},
   "outputs": [
    {
     "name": "stdout",
     "output_type": "stream",
     "text": [
      "+------------+-----------+------------+-----------+-------+-----------+\n",
      "|sepal_length|sepal_width|petal_length|petal_width|variety|variety_num|\n",
      "+------------+-----------+------------+-----------+-------+-----------+\n",
      "|         5.1|        3.5|         1.4|        0.2| Setosa|          0|\n",
      "|         4.9|        3.0|         1.4|        0.2| Setosa|          0|\n",
      "|         4.7|        3.2|         1.3|        0.2| Setosa|          0|\n",
      "|         4.6|        3.1|         1.5|        0.2| Setosa|          0|\n",
      "|         5.0|        3.6|         1.4|        0.2| Setosa|          0|\n",
      "|         5.4|        3.9|         1.7|        0.4| Setosa|          0|\n",
      "|         4.6|        3.4|         1.4|        0.3| Setosa|          0|\n",
      "|         5.0|        3.4|         1.5|        0.2| Setosa|          0|\n",
      "|         4.4|        2.9|         1.4|        0.2| Setosa|          0|\n",
      "|         4.9|        3.1|         1.5|        0.1| Setosa|          0|\n",
      "|         5.4|        3.7|         1.5|        0.2| Setosa|          0|\n",
      "|         4.8|        3.4|         1.6|        0.2| Setosa|          0|\n",
      "|         4.8|        3.0|         1.4|        0.1| Setosa|          0|\n",
      "|         4.3|        3.0|         1.1|        0.1| Setosa|          0|\n",
      "|         5.8|        4.0|         1.2|        0.2| Setosa|          0|\n",
      "|         5.7|        4.4|         1.5|        0.4| Setosa|          0|\n",
      "|         5.4|        3.9|         1.3|        0.4| Setosa|          0|\n",
      "|         5.1|        3.5|         1.4|        0.3| Setosa|          0|\n",
      "|         5.7|        3.8|         1.7|        0.3| Setosa|          0|\n",
      "|         5.1|        3.8|         1.5|        0.3| Setosa|          0|\n",
      "+------------+-----------+------------+-----------+-------+-----------+\n",
      "only showing top 20 rows\n",
      "\n"
     ]
    }
   ],
   "source": [
    "df.show()"
   ]
  },
  {
   "cell_type": "code",
   "execution_count": 10,
   "metadata": {},
   "outputs": [
    {
     "name": "stdout",
     "output_type": "stream",
     "text": [
      "+-------+------------------+-------------------+------------------+------------------+---------+------------------+\n",
      "|summary|      sepal_length|        sepal_width|      petal_length|       petal_width|  variety|       variety_num|\n",
      "+-------+------------------+-------------------+------------------+------------------+---------+------------------+\n",
      "|  count|               150|                150|               150|               150|      150|               150|\n",
      "|   mean| 5.843333333333335|  3.057333333333334|3.7580000000000027| 1.199333333333334|     NULL|               1.0|\n",
      "| stddev|0.8280661279778637|0.43586628493669793|1.7652982332594662|0.7622376689603467|     NULL|0.8192319205190406|\n",
      "|    min|               4.3|                2.0|               1.0|               0.1|   Setosa|                 0|\n",
      "|    max|               7.9|                4.4|               6.9|               2.5|Virginica|                 2|\n",
      "+-------+------------------+-------------------+------------------+------------------+---------+------------------+\n",
      "\n"
     ]
    }
   ],
   "source": [
    "df.describe().show()"
   ]
  },
  {
   "cell_type": "code",
   "execution_count": 13,
   "metadata": {},
   "outputs": [],
   "source": [
    "pipeline = Pipeline(stages=\n",
    "[\n",
    "    VectorAssembler(\n",
    "        inputCols = ['sepal_length','sepal_width', 'petal_length', 'petal_width'],\n",
    "        outputCol='features')\n",
    "])"
   ]
  },
  {
   "cell_type": "code",
   "execution_count": 15,
   "metadata": {},
   "outputs": [],
   "source": [
    "pipeline_fit = pipeline.fit(df)\n",
    "df_feat = pipeline_fit.transform(df)"
   ]
  },
  {
   "cell_type": "code",
   "execution_count": 16,
   "metadata": {},
   "outputs": [
    {
     "name": "stdout",
     "output_type": "stream",
     "text": [
      "+------------+-----------+------------+-----------+-------+-----------+-----------------+\n",
      "|sepal_length|sepal_width|petal_length|petal_width|variety|variety_num|         features|\n",
      "+------------+-----------+------------+-----------+-------+-----------+-----------------+\n",
      "|         5.1|        3.5|         1.4|        0.2| Setosa|          0|[5.1,3.5,1.4,0.2]|\n",
      "|         4.9|        3.0|         1.4|        0.2| Setosa|          0|[4.9,3.0,1.4,0.2]|\n",
      "|         4.7|        3.2|         1.3|        0.2| Setosa|          0|[4.7,3.2,1.3,0.2]|\n",
      "|         4.6|        3.1|         1.5|        0.2| Setosa|          0|[4.6,3.1,1.5,0.2]|\n",
      "|         5.0|        3.6|         1.4|        0.2| Setosa|          0|[5.0,3.6,1.4,0.2]|\n",
      "|         5.4|        3.9|         1.7|        0.4| Setosa|          0|[5.4,3.9,1.7,0.4]|\n",
      "|         4.6|        3.4|         1.4|        0.3| Setosa|          0|[4.6,3.4,1.4,0.3]|\n",
      "|         5.0|        3.4|         1.5|        0.2| Setosa|          0|[5.0,3.4,1.5,0.2]|\n",
      "|         4.4|        2.9|         1.4|        0.2| Setosa|          0|[4.4,2.9,1.4,0.2]|\n",
      "|         4.9|        3.1|         1.5|        0.1| Setosa|          0|[4.9,3.1,1.5,0.1]|\n",
      "|         5.4|        3.7|         1.5|        0.2| Setosa|          0|[5.4,3.7,1.5,0.2]|\n",
      "|         4.8|        3.4|         1.6|        0.2| Setosa|          0|[4.8,3.4,1.6,0.2]|\n",
      "|         4.8|        3.0|         1.4|        0.1| Setosa|          0|[4.8,3.0,1.4,0.1]|\n",
      "|         4.3|        3.0|         1.1|        0.1| Setosa|          0|[4.3,3.0,1.1,0.1]|\n",
      "|         5.8|        4.0|         1.2|        0.2| Setosa|          0|[5.8,4.0,1.2,0.2]|\n",
      "|         5.7|        4.4|         1.5|        0.4| Setosa|          0|[5.7,4.4,1.5,0.4]|\n",
      "|         5.4|        3.9|         1.3|        0.4| Setosa|          0|[5.4,3.9,1.3,0.4]|\n",
      "|         5.1|        3.5|         1.4|        0.3| Setosa|          0|[5.1,3.5,1.4,0.3]|\n",
      "|         5.7|        3.8|         1.7|        0.3| Setosa|          0|[5.7,3.8,1.7,0.3]|\n",
      "|         5.1|        3.8|         1.5|        0.3| Setosa|          0|[5.1,3.8,1.5,0.3]|\n",
      "+------------+-----------+------------+-----------+-------+-----------+-----------------+\n",
      "only showing top 20 rows\n",
      "\n"
     ]
    }
   ],
   "source": [
    "df_feat.show()"
   ]
  },
  {
   "cell_type": "code",
   "execution_count": 17,
   "metadata": {},
   "outputs": [],
   "source": [
    "train, test = df_feat.randomSplit([0.7, 0.3])"
   ]
  },
  {
   "cell_type": "code",
   "execution_count": 21,
   "metadata": {},
   "outputs": [],
   "source": [
    "lr = LogisticRegression(featuresCol='features', labelCol='variety_num')\n",
    "lr = lr.fit(train)"
   ]
  },
  {
   "cell_type": "code",
   "execution_count": 22,
   "metadata": {},
   "outputs": [],
   "source": [
    "train_pred = lr.transform(train)\n",
    "test_pred = lr.transform(test)"
   ]
  },
  {
   "cell_type": "code",
   "execution_count": 23,
   "metadata": {},
   "outputs": [
    {
     "name": "stdout",
     "output_type": "stream",
     "text": [
      "+------------+-----------+------------+-----------+----------+-----------+-----------------+--------------------+--------------------+----------+\n",
      "|sepal_length|sepal_width|petal_length|petal_width|   variety|variety_num|         features|       rawPrediction|         probability|prediction|\n",
      "+------------+-----------+------------+-----------+----------+-----------+-----------------+--------------------+--------------------+----------+\n",
      "|         4.4|        2.9|         1.4|        0.2|    Setosa|          0|[4.4,2.9,1.4,0.2]|[674.364309024481...|[1.0,2.1717266695...|       0.0|\n",
      "|         4.4|        3.0|         1.3|        0.2|    Setosa|          0|[4.4,3.0,1.3,0.2]|[712.669171340770...|[1.0,8.1174444199...|       0.0|\n",
      "|         4.6|        3.1|         1.5|        0.2|    Setosa|          0|[4.6,3.1,1.5,0.2]|[688.843358170942...|[1.0,4.3979956715...|       0.0|\n",
      "|         4.6|        3.2|         1.4|        0.2|    Setosa|          0|[4.6,3.2,1.4,0.2]|[727.148220487231...|[1.0,1.6438756277...|       0.0|\n",
      "|         4.7|        3.2|         1.3|        0.2|    Setosa|          0|[4.7,3.2,1.3,0.2]|[724.569970711997...|[1.0,5.2079404564...|       0.0|\n",
      "|         4.8|        3.0|         1.4|        0.1|    Setosa|          0|[4.8,3.0,1.4,0.1]|[669.993912536269...|[1.0,2.4752722644...|       0.0|\n",
      "|         4.8|        3.0|         1.4|        0.3|    Setosa|          0|[4.8,3.0,1.4,0.3]|[620.770080072103...|[1.0,5.6343849565...|       0.0|\n",
      "|         4.8|        3.1|         1.6|        0.2|    Setosa|          0|[4.8,3.1,1.6,0.2]|[649.502353059085...|[1.0,8.7221837032...|       0.0|\n",
      "|         4.8|        3.4|         1.6|        0.2|    Setosa|          0|[4.8,3.4,1.6,0.2]|[730.232434446562...|[1.0,9.0000315338...|       0.0|\n",
      "|         4.9|        2.4|         3.3|        1.0|Versicolor|          1|[4.9,2.4,3.3,1.0]|[56.5515501547362...|[2.43670420179195...|       1.0|\n",
      "|         4.9|        2.5|         4.5|        1.7| Virginica|          2|[4.9,2.5,4.5,1.7]|[-225.55985858624...|[4.70889098739742...|       2.0|\n",
      "|         4.9|        3.0|         1.4|        0.2|    Setosa|          0|[4.9,3.0,1.4,0.2]|[631.408911341822...|[1.0,1.0114798624...|       0.0|\n",
      "|         4.9|        3.1|         1.5|        0.1|    Setosa|          0|[4.9,3.1,1.5,0.1]|[671.536019515935...|[1.0,5.7917594082...|       0.0|\n",
      "|         4.9|        3.1|         1.5|        0.2|    Setosa|          0|[4.9,3.1,1.5,0.2]|[646.924103283851...|[1.0,2.7632633885...|       0.0|\n",
      "|         4.9|        3.6|         1.4|        0.1|    Setosa|          0|[4.9,3.6,1.4,0.1]|[817.480990348859...|[1.0,2.2572677363...|       0.0|\n",
      "|         5.0|        2.3|         3.3|        1.0|Versicolor|          1|[5.0,2.3,3.3,1.0]|[15.6684380632136...|[2.87488129792094...|       1.0|\n",
      "|         5.0|        3.0|         1.6|        0.2|    Setosa|          0|[5.0,3.0,1.6,0.2]|[594.646156005199...|[1.0,6.3318500153...|       0.0|\n",
      "|         5.0|        3.3|         1.4|        0.2|    Setosa|          0|[5.0,3.3,1.4,0.2]|[698.165907766936...|[1.0,8.9391976052...|       0.0|\n",
      "|         5.0|        3.4|         1.5|        0.2|    Setosa|          0|[5.0,3.4,1.5,0.2]|[713.681099708965...|[1.0,2.4421007657...|       0.0|\n",
      "|         5.0|        3.5|         1.3|        0.3|    Setosa|          0|[5.0,3.5,1.3,0.3]|[738.768880980301...|[1.0,1.6108832562...|       0.0|\n",
      "+------------+-----------+------------+-----------+----------+-----------+-----------------+--------------------+--------------------+----------+\n",
      "only showing top 20 rows\n",
      "\n"
     ]
    }
   ],
   "source": [
    "train_pred.show()"
   ]
  },
  {
   "cell_type": "code",
   "execution_count": 28,
   "metadata": {},
   "outputs": [],
   "source": [
    "ev = MulticlassClassificationEvaluator(labelCol='variety_num')"
   ]
  },
  {
   "cell_type": "code",
   "execution_count": 30,
   "metadata": {},
   "outputs": [
    {
     "data": {
      "text/plain": [
       "(1.0, 0.959086491739553)"
      ]
     },
     "execution_count": 30,
     "metadata": {},
     "output_type": "execute_result"
    }
   ],
   "source": [
    "ev.evaluate(train_pred), ev.evaluate(test_pred)"
   ]
  },
  {
   "cell_type": "code",
   "execution_count": 35,
   "metadata": {},
   "outputs": [],
   "source": [
    "tree = DecisionTreeClassifier(labelCol='variety_num')\n",
    "tree = tree.fit(train)"
   ]
  },
  {
   "cell_type": "code",
   "execution_count": 38,
   "metadata": {},
   "outputs": [],
   "source": [
    "tr_train_pred = lr.transform(train)\n",
    "tr_test_pred = lr.transform(test)"
   ]
  },
  {
   "cell_type": "code",
   "execution_count": 40,
   "metadata": {},
   "outputs": [
    {
     "data": {
      "text/plain": [
       "(1.0, 0.959086491739553)"
      ]
     },
     "execution_count": 40,
     "metadata": {},
     "output_type": "execute_result"
    }
   ],
   "source": [
    "ev.evaluate(tr_train_pred), ev.evaluate(tr_test_pred)"
   ]
  },
  {
   "cell_type": "code",
   "execution_count": null,
   "metadata": {},
   "outputs": [],
   "source": []
  }
 ],
 "metadata": {
  "kernelspec": {
   "display_name": "base",
   "language": "python",
   "name": "python3"
  },
  "language_info": {
   "codemirror_mode": {
    "name": "ipython",
    "version": 3
   },
   "file_extension": ".py",
   "mimetype": "text/x-python",
   "name": "python",
   "nbconvert_exporter": "python",
   "pygments_lexer": "ipython3",
   "version": "3.11.5"
  }
 },
 "nbformat": 4,
 "nbformat_minor": 2
}
