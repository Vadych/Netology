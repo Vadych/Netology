{
 "cells": [
  {
   "cell_type": "markdown",
   "metadata": {},
   "source": [
    "# Часть 1. Pandas"
   ]
  },
  {
   "cell_type": "code",
   "execution_count": 1,
   "metadata": {},
   "outputs": [],
   "source": [
    "import pandas as pd"
   ]
  },
  {
   "cell_type": "code",
   "execution_count": 2,
   "metadata": {},
   "outputs": [],
   "source": [
    "ratings_col = ['user_id', 'item_id', 'rating', 'timestamp']\n",
    "movies_col = ['movie_id', 'movie_title', 'release_date', 'video_release_date', 'imdb_url']\n",
    "genres_col = ['unknown', 'action', 'adventure', 'animation', 'children', \n",
    "              'comedy', 'crime', 'documentary', 'drama', 'fantasy', \n",
    "              'film-noir', 'horror', 'musical', 'mystery', 'romance',\n",
    "              'sci-fi', 'thriller', 'war', 'western']"
   ]
  },
  {
   "cell_type": "code",
   "execution_count": 3,
   "metadata": {},
   "outputs": [],
   "source": [
    "df_ratings = pd.read_csv('u.data.csv', sep='\\t', names=ratings_col)\n",
    "df_movies = pd.read_csv('u.item.csv', sep='|', names=movies_col+genres_col, encoding='latin-1')"
   ]
  },
  {
   "cell_type": "code",
   "execution_count": 4,
   "metadata": {},
   "outputs": [
    {
     "data": {
      "text/plain": [
       "405"
      ]
     },
     "execution_count": 4,
     "metadata": {},
     "output_type": "execute_result"
    }
   ],
   "source": [
    "max_rating_user = df_ratings.groupby('user_id')['rating'].count().sort_values(ascending=False).reset_index().iloc[0, 0]\n",
    "max_rating_user"
   ]
  },
  {
   "cell_type": "code",
   "execution_count": 5,
   "metadata": {},
   "outputs": [
    {
     "data": {
      "text/html": [
       "<div>\n",
       "<style scoped>\n",
       "    .dataframe tbody tr th:only-of-type {\n",
       "        vertical-align: middle;\n",
       "    }\n",
       "\n",
       "    .dataframe tbody tr th {\n",
       "        vertical-align: top;\n",
       "    }\n",
       "\n",
       "    .dataframe thead th {\n",
       "        text-align: right;\n",
       "    }\n",
       "</style>\n",
       "<table border=\"1\" class=\"dataframe\">\n",
       "  <thead>\n",
       "    <tr style=\"text-align: right;\">\n",
       "      <th></th>\n",
       "      <th>user_id</th>\n",
       "      <th>item_id</th>\n",
       "      <th>rating</th>\n",
       "      <th>timestamp</th>\n",
       "    </tr>\n",
       "  </thead>\n",
       "  <tbody>\n",
       "    <tr>\n",
       "      <th>12276</th>\n",
       "      <td>405</td>\n",
       "      <td>56</td>\n",
       "      <td>4</td>\n",
       "      <td>885544911</td>\n",
       "    </tr>\n",
       "    <tr>\n",
       "      <th>12383</th>\n",
       "      <td>405</td>\n",
       "      <td>592</td>\n",
       "      <td>1</td>\n",
       "      <td>885548670</td>\n",
       "    </tr>\n",
       "    <tr>\n",
       "      <th>12430</th>\n",
       "      <td>405</td>\n",
       "      <td>1582</td>\n",
       "      <td>1</td>\n",
       "      <td>885548670</td>\n",
       "    </tr>\n",
       "    <tr>\n",
       "      <th>12449</th>\n",
       "      <td>405</td>\n",
       "      <td>171</td>\n",
       "      <td>1</td>\n",
       "      <td>885549544</td>\n",
       "    </tr>\n",
       "    <tr>\n",
       "      <th>12460</th>\n",
       "      <td>405</td>\n",
       "      <td>580</td>\n",
       "      <td>1</td>\n",
       "      <td>885547447</td>\n",
       "    </tr>\n",
       "    <tr>\n",
       "      <th>...</th>\n",
       "      <td>...</td>\n",
       "      <td>...</td>\n",
       "      <td>...</td>\n",
       "      <td>...</td>\n",
       "    </tr>\n",
       "    <tr>\n",
       "      <th>98956</th>\n",
       "      <td>405</td>\n",
       "      <td>375</td>\n",
       "      <td>1</td>\n",
       "      <td>885546835</td>\n",
       "    </tr>\n",
       "    <tr>\n",
       "      <th>98978</th>\n",
       "      <td>405</td>\n",
       "      <td>445</td>\n",
       "      <td>4</td>\n",
       "      <td>885548435</td>\n",
       "    </tr>\n",
       "    <tr>\n",
       "      <th>99148</th>\n",
       "      <td>405</td>\n",
       "      <td>1246</td>\n",
       "      <td>1</td>\n",
       "      <td>885547735</td>\n",
       "    </tr>\n",
       "    <tr>\n",
       "      <th>99465</th>\n",
       "      <td>405</td>\n",
       "      <td>196</td>\n",
       "      <td>1</td>\n",
       "      <td>885546112</td>\n",
       "    </tr>\n",
       "    <tr>\n",
       "      <th>99756</th>\n",
       "      <td>405</td>\n",
       "      <td>958</td>\n",
       "      <td>1</td>\n",
       "      <td>885549590</td>\n",
       "    </tr>\n",
       "  </tbody>\n",
       "</table>\n",
       "<p>737 rows × 4 columns</p>\n",
       "</div>"
      ],
      "text/plain": [
       "       user_id  item_id  rating  timestamp\n",
       "12276      405       56       4  885544911\n",
       "12383      405      592       1  885548670\n",
       "12430      405     1582       1  885548670\n",
       "12449      405      171       1  885549544\n",
       "12460      405      580       1  885547447\n",
       "...        ...      ...     ...        ...\n",
       "98956      405      375       1  885546835\n",
       "98978      405      445       4  885548435\n",
       "99148      405     1246       1  885547735\n",
       "99465      405      196       1  885546112\n",
       "99756      405      958       1  885549590\n",
       "\n",
       "[737 rows x 4 columns]"
      ]
     },
     "execution_count": 5,
     "metadata": {},
     "output_type": "execute_result"
    }
   ],
   "source": [
    "df_new_ratings = df_ratings[df_ratings.user_id == max_rating_user]\n",
    "df_new_ratings"
   ]
  },
  {
   "cell_type": "code",
   "execution_count": 6,
   "metadata": {},
   "outputs": [],
   "source": [
    "df_movies['year'] = pd.to_numeric(\n",
    "    df_movies.release_date.str.slice(start=-4),\n",
    "    errors='coerce'\n",
    ")"
   ]
  },
  {
   "cell_type": "code",
   "execution_count": 7,
   "metadata": {},
   "outputs": [],
   "source": [
    "# Есть одно пустое значение - заполним его\n",
    "df_movies.fillna(\n",
    "    value=df_movies['year'].median(),\n",
    "    inplace=True\n",
    ")"
   ]
  },
  {
   "cell_type": "code",
   "execution_count": 8,
   "metadata": {},
   "outputs": [
    {
     "data": {
      "text/html": [
       "<div>\n",
       "<style scoped>\n",
       "    .dataframe tbody tr th:only-of-type {\n",
       "        vertical-align: middle;\n",
       "    }\n",
       "\n",
       "    .dataframe tbody tr th {\n",
       "        vertical-align: top;\n",
       "    }\n",
       "\n",
       "    .dataframe thead th {\n",
       "        text-align: right;\n",
       "    }\n",
       "</style>\n",
       "<table border=\"1\" class=\"dataframe\">\n",
       "  <thead>\n",
       "    <tr style=\"text-align: right;\">\n",
       "      <th></th>\n",
       "      <th>user_id</th>\n",
       "      <th>item_id</th>\n",
       "      <th>rating</th>\n",
       "      <th>timestamp</th>\n",
       "      <th>rating_count</th>\n",
       "      <th>rating_mean</th>\n",
       "      <th>movie_id</th>\n",
       "      <th>year</th>\n",
       "      <th>unknown</th>\n",
       "      <th>action</th>\n",
       "      <th>...</th>\n",
       "      <th>fantasy</th>\n",
       "      <th>film-noir</th>\n",
       "      <th>horror</th>\n",
       "      <th>musical</th>\n",
       "      <th>mystery</th>\n",
       "      <th>romance</th>\n",
       "      <th>sci-fi</th>\n",
       "      <th>thriller</th>\n",
       "      <th>war</th>\n",
       "      <th>western</th>\n",
       "    </tr>\n",
       "  </thead>\n",
       "  <tbody>\n",
       "    <tr>\n",
       "      <th>0</th>\n",
       "      <td>405</td>\n",
       "      <td>56</td>\n",
       "      <td>4</td>\n",
       "      <td>885544911</td>\n",
       "      <td>394</td>\n",
       "      <td>4.060914</td>\n",
       "      <td>56</td>\n",
       "      <td>1994.0</td>\n",
       "      <td>0</td>\n",
       "      <td>0</td>\n",
       "      <td>...</td>\n",
       "      <td>0</td>\n",
       "      <td>0</td>\n",
       "      <td>0</td>\n",
       "      <td>0</td>\n",
       "      <td>0</td>\n",
       "      <td>0</td>\n",
       "      <td>0</td>\n",
       "      <td>0</td>\n",
       "      <td>0</td>\n",
       "      <td>0</td>\n",
       "    </tr>\n",
       "    <tr>\n",
       "      <th>1</th>\n",
       "      <td>405</td>\n",
       "      <td>592</td>\n",
       "      <td>1</td>\n",
       "      <td>885548670</td>\n",
       "      <td>9</td>\n",
       "      <td>3.333333</td>\n",
       "      <td>592</td>\n",
       "      <td>1995.0</td>\n",
       "      <td>0</td>\n",
       "      <td>0</td>\n",
       "      <td>...</td>\n",
       "      <td>0</td>\n",
       "      <td>0</td>\n",
       "      <td>0</td>\n",
       "      <td>0</td>\n",
       "      <td>1</td>\n",
       "      <td>0</td>\n",
       "      <td>0</td>\n",
       "      <td>1</td>\n",
       "      <td>0</td>\n",
       "      <td>0</td>\n",
       "    </tr>\n",
       "    <tr>\n",
       "      <th>2</th>\n",
       "      <td>405</td>\n",
       "      <td>1582</td>\n",
       "      <td>1</td>\n",
       "      <td>885548670</td>\n",
       "      <td>1</td>\n",
       "      <td>1.000000</td>\n",
       "      <td>1582</td>\n",
       "      <td>1947.0</td>\n",
       "      <td>0</td>\n",
       "      <td>0</td>\n",
       "      <td>...</td>\n",
       "      <td>0</td>\n",
       "      <td>1</td>\n",
       "      <td>0</td>\n",
       "      <td>0</td>\n",
       "      <td>0</td>\n",
       "      <td>0</td>\n",
       "      <td>0</td>\n",
       "      <td>0</td>\n",
       "      <td>0</td>\n",
       "      <td>0</td>\n",
       "    </tr>\n",
       "    <tr>\n",
       "      <th>3</th>\n",
       "      <td>405</td>\n",
       "      <td>171</td>\n",
       "      <td>1</td>\n",
       "      <td>885549544</td>\n",
       "      <td>65</td>\n",
       "      <td>3.876923</td>\n",
       "      <td>171</td>\n",
       "      <td>1991.0</td>\n",
       "      <td>0</td>\n",
       "      <td>0</td>\n",
       "      <td>...</td>\n",
       "      <td>0</td>\n",
       "      <td>0</td>\n",
       "      <td>0</td>\n",
       "      <td>0</td>\n",
       "      <td>0</td>\n",
       "      <td>0</td>\n",
       "      <td>1</td>\n",
       "      <td>0</td>\n",
       "      <td>0</td>\n",
       "      <td>0</td>\n",
       "    </tr>\n",
       "    <tr>\n",
       "      <th>4</th>\n",
       "      <td>405</td>\n",
       "      <td>580</td>\n",
       "      <td>1</td>\n",
       "      <td>885547447</td>\n",
       "      <td>32</td>\n",
       "      <td>3.375000</td>\n",
       "      <td>580</td>\n",
       "      <td>1995.0</td>\n",
       "      <td>0</td>\n",
       "      <td>0</td>\n",
       "      <td>...</td>\n",
       "      <td>0</td>\n",
       "      <td>0</td>\n",
       "      <td>0</td>\n",
       "      <td>0</td>\n",
       "      <td>0</td>\n",
       "      <td>1</td>\n",
       "      <td>0</td>\n",
       "      <td>0</td>\n",
       "      <td>0</td>\n",
       "      <td>0</td>\n",
       "    </tr>\n",
       "  </tbody>\n",
       "</table>\n",
       "<p>5 rows × 27 columns</p>\n",
       "</div>"
      ],
      "text/plain": [
       "   user_id  item_id  rating  timestamp  rating_count  rating_mean  movie_id  \\\n",
       "0      405       56       4  885544911           394     4.060914        56   \n",
       "1      405      592       1  885548670             9     3.333333       592   \n",
       "2      405     1582       1  885548670             1     1.000000      1582   \n",
       "3      405      171       1  885549544            65     3.876923       171   \n",
       "4      405      580       1  885547447            32     3.375000       580   \n",
       "\n",
       "     year  unknown  action  ...  fantasy  film-noir  horror  musical  mystery  \\\n",
       "0  1994.0        0       0  ...        0          0       0        0        0   \n",
       "1  1995.0        0       0  ...        0          0       0        0        1   \n",
       "2  1947.0        0       0  ...        0          1       0        0        0   \n",
       "3  1991.0        0       0  ...        0          0       0        0        0   \n",
       "4  1995.0        0       0  ...        0          0       0        0        0   \n",
       "\n",
       "   romance  sci-fi  thriller  war  western  \n",
       "0        0       0         0    0        0  \n",
       "1        0       0         1    0        0  \n",
       "2        0       0         0    0        0  \n",
       "3        0       1         0    0        0  \n",
       "4        1       0         0    0        0  \n",
       "\n",
       "[5 rows x 27 columns]"
      ]
     },
     "execution_count": 8,
     "metadata": {},
     "output_type": "execute_result"
    }
   ],
   "source": [
    "df_new_ratings = df_new_ratings.merge(\n",
    "    df_ratings.groupby('item_id').agg(\n",
    "        rating_count = ('rating', 'count'), \n",
    "        rating_mean = ('rating', 'mean')\n",
    "    ),\n",
    "    how='left',\n",
    "    left_on='item_id',\n",
    "    right_index=True\n",
    ").merge(\n",
    "    df_movies[['movie_id', 'year']+genres_col],\n",
    "    how='left',\n",
    "    left_on='item_id',\n",
    "    right_on='movie_id'\n",
    "\n",
    ")\n",
    "df_new_ratings.head()"
   ]
  },
  {
   "cell_type": "code",
   "execution_count": 9,
   "metadata": {},
   "outputs": [],
   "source": [
    "from sklearn.model_selection import train_test_split\n",
    "from sklearn.linear_model import LinearRegression\n",
    "from sklearn.metrics import mean_squared_error, r2_score\n"
   ]
  },
  {
   "cell_type": "code",
   "execution_count": 10,
   "metadata": {},
   "outputs": [],
   "source": [
    "X_test, X_train, y_test, y_train = train_test_split(\n",
    "    df_new_ratings[['year', 'rating_count', 'rating_mean']+ genres_col],\n",
    "    df_new_ratings['rating'],\n",
    "    random_state=42\n",
    ")"
   ]
  },
  {
   "cell_type": "code",
   "execution_count": 11,
   "metadata": {},
   "outputs": [],
   "source": [
    "lr = LinearRegression().fit(X_train, y_train)\n"
   ]
  },
  {
   "cell_type": "code",
   "execution_count": 12,
   "metadata": {},
   "outputs": [
    {
     "data": {
      "text/plain": [
       "0.2573310972549465"
      ]
     },
     "execution_count": 12,
     "metadata": {},
     "output_type": "execute_result"
    }
   ],
   "source": [
    "lr.score(X_train, y_train)"
   ]
  },
  {
   "cell_type": "code",
   "execution_count": 13,
   "metadata": {},
   "outputs": [
    {
     "data": {
      "text/plain": [
       "0.29369532380547103"
      ]
     },
     "execution_count": 13,
     "metadata": {},
     "output_type": "execute_result"
    }
   ],
   "source": [
    "lr.score(X_test, y_test)"
   ]
  },
  {
   "cell_type": "markdown",
   "metadata": {},
   "source": [
    "Так себе модель получилась"
   ]
  },
  {
   "cell_type": "markdown",
   "metadata": {},
   "source": [
    "# Часть 2. Spark"
   ]
  },
  {
   "cell_type": "code",
   "execution_count": 14,
   "metadata": {},
   "outputs": [
    {
     "name": "stderr",
     "output_type": "stream",
     "text": [
      "24/04/26 17:29:54 WARN Utils: Your hostname, MacBook-Pro-Vadim.local resolves to a loopback address: 127.0.0.1; using 192.168.139.65 instead (on interface en0)\n",
      "24/04/26 17:29:54 WARN Utils: Set SPARK_LOCAL_IP if you need to bind to another address\n",
      "Setting default log level to \"WARN\".\n",
      "To adjust logging level use sc.setLogLevel(newLevel). For SparkR, use setLogLevel(newLevel).\n",
      "24/04/26 17:30:09 WARN NativeCodeLoader: Unable to load native-hadoop library for your platform... using builtin-java classes where applicable\n"
     ]
    }
   ],
   "source": [
    "from pyspark.sql import SparkSession\n",
    "\n",
    "spark = SparkSession.builder.master(\"local[*]\").appName(\"itog\").getOrCreate()"
   ]
  },
  {
   "cell_type": "code",
   "execution_count": 27,
   "metadata": {},
   "outputs": [],
   "source": [
    "dfs_ratings = spark.read.option('delimiter', '\\t').csv(\n",
    "    'u.data.csv', \n",
    "    header=False, \n",
    "    inferSchema=True\n",
    "    ).toDF(*ratings_col)\n",
    "\n",
    "dfs_movies = spark.read.option('delimiter', '|').csv(\n",
    "    'u.item.csv', \n",
    "    header=False, \n",
    "    inferSchema=True).toDF(*(movies_col + genres_col))"
   ]
  },
  {
   "cell_type": "code",
   "execution_count": 28,
   "metadata": {},
   "outputs": [
    {
     "name": "stdout",
     "output_type": "stream",
     "text": [
      "+-------+-------+------+---------+\n",
      "|user_id|item_id|rating|timestamp|\n",
      "+-------+-------+------+---------+\n",
      "|    196|    242|     3|881250949|\n",
      "|    186|    302|     3|891717742|\n",
      "|     22|    377|     1|878887116|\n",
      "|    244|     51|     2|880606923|\n",
      "|    166|    346|     1|886397596|\n",
      "+-------+-------+------+---------+\n",
      "only showing top 5 rows\n",
      "\n"
     ]
    }
   ],
   "source": [
    "dfs_ratings.show(5)"
   ]
  },
  {
   "cell_type": "code",
   "execution_count": 29,
   "metadata": {},
   "outputs": [
    {
     "name": "stdout",
     "output_type": "stream",
     "text": [
      "+--------+-----------------+------------+------------------+--------------------+-------+------+---------+---------+--------+------+-----+-----------+-----+-------+---------+------+-------+-------+-------+------+--------+---+-------+\n",
      "|movie_id|      movie_title|release_date|video_release_date|            imdb_url|unknown|action|adventure|animation|children|comedy|crime|documentary|drama|fantasy|film-noir|horror|musical|mystery|romance|sci-fi|thriller|war|western|\n",
      "+--------+-----------------+------------+------------------+--------------------+-------+------+---------+---------+--------+------+-----+-----------+-----+-------+---------+------+-------+-------+-------+------+--------+---+-------+\n",
      "|       1| Toy Story (1995)| 01-Jan-1995|              NULL|http://us.imdb.co...|      0|     0|        0|        1|       1|     1|    0|          0|    0|      0|        0|     0|      0|      0|      0|     0|       0|  0|      0|\n",
      "|       2| GoldenEye (1995)| 01-Jan-1995|              NULL|http://us.imdb.co...|      0|     1|        1|        0|       0|     0|    0|          0|    0|      0|        0|     0|      0|      0|      0|     0|       1|  0|      0|\n",
      "|       3|Four Rooms (1995)| 01-Jan-1995|              NULL|http://us.imdb.co...|      0|     0|        0|        0|       0|     0|    0|          0|    0|      0|        0|     0|      0|      0|      0|     0|       1|  0|      0|\n",
      "|       4|Get Shorty (1995)| 01-Jan-1995|              NULL|http://us.imdb.co...|      0|     1|        0|        0|       0|     1|    0|          0|    1|      0|        0|     0|      0|      0|      0|     0|       0|  0|      0|\n",
      "|       5|   Copycat (1995)| 01-Jan-1995|              NULL|http://us.imdb.co...|      0|     0|        0|        0|       0|     0|    1|          0|    1|      0|        0|     0|      0|      0|      0|     0|       1|  0|      0|\n",
      "+--------+-----------------+------------+------------------+--------------------+-------+------+---------+---------+--------+------+-----+-----------+-----+-------+---------+------+-------+-------+-------+------+--------+---+-------+\n",
      "only showing top 5 rows\n",
      "\n"
     ]
    }
   ],
   "source": [
    "dfs_movies.show(5)"
   ]
  },
  {
   "cell_type": "code",
   "execution_count": 35,
   "metadata": {},
   "outputs": [
    {
     "name": "stderr",
     "output_type": "stream",
     "text": [
      "24/04/26 18:19:37 WARN SparkStringUtils: Truncated the string representation of a plan since it was too large. This behavior can be adjusted by setting 'spark.sql.debug.maxToStringFields'.\n"
     ]
    },
    {
     "name": "stdout",
     "output_type": "stream",
     "text": [
      "+-------+-------+------+---------+--------+--------------------+------------+------------------+--------------------+-------+------+---------+---------+--------+------+-----+-----------+-----+-------+---------+------+-------+-------+-------+------+--------+---+-------+\n",
      "|user_id|item_id|rating|timestamp|movie_id|         movie_title|release_date|video_release_date|            imdb_url|unknown|action|adventure|animation|children|comedy|crime|documentary|drama|fantasy|film-noir|horror|musical|mystery|romance|sci-fi|thriller|war|western|\n",
      "+-------+-------+------+---------+--------+--------------------+------------+------------------+--------------------+-------+------+---------+---------+--------+------+-----+-----------+-----+-------+---------+------+-------+-------+-------+------+--------+---+-------+\n",
      "|    196|    242|     3|881250949|     242|        Kolya (1996)| 24-Jan-1997|              NULL|http://us.imdb.co...|      0|     0|        0|        0|       0|     1|    0|          0|    0|      0|        0|     0|      0|      0|      0|     0|       0|  0|      0|\n",
      "|    186|    302|     3|891717742|     302|L.A. Confidential...| 01-Jan-1997|              NULL|http://us.imdb.co...|      0|     0|        0|        0|       0|     0|    1|          0|    0|      0|        1|     0|      0|      1|      0|     0|       1|  0|      0|\n",
      "|     22|    377|     1|878887116|     377| Heavyweights (1994)| 01-Jan-1994|              NULL|http://us.imdb.co...|      0|     0|        0|        0|       1|     1|    0|          0|    0|      0|        0|     0|      0|      0|      0|     0|       0|  0|      0|\n",
      "|    244|     51|     2|880606923|      51|Legends of the Fa...| 01-Jan-1994|              NULL|http://us.imdb.co...|      0|     0|        0|        0|       0|     0|    0|          0|    1|      0|        0|     0|      0|      0|      1|     0|       0|  1|      1|\n",
      "|    166|    346|     1|886397596|     346| Jackie Brown (1997)| 01-Jan-1997|              NULL|http://us.imdb.co...|      0|     0|        0|        0|       0|     0|    1|          0|    1|      0|        0|     0|      0|      0|      0|     0|       0|  0|      0|\n",
      "+-------+-------+------+---------+--------+--------------------+------------+------------------+--------------------+-------+------+---------+---------+--------+------+-----+-----------+-----+-------+---------+------+-------+-------+-------+------+--------+---+-------+\n",
      "only showing top 5 rows\n",
      "\n"
     ]
    }
   ],
   "source": [
    "dfs_ratings_movies = dfs_ratings.join(\n",
    "    dfs_movies,\n",
    "    dfs_ratings.item_id == dfs_movies.movie_id\n",
    ")\n",
    "dfs_ratings_movies.show(5)"
   ]
  },
  {
   "cell_type": "code",
   "execution_count": 39,
   "metadata": {},
   "outputs": [
    {
     "name": "stdout",
     "output_type": "stream",
     "text": [
      "+--------------------+------------------+\n",
      "|         movie_title|       avg(rating)|\n",
      "+--------------------+------------------+\n",
      "|   Annie Hall (1977)| 3.911111111111111|\n",
      "|Heavenly Creature...|3.6714285714285713|\n",
      "|       Psycho (1960)| 4.100418410041841|\n",
      "|Snow White and th...|3.7093023255813953|\n",
      "|Night of the Livi...|          3.421875|\n",
      "|When We Were King...| 4.045454545454546|\n",
      "| If Lucy Fell (1996)|2.7586206896551726|\n",
      "|    Fair Game (1995)|2.1818181818181817|\n",
      "| Three Wishes (1995)|3.2222222222222223|\n",
      "|         Cosi (1996)|               4.0|\n",
      "|Paris, France (1993)|2.3333333333333335|\n",
      "|Spanking the Monk...| 3.074074074074074|\n",
      "|I'll Do Anything ...|               2.6|\n",
      "|        Mondo (1996)|               3.0|\n",
      "| Evil Dead II (1987)|3.5168539325842696|\n",
      "|    Threesome (1994)| 2.838709677419355|\n",
      "|Last Action Hero ...|2.7457627118644066|\n",
      "|Reality Bites (1994)| 2.961038961038961|\n",
      "|Colonel Chabert, ...|               3.5|\n",
      "|   Blue Chips (1994)|2.6666666666666665|\n",
      "+--------------------+------------------+\n",
      "only showing top 20 rows\n",
      "\n"
     ]
    }
   ],
   "source": [
    "# Можно группировать по item_id. Зависит от того, что нужно id или название\n",
    "dfs_ratings_movies.groupBy('movie_title').agg({'rating':'mean'}).show()"
   ]
  },
  {
   "cell_type": "code",
   "execution_count": 54,
   "metadata": {},
   "outputs": [
    {
     "name": "stdout",
     "output_type": "stream",
     "text": [
      "+-----------+------------------+\n",
      "|      ganre|       avg(rating)|\n",
      "+-----------+------------------+\n",
      "|      crime|3.6322780881440098|\n",
      "|    fantasy|3.2152366863905324|\n",
      "|documentary|3.6728232189973613|\n",
      "|    unknown|               3.2|\n",
      "|     action| 3.480245417953027|\n",
      "|  animation|3.5766990291262135|\n",
      "|    mystery|  3.63813155386082|\n",
      "|     horror|3.2903893172841827|\n",
      "|  film-noir|3.9215233698788228|\n",
      "|    musical| 3.521396851029471|\n",
      "|  adventure| 3.503526503308369|\n",
      "|      drama|3.6873793708484772|\n",
      "|    western|3.6132686084142396|\n",
      "|   children|3.3532442216652742|\n",
      "|        war| 3.815811874866993|\n",
      "|    romance| 3.621704948358255|\n",
      "|   thriller|3.5090069495245064|\n",
      "|     sci-fi|3.5607227022780834|\n",
      "|     comedy|3.3940734781442745|\n",
      "+-----------+------------------+\n",
      "\n"
     ]
    }
   ],
   "source": [
    "dfs_ratings_movies.unpivot(\n",
    "    'rating', genres_col, 'ganre', 'flag'\n",
    ").filter('flag !=0').groupBy('ganre').avg('rating').show()"
   ]
  },
  {
   "cell_type": "code",
   "execution_count": 57,
   "metadata": {},
   "outputs": [
    {
     "name": "stdout",
     "output_type": "stream",
     "text": [
      "+--------------------+-----+\n",
      "|         movie_title|count|\n",
      "+--------------------+-----+\n",
      "|    Star Wars (1977)|  583|\n",
      "|      Contact (1997)|  509|\n",
      "|        Fargo (1996)|  508|\n",
      "|Return of the Jed...|  507|\n",
      "|    Liar Liar (1997)|  485|\n",
      "+--------------------+-----+\n",
      "\n"
     ]
    }
   ],
   "source": [
    "dfs_ratings_movies.groupBy('movie_title').count().sort('count', ascending=False).limit(5).show()"
   ]
  },
  {
   "cell_type": "code",
   "execution_count": 58,
   "metadata": {},
   "outputs": [
    {
     "name": "stdout",
     "output_type": "stream",
     "text": [
      "+--------------------+-----+\n",
      "|         movie_title|count|\n",
      "+--------------------+-----+\n",
      "|Vie est belle, La...|    1|\n",
      "|Next Step, The (1...|    1|\n",
      "|JLG/JLG - autopor...|    1|\n",
      "|Modern Affair, A ...|    1|\n",
      "|       Target (1995)|    1|\n",
      "+--------------------+-----+\n",
      "\n"
     ]
    }
   ],
   "source": [
    "dfs_ratings_movies.groupBy('movie_title').count().sort('count').limit(5).show()"
   ]
  },
  {
   "cell_type": "code",
   "execution_count": null,
   "metadata": {},
   "outputs": [],
   "source": []
  }
 ],
 "metadata": {
  "kernelspec": {
   "display_name": "base",
   "language": "python",
   "name": "python3"
  },
  "language_info": {
   "codemirror_mode": {
    "name": "ipython",
    "version": 3
   },
   "file_extension": ".py",
   "mimetype": "text/x-python",
   "name": "python",
   "nbconvert_exporter": "python",
   "pygments_lexer": "ipython3",
   "version": "3.11.5"
  }
 },
 "nbformat": 4,
 "nbformat_minor": 2
}
