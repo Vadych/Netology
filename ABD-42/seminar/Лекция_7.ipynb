{
  "cells": [
    {
      "cell_type": "markdown",
      "metadata": {
        "id": "XsNU9x5bdnRF"
      },
      "source": [
        "# Машинное обучение на PySpark"
      ]
    },
    {
      "cell_type": "markdown",
      "metadata": {
        "id": "5zls75ladrAQ"
      },
      "source": [
        "## Установка PySpark"
      ]
    },
    {
      "cell_type": "code",
      "execution_count": 1,
      "metadata": {
        "id": "OERndGb_d8zg"
      },
      "outputs": [
        {
          "name": "stderr",
          "output_type": "stream",
          "text": [
            "24/04/09 14:57:01 WARN Utils: Your hostname, MacBook-Pro-Vadim.local resolves to a loopback address: 127.0.0.1; using 192.168.139.65 instead (on interface en0)\n",
            "24/04/09 14:57:01 WARN Utils: Set SPARK_LOCAL_IP if you need to bind to another address\n",
            "Setting default log level to \"WARN\".\n",
            "To adjust logging level use sc.setLogLevel(newLevel). For SparkR, use setLogLevel(newLevel).\n",
            "24/04/09 14:57:16 WARN NativeCodeLoader: Unable to load native-hadoop library for your platform... using builtin-java classes where applicable\n",
            "24/04/09 14:57:17 WARN Utils: Service 'SparkUI' could not bind on port 4040. Attempting port 4041.\n",
            "24/04/09 14:57:17 WARN Utils: Service 'SparkUI' could not bind on port 4041. Attempting port 4042.\n"
          ]
        }
      ],
      "source": [
        "from pyspark.sql import SparkSession\n",
        "\n",
        "\n",
        "spark = SparkSession.builder.master(\"local[*]\").getOrCreate()"
      ]
    },
    {
      "cell_type": "markdown",
      "metadata": {
        "id": "39OTDUfleDE_"
      },
      "source": [
        "## Загружаем набор данных"
      ]
    },
    {
      "cell_type": "markdown",
      "metadata": {
        "id": "ufgR7HnxeYcC"
      },
      "source": [
        "Predict survival on the Titanic\n",
        "* survival - Survival\t0 = No, 1 = Yes\n",
        "* pclass - Ticket class\t1 = 1st, 2 = 2nd, 3 = 3rd\n",
        "* sex\t- Sex\n",
        "* Age\t- Age in years\n",
        "* sibsp\t- # of siblings / spouses aboard the Titanic\n",
        "* parch\t- # of parents / children aboard the Titanic\n",
        "* ticket - Ticket number\n",
        "* fare -\tPassenger fare\n",
        "* cabin\t- Cabin number\n",
        "* embarked - Port of Embarkation\tC = Cherbourg, Q = Queenstown, S = Southampton"
      ]
    },
    {
      "cell_type": "code",
      "execution_count": null,
      "metadata": {
        "colab": {
          "base_uri": "https://localhost:8080/"
        },
        "id": "vL3ejqfRd_bc",
        "outputId": "0999d2a0-ab90-48d5-f957-4f330a1f4c62"
      },
      "outputs": [
        {
          "name": "stdout",
          "output_type": "stream",
          "text": [
            "--2023-10-18 09:00:29--  https://raw.githubusercontent.com/datasciencedojo/datasets/master/titanic.csv\n",
            "Resolving raw.githubusercontent.com (raw.githubusercontent.com)... 185.199.108.133, 185.199.111.133, 185.199.109.133, ...\n",
            "Connecting to raw.githubusercontent.com (raw.githubusercontent.com)|185.199.108.133|:443... connected.\n",
            "HTTP request sent, awaiting response... 200 OK\n",
            "Length: 60302 (59K) [text/plain]\n",
            "Saving to: ‘titanic.csv’\n",
            "\n",
            "\rtitanic.csv           0%[                    ]       0  --.-KB/s               \rtitanic.csv         100%[===================>]  58.89K  --.-KB/s    in 0.01s   \n",
            "\n",
            "2023-10-18 09:00:29 (4.32 MB/s) - ‘titanic.csv’ saved [60302/60302]\n",
            "\n"
          ]
        }
      ],
      "source": [
        "!wget https://raw.githubusercontent.com/datasciencedojo/datasets/master/titanic.csv"
      ]
    },
    {
      "cell_type": "markdown",
      "metadata": {
        "id": "lRRJ1yf-Htyt"
      },
      "source": [
        "## Практика 1. Загрузите файл titanic.csv и выведите его командой show"
      ]
    },
    {
      "cell_type": "code",
      "execution_count": null,
      "metadata": {
        "colab": {
          "base_uri": "https://localhost:8080/"
        },
        "id": "Z66OGQ6AH1Aj",
        "outputId": "73485c8e-2957-401d-906d-b9e90d2897ae"
      },
      "outputs": [
        {
          "name": "stdout",
          "output_type": "stream",
          "text": [
            "+-----------+--------+------+--------------------+------+----+-----+-----+----------------+-------+-----+--------+\n",
            "|PassengerId|Survived|Pclass|                Name|   Sex| Age|SibSp|Parch|          Ticket|   Fare|Cabin|Embarked|\n",
            "+-----------+--------+------+--------------------+------+----+-----+-----+----------------+-------+-----+--------+\n",
            "|          1|       0|     3|Braund, Mr. Owen ...|  male|22.0|    1|    0|       A/5 21171|   7.25| null|       S|\n",
            "|          2|       1|     1|Cumings, Mrs. Joh...|female|38.0|    1|    0|        PC 17599|71.2833|  C85|       C|\n",
            "|          3|       1|     3|Heikkinen, Miss. ...|female|26.0|    0|    0|STON/O2. 3101282|  7.925| null|       S|\n",
            "|          4|       1|     1|Futrelle, Mrs. Ja...|female|35.0|    1|    0|          113803|   53.1| C123|       S|\n",
            "|          5|       0|     3|Allen, Mr. Willia...|  male|35.0|    0|    0|          373450|   8.05| null|       S|\n",
            "|          6|       0|     3|    Moran, Mr. James|  male|null|    0|    0|          330877| 8.4583| null|       Q|\n",
            "|          7|       0|     1|McCarthy, Mr. Tim...|  male|54.0|    0|    0|           17463|51.8625|  E46|       S|\n",
            "|          8|       0|     3|Palsson, Master. ...|  male| 2.0|    3|    1|          349909| 21.075| null|       S|\n",
            "|          9|       1|     3|Johnson, Mrs. Osc...|female|27.0|    0|    2|          347742|11.1333| null|       S|\n",
            "|         10|       1|     2|Nasser, Mrs. Nich...|female|14.0|    1|    0|          237736|30.0708| null|       C|\n",
            "|         11|       1|     3|Sandstrom, Miss. ...|female| 4.0|    1|    1|         PP 9549|   16.7|   G6|       S|\n",
            "|         12|       1|     1|Bonnell, Miss. El...|female|58.0|    0|    0|          113783|  26.55| C103|       S|\n",
            "|         13|       0|     3|Saundercock, Mr. ...|  male|20.0|    0|    0|       A/5. 2151|   8.05| null|       S|\n",
            "|         14|       0|     3|Andersson, Mr. An...|  male|39.0|    1|    5|          347082| 31.275| null|       S|\n",
            "|         15|       0|     3|Vestrom, Miss. Hu...|female|14.0|    0|    0|          350406| 7.8542| null|       S|\n",
            "|         16|       1|     2|Hewlett, Mrs. (Ma...|female|55.0|    0|    0|          248706|   16.0| null|       S|\n",
            "|         17|       0|     3|Rice, Master. Eugene|  male| 2.0|    4|    1|          382652| 29.125| null|       Q|\n",
            "|         18|       1|     2|Williams, Mr. Cha...|  male|null|    0|    0|          244373|   13.0| null|       S|\n",
            "|         19|       0|     3|Vander Planke, Mr...|female|31.0|    1|    0|          345763|   18.0| null|       S|\n",
            "|         20|       1|     3|Masselmani, Mrs. ...|female|null|    0|    0|            2649|  7.225| null|       C|\n",
            "+-----------+--------+------+--------------------+------+----+-----+-----+----------------+-------+-----+--------+\n",
            "only showing top 20 rows\n",
            "\n"
          ]
        }
      ],
      "source": [
        "df_titanic = spark.read.csv('titanic.csv', inferSchema=True, header=True)\n",
        "df_titanic.show()"
      ]
    },
    {
      "cell_type": "markdown",
      "metadata": {
        "id": "RdaaStpbfzgg"
      },
      "source": [
        "## Посмотрим общую статистику по нашему датафрейму\n",
        "Для этого воспользуемся командой describe"
      ]
    },
    {
      "cell_type": "code",
      "execution_count": null,
      "metadata": {
        "colab": {
          "base_uri": "https://localhost:8080/"
        },
        "id": "BegZo0dTf2tq",
        "outputId": "bce6d66c-ab3e-46ea-cb72-1119831351c2"
      },
      "outputs": [
        {
          "name": "stdout",
          "output_type": "stream",
          "text": [
            "+-------+-----------------+-------------------+------------------+--------------------+------+------------------+------------------+-------------------+------------------+-----------------+-----+--------+\n",
            "|summary|      PassengerId|           Survived|            Pclass|                Name|   Sex|               Age|             SibSp|              Parch|            Ticket|             Fare|Cabin|Embarked|\n",
            "+-------+-----------------+-------------------+------------------+--------------------+------+------------------+------------------+-------------------+------------------+-----------------+-----+--------+\n",
            "|  count|              891|                891|               891|                 891|   891|               714|               891|                891|               891|              891|  204|     889|\n",
            "|   mean|            446.0| 0.3838383838383838| 2.308641975308642|                null|  null| 29.69911764705882|0.5230078563411896|0.38159371492704824|260318.54916792738| 32.2042079685746| null|    null|\n",
            "| stddev|257.3538420152301|0.48659245426485753|0.8360712409770491|                null|  null|14.526497332334035|1.1027434322934315| 0.8060572211299488|471609.26868834975|49.69342859718089| null|    null|\n",
            "|    min|                1|                  0|                 1|\"Andersson, Mr. A...|female|              0.42|                 0|                  0|            110152|              0.0|  A10|       C|\n",
            "|    max|              891|                  1|                 3|van Melkebeke, Mr...|  male|              80.0|                 8|                  6|         WE/P 5735|         512.3292|    T|       S|\n",
            "+-------+-----------------+-------------------+------------------+--------------------+------+------------------+------------------+-------------------+------------------+-----------------+-----+--------+\n",
            "\n"
          ]
        }
      ],
      "source": [
        "df_titanic.describe().show()"
      ]
    },
    {
      "cell_type": "markdown",
      "metadata": {
        "id": "fKHtss-VfNQe"
      },
      "source": [
        "## Практика 2. Удалим малоинформативные колонки\n",
        "Колонка с именем (Name), информация о родственниках (SibSp, Parch),номер билета (Ticket) и информация о каюте (Cabin) кажутся малоинформативными для первой версии модели. Удалим их при помощи команды select"
      ]
    },
    {
      "cell_type": "code",
      "execution_count": null,
      "metadata": {
        "colab": {
          "base_uri": "https://localhost:8080/"
        },
        "id": "Ar6vmDeyNxzI",
        "outputId": "3980903d-f291-40d4-fb1a-2f7c54ab8aa3"
      },
      "outputs": [
        {
          "data": {
            "text/plain": [
              "['PassengerId',\n",
              " 'Survived',\n",
              " 'Pclass',\n",
              " 'Name',\n",
              " 'Sex',\n",
              " 'Age',\n",
              " 'SibSp',\n",
              " 'Parch',\n",
              " 'Ticket',\n",
              " 'Fare',\n",
              " 'Cabin',\n",
              " 'Embarked']"
            ]
          },
          "execution_count": 11,
          "metadata": {},
          "output_type": "execute_result"
        }
      ],
      "source": [
        "df_titanic.columns"
      ]
    },
    {
      "cell_type": "code",
      "execution_count": null,
      "metadata": {
        "colab": {
          "base_uri": "https://localhost:8080/"
        },
        "id": "8xkXLa5HIC8x",
        "outputId": "6012aef3-5dad-4698-f9f7-7c659fdadcfe"
      },
      "outputs": [
        {
          "data": {
            "text/plain": [
              "[Row(Survived=0, Pclass=3, Sex='male', Age=22.0, Fare=7.25, Embarked='S'),\n",
              " Row(Survived=1, Pclass=1, Sex='female', Age=38.0, Fare=71.2833, Embarked='C'),\n",
              " Row(Survived=1, Pclass=3, Sex='female', Age=26.0, Fare=7.925, Embarked='S'),\n",
              " Row(Survived=1, Pclass=1, Sex='female', Age=35.0, Fare=53.1, Embarked='S'),\n",
              " Row(Survived=0, Pclass=3, Sex='male', Age=35.0, Fare=8.05, Embarked='S')]"
            ]
          },
          "execution_count": 12,
          "metadata": {},
          "output_type": "execute_result"
        }
      ],
      "source": [
        "df_main_titanic = df_titanic.select('Survived', 'Pclass', 'Sex', 'Age', 'Fare', 'Embarked')\n",
        "df_main_titanic.take(5)"
      ]
    },
    {
      "cell_type": "markdown",
      "metadata": {
        "id": "cLazPPiHgmnl"
      },
      "source": [
        "## Практика 3. Колонки Age и Embarked содержат пропущенные значения.\n",
        "Пропуски надо заполнить\n",
        "Для поля Age предлагается заполнить пропуски средним значением возвраста (информация по нему есть в describe)\n",
        "Для поля Embarked самым частым вариантом (надо сгруппировать данные и посчитать какой порт самый частый)\n",
        "Затем при помощи команды:\n",
        "\n",
        "```\n",
        "df_filtered = df_filtered.na.fill({'Age': XX, 'Embarked': YY})\n",
        "```\n",
        "\n",
        "устранить пропуски"
      ]
    },
    {
      "cell_type": "code",
      "execution_count": null,
      "metadata": {
        "colab": {
          "base_uri": "https://localhost:8080/"
        },
        "id": "McCJhm0yIIwm",
        "outputId": "6f50acee-e0be-40a5-b68f-dba596cea65e"
      },
      "outputs": [
        {
          "name": "stdout",
          "output_type": "stream",
          "text": [
            "+--------+-----+\n",
            "|Embarked|count|\n",
            "+--------+-----+\n",
            "|       Q|   77|\n",
            "|    null|    2|\n",
            "|       C|  168|\n",
            "|       S|  644|\n",
            "+--------+-----+\n",
            "\n"
          ]
        }
      ],
      "source": [
        "df_port = df_titanic.groupBy('Embarked').count()\n",
        "df_port.show()"
      ]
    },
    {
      "cell_type": "code",
      "execution_count": null,
      "metadata": {
        "colab": {
          "base_uri": "https://localhost:8080/"
        },
        "id": "Pf0XXjJwPILl",
        "outputId": "8dbc8524-615a-4f71-c442-7d6176a6af0e"
      },
      "outputs": [
        {
          "name": "stdout",
          "output_type": "stream",
          "text": [
            "+--------+-----+\n",
            "|Embarked|count|\n",
            "+--------+-----+\n",
            "|       Q|   77|\n",
            "|    null|    2|\n",
            "|       C|  168|\n",
            "|       S|  644|\n",
            "+--------+-----+\n",
            "\n"
          ]
        }
      ],
      "source": [
        "df_titanic.groupBy('Embarked').count().show()"
      ]
    },
    {
      "cell_type": "code",
      "execution_count": null,
      "metadata": {
        "colab": {
          "base_uri": "https://localhost:8080/"
        },
        "id": "pl8HHfT5PXoU",
        "outputId": "5846f7d7-a903-4d06-e942-70fda45913a2"
      },
      "outputs": [
        {
          "name": "stdout",
          "output_type": "stream",
          "text": [
            "+-------+-----------------+-------------------+------------------+--------------------+------+------------------+------------------+-------------------+------------------+-----------------+-----+--------+\n",
            "|summary|      PassengerId|           Survived|            Pclass|                Name|   Sex|               Age|             SibSp|              Parch|            Ticket|             Fare|Cabin|Embarked|\n",
            "+-------+-----------------+-------------------+------------------+--------------------+------+------------------+------------------+-------------------+------------------+-----------------+-----+--------+\n",
            "|  count|              891|                891|               891|                 891|   891|               714|               891|                891|               891|              891|  204|     889|\n",
            "|   mean|            446.0| 0.3838383838383838| 2.308641975308642|                null|  null| 29.69911764705882|0.5230078563411896|0.38159371492704824|260318.54916792738| 32.2042079685746| null|    null|\n",
            "| stddev|257.3538420152301|0.48659245426485753|0.8360712409770491|                null|  null|14.526497332334035|1.1027434322934315| 0.8060572211299488|471609.26868834975|49.69342859718089| null|    null|\n",
            "|    min|                1|                  0|                 1|\"Andersson, Mr. A...|female|              0.42|                 0|                  0|            110152|              0.0|  A10|       C|\n",
            "|    max|              891|                  1|                 3|van Melkebeke, Mr...|  male|              80.0|                 8|                  6|         WE/P 5735|         512.3292|    T|       S|\n",
            "+-------+-----------------+-------------------+------------------+--------------------+------+------------------+------------------+-------------------+------------------+-----------------+-----+--------+\n",
            "\n"
          ]
        }
      ],
      "source": [
        "df_titanic.describe().show()"
      ]
    },
    {
      "cell_type": "code",
      "execution_count": null,
      "metadata": {
        "colab": {
          "base_uri": "https://localhost:8080/"
        },
        "id": "NRcfdTZKC8Ob",
        "outputId": "6c0a1897-53ea-4d2f-b7cd-d142fbc161d6"
      },
      "outputs": [
        {
          "name": "stdout",
          "output_type": "stream",
          "text": [
            "+--------+------+------+----+-------+--------+\n",
            "|Survived|Pclass|   Sex| Age|   Fare|Embarked|\n",
            "+--------+------+------+----+-------+--------+\n",
            "|       0|     3|  male|22.0|   7.25|       S|\n",
            "|       1|     1|female|38.0|71.2833|       C|\n",
            "|       1|     3|female|26.0|  7.925|       S|\n",
            "|       1|     1|female|35.0|   53.1|       S|\n",
            "|       0|     3|  male|35.0|   8.05|       S|\n",
            "|       0|     3|  male|29.7| 8.4583|       Q|\n",
            "|       0|     1|  male|54.0|51.8625|       S|\n",
            "|       0|     3|  male| 2.0| 21.075|       S|\n",
            "|       1|     3|female|27.0|11.1333|       S|\n",
            "|       1|     2|female|14.0|30.0708|       C|\n",
            "|       1|     3|female| 4.0|   16.7|       S|\n",
            "|       1|     1|female|58.0|  26.55|       S|\n",
            "|       0|     3|  male|20.0|   8.05|       S|\n",
            "|       0|     3|  male|39.0| 31.275|       S|\n",
            "|       0|     3|female|14.0| 7.8542|       S|\n",
            "|       1|     2|female|55.0|   16.0|       S|\n",
            "|       0|     3|  male| 2.0| 29.125|       Q|\n",
            "|       1|     2|  male|29.7|   13.0|       S|\n",
            "|       0|     3|female|31.0|   18.0|       S|\n",
            "|       1|     3|female|29.7|  7.225|       C|\n",
            "+--------+------+------+----+-------+--------+\n",
            "only showing top 20 rows\n",
            "\n"
          ]
        }
      ],
      "source": [
        "df_filtered = df_main_titanic.na.fill({'Age': 29.7, 'Embarked': 'S'})\n",
        "df_filtered.show()"
      ]
    },
    {
      "cell_type": "code",
      "execution_count": null,
      "metadata": {
        "colab": {
          "base_uri": "https://localhost:8080/"
        },
        "id": "mI7GLpd1C8cJ",
        "outputId": "69218394-eb7e-4897-e912-127a05297ba4"
      },
      "outputs": [
        {
          "name": "stdout",
          "output_type": "stream",
          "text": [
            "+-------+-------------------+------------------+------+------------------+-----------------+--------+\n",
            "|summary|           Survived|            Pclass|   Sex|               Age|             Fare|Embarked|\n",
            "+-------+-------------------+------------------+------+------------------+-----------------+--------+\n",
            "|  count|                891|               891|   891|               891|              891|     891|\n",
            "|   mean| 0.3838383838383838| 2.308641975308642|  null| 29.69929292929302| 32.2042079685746|    null|\n",
            "| stddev|0.48659245426485753|0.8360712409770491|  null|13.002015230774303|49.69342859718089|    null|\n",
            "|    min|                  0|                 1|female|              0.42|              0.0|       C|\n",
            "|    max|                  1|                 3|  male|              80.0|         512.3292|       S|\n",
            "+-------+-------------------+------------------+------+------------------+-----------------+--------+\n",
            "\n"
          ]
        }
      ],
      "source": [
        "df_filtered.describe().show(5)"
      ]
    },
    {
      "cell_type": "markdown",
      "metadata": {
        "id": "nFppkpIV-FfW"
      },
      "source": [
        "## Работа со строковыми колонками\n",
        "У нас осталось 2 колонки, содержащих строковые данные:\n",
        "* Sex\n",
        "* Embarked\n",
        "Первую мы преобразуем в 0 и 1\n",
        "Вторую закодируем по принципу OneHot\n",
        "\n",
        "Для этого нам помогут специальные классы в PySpark:\n",
        "* StringIndexer - https://spark.apache.org/docs/latest/ml-features#stringindexer\n",
        "* OneHotEncoderEstimator - https://spark.apache.org/docs/latest/ml-features#onehotencoder"
      ]
    },
    {
      "cell_type": "code",
      "execution_count": null,
      "metadata": {
        "id": "e-D8RRNgh2BL"
      },
      "outputs": [],
      "source": [
        "from pyspark.ml.feature import StringIndexer, OneHotEncoder"
      ]
    },
    {
      "cell_type": "code",
      "execution_count": null,
      "metadata": {
        "id": "X85_FtES-9Sw"
      },
      "outputs": [],
      "source": [
        "indexer = StringIndexer(inputCol='Sex', outputCol='SexInd')\n",
        "indexerTrained = indexer.fit(df_filtered)\n",
        "df_features = indexerTrained.transform(df_filtered)"
      ]
    },
    {
      "cell_type": "code",
      "execution_count": null,
      "metadata": {
        "colab": {
          "base_uri": "https://localhost:8080/"
        },
        "id": "A0iZRvQW_cGN",
        "outputId": "62ac8a3d-529f-4afc-e88f-7011021819dc"
      },
      "outputs": [
        {
          "data": {
            "text/plain": [
              "['male', 'female']"
            ]
          },
          "execution_count": 20,
          "metadata": {},
          "output_type": "execute_result"
        }
      ],
      "source": [
        "indexerTrained.labels"
      ]
    },
    {
      "cell_type": "code",
      "execution_count": null,
      "metadata": {
        "colab": {
          "base_uri": "https://localhost:8080/"
        },
        "id": "dkQAll-9_Nlm",
        "outputId": "c7cdd2b0-9baf-40b6-a93e-dc3c93a23271"
      },
      "outputs": [
        {
          "name": "stdout",
          "output_type": "stream",
          "text": [
            "+--------+------+------+----+-------+--------+------+\n",
            "|Survived|Pclass|   Sex| Age|   Fare|Embarked|SexInd|\n",
            "+--------+------+------+----+-------+--------+------+\n",
            "|       0|     3|  male|22.0|   7.25|       S|   0.0|\n",
            "|       1|     1|female|38.0|71.2833|       C|   1.0|\n",
            "|       1|     3|female|26.0|  7.925|       S|   1.0|\n",
            "|       1|     1|female|35.0|   53.1|       S|   1.0|\n",
            "|       0|     3|  male|35.0|   8.05|       S|   0.0|\n",
            "|       0|     3|  male|29.7| 8.4583|       Q|   0.0|\n",
            "|       0|     1|  male|54.0|51.8625|       S|   0.0|\n",
            "|       0|     3|  male| 2.0| 21.075|       S|   0.0|\n",
            "|       1|     3|female|27.0|11.1333|       S|   1.0|\n",
            "|       1|     2|female|14.0|30.0708|       C|   1.0|\n",
            "|       1|     3|female| 4.0|   16.7|       S|   1.0|\n",
            "|       1|     1|female|58.0|  26.55|       S|   1.0|\n",
            "|       0|     3|  male|20.0|   8.05|       S|   0.0|\n",
            "|       0|     3|  male|39.0| 31.275|       S|   0.0|\n",
            "|       0|     3|female|14.0| 7.8542|       S|   1.0|\n",
            "|       1|     2|female|55.0|   16.0|       S|   1.0|\n",
            "|       0|     3|  male| 2.0| 29.125|       Q|   0.0|\n",
            "|       1|     2|  male|29.7|   13.0|       S|   0.0|\n",
            "|       0|     3|female|31.0|   18.0|       S|   1.0|\n",
            "|       1|     3|female|29.7|  7.225|       C|   1.0|\n",
            "+--------+------+------+----+-------+--------+------+\n",
            "only showing top 20 rows\n",
            "\n"
          ]
        }
      ],
      "source": [
        "df_features.show()"
      ]
    },
    {
      "cell_type": "markdown",
      "metadata": {
        "id": "1sKSOcXoIQux"
      },
      "source": [
        "## Практика 4.\n",
        "Преобразуйте колонку Embarked.\n",
        "Сначала надо при помощи StringIndexer преобразовать колонку Embarked в колонку EmbarkedInd с цифровыми кодами\n",
        "Затем сделать OneHotEncoder, который колонку EmbarkedInd превратит в колонку EmbarkedOhe. Обратите внимание у OneHotEncoder'а нет метода fit. Его можно сразу применять методом transform"
      ]
    },
    {
      "cell_type": "code",
      "execution_count": null,
      "metadata": {
        "id": "yOFgeeIHIq_g"
      },
      "outputs": [],
      "source": [
        "indexer = StringIndexer(inputCol='Embarked', outputCol='EmbarkedInd')\n",
        "indexerTrained = indexer.fit(df_features)\n",
        "df_features = indexerTrained.transform(df_features)"
      ]
    },
    {
      "cell_type": "code",
      "execution_count": null,
      "metadata": {
        "colab": {
          "base_uri": "https://localhost:8080/"
        },
        "id": "q8IGAZmAGtYe",
        "outputId": "20480b99-bf86-42fc-a34d-ed0d26017f59"
      },
      "outputs": [
        {
          "data": {
            "text/plain": [
              "['S', 'C', 'Q']"
            ]
          },
          "execution_count": 23,
          "metadata": {},
          "output_type": "execute_result"
        }
      ],
      "source": [
        "indexerTrained.labels"
      ]
    },
    {
      "cell_type": "code",
      "execution_count": null,
      "metadata": {
        "colab": {
          "base_uri": "https://localhost:8080/"
        },
        "id": "4_aZ6ZkfGzWR",
        "outputId": "3493ec2c-e730-49c3-c965-a90a3ed9faa4"
      },
      "outputs": [
        {
          "name": "stdout",
          "output_type": "stream",
          "text": [
            "+--------+------+------+----+-------+--------+------+-----------+\n",
            "|Survived|Pclass|   Sex| Age|   Fare|Embarked|SexInd|EmbarkedInd|\n",
            "+--------+------+------+----+-------+--------+------+-----------+\n",
            "|       0|     3|  male|22.0|   7.25|       S|   0.0|        0.0|\n",
            "|       1|     1|female|38.0|71.2833|       C|   1.0|        1.0|\n",
            "|       1|     3|female|26.0|  7.925|       S|   1.0|        0.0|\n",
            "|       1|     1|female|35.0|   53.1|       S|   1.0|        0.0|\n",
            "|       0|     3|  male|35.0|   8.05|       S|   0.0|        0.0|\n",
            "|       0|     3|  male|29.7| 8.4583|       Q|   0.0|        2.0|\n",
            "|       0|     1|  male|54.0|51.8625|       S|   0.0|        0.0|\n",
            "|       0|     3|  male| 2.0| 21.075|       S|   0.0|        0.0|\n",
            "|       1|     3|female|27.0|11.1333|       S|   1.0|        0.0|\n",
            "|       1|     2|female|14.0|30.0708|       C|   1.0|        1.0|\n",
            "|       1|     3|female| 4.0|   16.7|       S|   1.0|        0.0|\n",
            "|       1|     1|female|58.0|  26.55|       S|   1.0|        0.0|\n",
            "|       0|     3|  male|20.0|   8.05|       S|   0.0|        0.0|\n",
            "|       0|     3|  male|39.0| 31.275|       S|   0.0|        0.0|\n",
            "|       0|     3|female|14.0| 7.8542|       S|   1.0|        0.0|\n",
            "|       1|     2|female|55.0|   16.0|       S|   1.0|        0.0|\n",
            "|       0|     3|  male| 2.0| 29.125|       Q|   0.0|        2.0|\n",
            "|       1|     2|  male|29.7|   13.0|       S|   0.0|        0.0|\n",
            "|       0|     3|female|31.0|   18.0|       S|   1.0|        0.0|\n",
            "|       1|     3|female|29.7|  7.225|       C|   1.0|        1.0|\n",
            "+--------+------+------+----+-------+--------+------+-----------+\n",
            "only showing top 20 rows\n",
            "\n"
          ]
        }
      ],
      "source": [
        "df_features.show()"
      ]
    },
    {
      "cell_type": "code",
      "execution_count": null,
      "metadata": {
        "id": "YSwI1WwYRpdz"
      },
      "outputs": [],
      "source": [
        "ohe = OneHotEncoder(inputCol='EmbarkedInd', outputCol='EmbarkedOhe')"
      ]
    },
    {
      "cell_type": "markdown",
      "metadata": {
        "id": "aWLSz0VKYm_2"
      },
      "source": [
        "### Вариант 1"
      ]
    },
    {
      "cell_type": "code",
      "execution_count": null,
      "metadata": {
        "id": "zQRq38tOX1Aw"
      },
      "outputs": [],
      "source": [
        "model = ohe.fit(df_features)"
      ]
    },
    {
      "cell_type": "code",
      "execution_count": null,
      "metadata": {
        "id": "wCKanXZJR7a7"
      },
      "outputs": [],
      "source": [
        "df_features = model.transform(df_features)"
      ]
    },
    {
      "cell_type": "markdown",
      "metadata": {
        "id": "ABBMc_bWYr0A"
      },
      "source": [
        "### Вариант 2"
      ]
    },
    {
      "cell_type": "code",
      "execution_count": null,
      "metadata": {
        "id": "rPLJf2z0YrGF"
      },
      "outputs": [],
      "source": [
        "df_features = ohe.fit(df_features).transform(df_features)"
      ]
    },
    {
      "cell_type": "code",
      "execution_count": null,
      "metadata": {
        "colab": {
          "base_uri": "https://localhost:8080/"
        },
        "id": "f_O4iC0fYzXu",
        "outputId": "6a104bb7-1678-4714-90fc-f7e43e9f6023"
      },
      "outputs": [
        {
          "name": "stdout",
          "output_type": "stream",
          "text": [
            "+--------+------+------+----+-------+--------+------+-----------+-------------+\n",
            "|Survived|Pclass|   Sex| Age|   Fare|Embarked|SexInd|EmbarkedInd|  EmbarkedOhe|\n",
            "+--------+------+------+----+-------+--------+------+-----------+-------------+\n",
            "|       0|     3|  male|22.0|   7.25|       S|   0.0|        0.0|(2,[0],[1.0])|\n",
            "|       1|     1|female|38.0|71.2833|       C|   1.0|        1.0|(2,[1],[1.0])|\n",
            "|       1|     3|female|26.0|  7.925|       S|   1.0|        0.0|(2,[0],[1.0])|\n",
            "|       1|     1|female|35.0|   53.1|       S|   1.0|        0.0|(2,[0],[1.0])|\n",
            "|       0|     3|  male|35.0|   8.05|       S|   0.0|        0.0|(2,[0],[1.0])|\n",
            "|       0|     3|  male|29.7| 8.4583|       Q|   0.0|        2.0|    (2,[],[])|\n",
            "|       0|     1|  male|54.0|51.8625|       S|   0.0|        0.0|(2,[0],[1.0])|\n",
            "|       0|     3|  male| 2.0| 21.075|       S|   0.0|        0.0|(2,[0],[1.0])|\n",
            "|       1|     3|female|27.0|11.1333|       S|   1.0|        0.0|(2,[0],[1.0])|\n",
            "|       1|     2|female|14.0|30.0708|       C|   1.0|        1.0|(2,[1],[1.0])|\n",
            "|       1|     3|female| 4.0|   16.7|       S|   1.0|        0.0|(2,[0],[1.0])|\n",
            "|       1|     1|female|58.0|  26.55|       S|   1.0|        0.0|(2,[0],[1.0])|\n",
            "|       0|     3|  male|20.0|   8.05|       S|   0.0|        0.0|(2,[0],[1.0])|\n",
            "|       0|     3|  male|39.0| 31.275|       S|   0.0|        0.0|(2,[0],[1.0])|\n",
            "|       0|     3|female|14.0| 7.8542|       S|   1.0|        0.0|(2,[0],[1.0])|\n",
            "|       1|     2|female|55.0|   16.0|       S|   1.0|        0.0|(2,[0],[1.0])|\n",
            "|       0|     3|  male| 2.0| 29.125|       Q|   0.0|        2.0|    (2,[],[])|\n",
            "|       1|     2|  male|29.7|   13.0|       S|   0.0|        0.0|(2,[0],[1.0])|\n",
            "|       0|     3|female|31.0|   18.0|       S|   1.0|        0.0|(2,[0],[1.0])|\n",
            "|       1|     3|female|29.7|  7.225|       C|   1.0|        1.0|(2,[1],[1.0])|\n",
            "+--------+------+------+----+-------+--------+------+-----------+-------------+\n",
            "only showing top 20 rows\n",
            "\n"
          ]
        }
      ],
      "source": [
        "df_features.show()"
      ]
    },
    {
      "cell_type": "markdown",
      "metadata": {
        "id": "NbgVsy6zB28S"
      },
      "source": [
        "## Практика 5. Дальше нужно собрать все признаки в единый вектор для работы машинного обучения.\n",
        "Для этого используется VectorAssembler\n",
        "https://spark.apache.org/docs/latest/ml-features.html#vectorassembler"
      ]
    },
    {
      "cell_type": "code",
      "execution_count": null,
      "metadata": {
        "id": "m-8QnsaSI0ub"
      },
      "outputs": [],
      "source": [
        "from pyspark.ml.linalg import Vectors\n",
        "from pyspark.ml.feature import VectorAssembler"
      ]
    },
    {
      "cell_type": "code",
      "execution_count": null,
      "metadata": {
        "colab": {
          "base_uri": "https://localhost:8080/"
        },
        "id": "4nSgZ2AKWiVk",
        "outputId": "476da401-5b80-4b3d-f845-c3c3781eb03f"
      },
      "outputs": [
        {
          "name": "stdout",
          "output_type": "stream",
          "text": [
            "+--------+------+------+----+-------+--------+------+-----------+\n",
            "|Survived|Pclass|   Sex| Age|   Fare|Embarked|SexInd|EmbarkedInd|\n",
            "+--------+------+------+----+-------+--------+------+-----------+\n",
            "|       0|     3|  male|22.0|   7.25|       S|   0.0|        0.0|\n",
            "|       1|     1|female|38.0|71.2833|       C|   1.0|        1.0|\n",
            "|       1|     3|female|26.0|  7.925|       S|   1.0|        0.0|\n",
            "|       1|     1|female|35.0|   53.1|       S|   1.0|        0.0|\n",
            "|       0|     3|  male|35.0|   8.05|       S|   0.0|        0.0|\n",
            "|       0|     3|  male|29.7| 8.4583|       Q|   0.0|        2.0|\n",
            "|       0|     1|  male|54.0|51.8625|       S|   0.0|        0.0|\n",
            "|       0|     3|  male| 2.0| 21.075|       S|   0.0|        0.0|\n",
            "|       1|     3|female|27.0|11.1333|       S|   1.0|        0.0|\n",
            "|       1|     2|female|14.0|30.0708|       C|   1.0|        1.0|\n",
            "|       1|     3|female| 4.0|   16.7|       S|   1.0|        0.0|\n",
            "|       1|     1|female|58.0|  26.55|       S|   1.0|        0.0|\n",
            "|       0|     3|  male|20.0|   8.05|       S|   0.0|        0.0|\n",
            "|       0|     3|  male|39.0| 31.275|       S|   0.0|        0.0|\n",
            "|       0|     3|female|14.0| 7.8542|       S|   1.0|        0.0|\n",
            "|       1|     2|female|55.0|   16.0|       S|   1.0|        0.0|\n",
            "|       0|     3|  male| 2.0| 29.125|       Q|   0.0|        2.0|\n",
            "|       1|     2|  male|29.7|   13.0|       S|   0.0|        0.0|\n",
            "|       0|     3|female|31.0|   18.0|       S|   1.0|        0.0|\n",
            "|       1|     3|female|29.7|  7.225|       C|   1.0|        1.0|\n",
            "+--------+------+------+----+-------+--------+------+-----------+\n",
            "only showing top 20 rows\n",
            "\n"
          ]
        }
      ],
      "source": [
        "df_features.show()"
      ]
    },
    {
      "cell_type": "code",
      "execution_count": null,
      "metadata": {
        "colab": {
          "base_uri": "https://localhost:8080/"
        },
        "id": "VJcLCkkHXBZD",
        "outputId": "ddcf3d69-7924-456e-bddf-6000f3eb0acd"
      },
      "outputs": [
        {
          "data": {
            "text/plain": [
              "['Survived',\n",
              " 'Pclass',\n",
              " 'Sex',\n",
              " 'Age',\n",
              " 'Fare',\n",
              " 'Embarked',\n",
              " 'SexInd',\n",
              " 'EmbarkedInd',\n",
              " 'EmbarkedOhe']"
            ]
          },
          "execution_count": 31,
          "metadata": {},
          "output_type": "execute_result"
        }
      ],
      "source": [
        "df_features.columns"
      ]
    },
    {
      "cell_type": "code",
      "execution_count": null,
      "metadata": {
        "id": "W7VpjK2MWqJB"
      },
      "outputs": [],
      "source": [
        "assembler = VectorAssembler(inputCols=['Pclass', 'Age','Fare', 'SexInd', 'EmbarkedOhe'], outputCol='Features')"
      ]
    },
    {
      "cell_type": "code",
      "execution_count": null,
      "metadata": {
        "id": "RcVLMGYSWqW_"
      },
      "outputs": [],
      "source": [
        "df_features = assembler.transform(df_features)"
      ]
    },
    {
      "cell_type": "code",
      "execution_count": null,
      "metadata": {
        "colab": {
          "base_uri": "https://localhost:8080/"
        },
        "id": "EFpTG9MwWqbe",
        "outputId": "88e625d0-f060-4b73-d3f2-b9b145eecfa3"
      },
      "outputs": [
        {
          "name": "stdout",
          "output_type": "stream",
          "text": [
            "+--------+------+------+----+-------+--------+------+-----------+-------------+--------------------+\n",
            "|Survived|Pclass|   Sex| Age|   Fare|Embarked|SexInd|EmbarkedInd|  EmbarkedOhe|            Features|\n",
            "+--------+------+------+----+-------+--------+------+-----------+-------------+--------------------+\n",
            "|       0|     3|  male|22.0|   7.25|       S|   0.0|        0.0|(2,[0],[1.0])|[3.0,22.0,7.25,0....|\n",
            "|       1|     1|female|38.0|71.2833|       C|   1.0|        1.0|(2,[1],[1.0])|[1.0,38.0,71.2833...|\n",
            "|       1|     3|female|26.0|  7.925|       S|   1.0|        0.0|(2,[0],[1.0])|[3.0,26.0,7.925,1...|\n",
            "|       1|     1|female|35.0|   53.1|       S|   1.0|        0.0|(2,[0],[1.0])|[1.0,35.0,53.1,1....|\n",
            "|       0|     3|  male|35.0|   8.05|       S|   0.0|        0.0|(2,[0],[1.0])|[3.0,35.0,8.05,0....|\n",
            "|       0|     3|  male|29.7| 8.4583|       Q|   0.0|        2.0|    (2,[],[])|[3.0,29.7,8.4583,...|\n",
            "|       0|     1|  male|54.0|51.8625|       S|   0.0|        0.0|(2,[0],[1.0])|[1.0,54.0,51.8625...|\n",
            "|       0|     3|  male| 2.0| 21.075|       S|   0.0|        0.0|(2,[0],[1.0])|[3.0,2.0,21.075,0...|\n",
            "|       1|     3|female|27.0|11.1333|       S|   1.0|        0.0|(2,[0],[1.0])|[3.0,27.0,11.1333...|\n",
            "|       1|     2|female|14.0|30.0708|       C|   1.0|        1.0|(2,[1],[1.0])|[2.0,14.0,30.0708...|\n",
            "|       1|     3|female| 4.0|   16.7|       S|   1.0|        0.0|(2,[0],[1.0])|[3.0,4.0,16.7,1.0...|\n",
            "|       1|     1|female|58.0|  26.55|       S|   1.0|        0.0|(2,[0],[1.0])|[1.0,58.0,26.55,1...|\n",
            "|       0|     3|  male|20.0|   8.05|       S|   0.0|        0.0|(2,[0],[1.0])|[3.0,20.0,8.05,0....|\n",
            "|       0|     3|  male|39.0| 31.275|       S|   0.0|        0.0|(2,[0],[1.0])|[3.0,39.0,31.275,...|\n",
            "|       0|     3|female|14.0| 7.8542|       S|   1.0|        0.0|(2,[0],[1.0])|[3.0,14.0,7.8542,...|\n",
            "|       1|     2|female|55.0|   16.0|       S|   1.0|        0.0|(2,[0],[1.0])|[2.0,55.0,16.0,1....|\n",
            "|       0|     3|  male| 2.0| 29.125|       Q|   0.0|        2.0|    (2,[],[])|[3.0,2.0,29.125,0...|\n",
            "|       1|     2|  male|29.7|   13.0|       S|   0.0|        0.0|(2,[0],[1.0])|[2.0,29.7,13.0,0....|\n",
            "|       0|     3|female|31.0|   18.0|       S|   1.0|        0.0|(2,[0],[1.0])|[3.0,31.0,18.0,1....|\n",
            "|       1|     3|female|29.7|  7.225|       C|   1.0|        1.0|(2,[1],[1.0])|[3.0,29.7,7.225,1...|\n",
            "+--------+------+------+----+-------+--------+------+-----------+-------------+--------------------+\n",
            "only showing top 20 rows\n",
            "\n"
          ]
        }
      ],
      "source": [
        "df_features.show()"
      ]
    },
    {
      "cell_type": "code",
      "execution_count": null,
      "metadata": {
        "colab": {
          "base_uri": "https://localhost:8080/"
        },
        "id": "5eNpFjjKIfYv",
        "outputId": "53452f13-39a9-4901-8f3f-ab4d379bad30"
      },
      "outputs": [
        {
          "name": "stdout",
          "output_type": "stream",
          "text": [
            "+--------+--------+------+----+-------+------+-----------+\n",
            "|Survived|Embarked|Pclass| Age|   Fare|SexInd|EmbarkedInd|\n",
            "+--------+--------+------+----+-------+------+-----------+\n",
            "|       0|       S|     3|22.0|   7.25|   0.0|        0.0|\n",
            "|       1|       C|     1|38.0|71.2833|   1.0|        1.0|\n",
            "|       1|       S|     3|26.0|  7.925|   1.0|        0.0|\n",
            "|       1|       S|     1|35.0|   53.1|   1.0|        0.0|\n",
            "|       0|       S|     3|35.0|   8.05|   0.0|        0.0|\n",
            "+--------+--------+------+----+-------+------+-----------+\n",
            "only showing top 5 rows\n",
            "\n"
          ]
        }
      ],
      "source": [
        "dataset_titanic = df_features.select('Survived', 'Embarked', 'Pclass', 'Age', 'Fare', 'SexInd', 'EmbarkedInd')\n",
        "dataset_titanic.show(5)"
      ]
    },
    {
      "cell_type": "code",
      "execution_count": null,
      "metadata": {
        "id": "flyDno5kIf9V"
      },
      "outputs": [],
      "source": []
    },
    {
      "cell_type": "markdown",
      "metadata": {
        "id": "ufmJHf6eDeb2"
      },
      "source": [
        "## Повторимость\n",
        "Часто нам нужно все указанные шаги по подготовке признаков делать не один раз, а несколько - для предсказания каждого нового значения.\n",
        "Тогда их логично объединить в Pipeline преобразования и применять как единую операцию\n",
        "\n",
        "https://spark.apache.org/docs/latest/ml-pipeline.html\n",
        "\n"
      ]
    },
    {
      "cell_type": "code",
      "execution_count": null,
      "metadata": {
        "id": "bjGKze4JCohS"
      },
      "outputs": [],
      "source": [
        "from pyspark.ml import Pipeline"
      ]
    },
    {
      "cell_type": "code",
      "execution_count": null,
      "metadata": {
        "id": "KK30QQ_dD6Yk"
      },
      "outputs": [],
      "source": [
        "pipeline = Pipeline(stages =\n",
        "[\n",
        "  StringIndexer(inputCol='Sex', outputCol='SexInd'),\n",
        "  StringIndexer(inputCol='Embarked', outputCol='EmbarkedInd'),\n",
        "  OneHotEncoder(inputCol='EmbarkedInd', outputCol = 'EmbarkedOhe'),\n",
        "  VectorAssembler(inputCols=['Pclass', 'Age', 'Fare', 'SexInd', 'EmbarkedOhe'], outputCol='Features')\n",
        "]\n",
        ")"
      ]
    },
    {
      "cell_type": "code",
      "execution_count": null,
      "metadata": {
        "id": "t7MVk__REPdt"
      },
      "outputs": [],
      "source": [
        "pipelineTrained = pipeline.fit(df_filtered)"
      ]
    },
    {
      "cell_type": "code",
      "execution_count": null,
      "metadata": {
        "colab": {
          "base_uri": "https://localhost:8080/"
        },
        "id": "VJTAvFvrET6a",
        "outputId": "8e8646c5-d4d0-43b0-a345-67746bb53eec"
      },
      "outputs": [
        {
          "name": "stdout",
          "output_type": "stream",
          "text": [
            "+--------+------+------+----+-------+--------+------+-----------+-------------+--------------------+\n",
            "|Survived|Pclass|   Sex| Age|   Fare|Embarked|SexInd|EmbarkedInd|  EmbarkedOhe|            Features|\n",
            "+--------+------+------+----+-------+--------+------+-----------+-------------+--------------------+\n",
            "|       0|     3|  male|22.0|   7.25|       S|   0.0|        0.0|(2,[0],[1.0])|[3.0,22.0,7.25,0....|\n",
            "|       1|     1|female|38.0|71.2833|       C|   1.0|        1.0|(2,[1],[1.0])|[1.0,38.0,71.2833...|\n",
            "|       1|     3|female|26.0|  7.925|       S|   1.0|        0.0|(2,[0],[1.0])|[3.0,26.0,7.925,1...|\n",
            "|       1|     1|female|35.0|   53.1|       S|   1.0|        0.0|(2,[0],[1.0])|[1.0,35.0,53.1,1....|\n",
            "|       0|     3|  male|35.0|   8.05|       S|   0.0|        0.0|(2,[0],[1.0])|[3.0,35.0,8.05,0....|\n",
            "|       0|     3|  male|29.7| 8.4583|       Q|   0.0|        2.0|    (2,[],[])|[3.0,29.7,8.4583,...|\n",
            "|       0|     1|  male|54.0|51.8625|       S|   0.0|        0.0|(2,[0],[1.0])|[1.0,54.0,51.8625...|\n",
            "|       0|     3|  male| 2.0| 21.075|       S|   0.0|        0.0|(2,[0],[1.0])|[3.0,2.0,21.075,0...|\n",
            "|       1|     3|female|27.0|11.1333|       S|   1.0|        0.0|(2,[0],[1.0])|[3.0,27.0,11.1333...|\n",
            "|       1|     2|female|14.0|30.0708|       C|   1.0|        1.0|(2,[1],[1.0])|[2.0,14.0,30.0708...|\n",
            "|       1|     3|female| 4.0|   16.7|       S|   1.0|        0.0|(2,[0],[1.0])|[3.0,4.0,16.7,1.0...|\n",
            "|       1|     1|female|58.0|  26.55|       S|   1.0|        0.0|(2,[0],[1.0])|[1.0,58.0,26.55,1...|\n",
            "|       0|     3|  male|20.0|   8.05|       S|   0.0|        0.0|(2,[0],[1.0])|[3.0,20.0,8.05,0....|\n",
            "|       0|     3|  male|39.0| 31.275|       S|   0.0|        0.0|(2,[0],[1.0])|[3.0,39.0,31.275,...|\n",
            "|       0|     3|female|14.0| 7.8542|       S|   1.0|        0.0|(2,[0],[1.0])|[3.0,14.0,7.8542,...|\n",
            "|       1|     2|female|55.0|   16.0|       S|   1.0|        0.0|(2,[0],[1.0])|[2.0,55.0,16.0,1....|\n",
            "|       0|     3|  male| 2.0| 29.125|       Q|   0.0|        2.0|    (2,[],[])|[3.0,2.0,29.125,0...|\n",
            "|       1|     2|  male|29.7|   13.0|       S|   0.0|        0.0|(2,[0],[1.0])|[2.0,29.7,13.0,0....|\n",
            "|       0|     3|female|31.0|   18.0|       S|   1.0|        0.0|(2,[0],[1.0])|[3.0,31.0,18.0,1....|\n",
            "|       1|     3|female|29.7|  7.225|       C|   1.0|        1.0|(2,[1],[1.0])|[3.0,29.7,7.225,1...|\n",
            "+--------+------+------+----+-------+--------+------+-----------+-------------+--------------------+\n",
            "only showing top 20 rows\n",
            "\n"
          ]
        }
      ],
      "source": [
        "pipelineTrained.transform(df_filtered).show()"
      ]
    },
    {
      "cell_type": "code",
      "execution_count": null,
      "metadata": {
        "id": "VVYM-T_wFVDX"
      },
      "outputs": [],
      "source": [
        "df_features = pipelineTrained.transform(df_filtered)"
      ]
    },
    {
      "cell_type": "code",
      "execution_count": null,
      "metadata": {
        "colab": {
          "base_uri": "https://localhost:8080/"
        },
        "id": "flrXmZiZUSBR",
        "outputId": "740168ec-0347-4f20-f5b0-33b960834331"
      },
      "outputs": [
        {
          "name": "stdout",
          "output_type": "stream",
          "text": [
            "+--------+------+------+----+-------+--------+------+-----------+-------------+--------------------+\n",
            "|Survived|Pclass|   Sex| Age|   Fare|Embarked|SexInd|EmbarkedInd|  EmbarkedOhe|            Features|\n",
            "+--------+------+------+----+-------+--------+------+-----------+-------------+--------------------+\n",
            "|       0|     3|  male|22.0|   7.25|       S|   0.0|        0.0|(2,[0],[1.0])|[3.0,22.0,7.25,0....|\n",
            "|       1|     1|female|38.0|71.2833|       C|   1.0|        1.0|(2,[1],[1.0])|[1.0,38.0,71.2833...|\n",
            "|       1|     3|female|26.0|  7.925|       S|   1.0|        0.0|(2,[0],[1.0])|[3.0,26.0,7.925,1...|\n",
            "|       1|     1|female|35.0|   53.1|       S|   1.0|        0.0|(2,[0],[1.0])|[1.0,35.0,53.1,1....|\n",
            "|       0|     3|  male|35.0|   8.05|       S|   0.0|        0.0|(2,[0],[1.0])|[3.0,35.0,8.05,0....|\n",
            "|       0|     3|  male|29.7| 8.4583|       Q|   0.0|        2.0|    (2,[],[])|[3.0,29.7,8.4583,...|\n",
            "|       0|     1|  male|54.0|51.8625|       S|   0.0|        0.0|(2,[0],[1.0])|[1.0,54.0,51.8625...|\n",
            "|       0|     3|  male| 2.0| 21.075|       S|   0.0|        0.0|(2,[0],[1.0])|[3.0,2.0,21.075,0...|\n",
            "|       1|     3|female|27.0|11.1333|       S|   1.0|        0.0|(2,[0],[1.0])|[3.0,27.0,11.1333...|\n",
            "|       1|     2|female|14.0|30.0708|       C|   1.0|        1.0|(2,[1],[1.0])|[2.0,14.0,30.0708...|\n",
            "|       1|     3|female| 4.0|   16.7|       S|   1.0|        0.0|(2,[0],[1.0])|[3.0,4.0,16.7,1.0...|\n",
            "|       1|     1|female|58.0|  26.55|       S|   1.0|        0.0|(2,[0],[1.0])|[1.0,58.0,26.55,1...|\n",
            "|       0|     3|  male|20.0|   8.05|       S|   0.0|        0.0|(2,[0],[1.0])|[3.0,20.0,8.05,0....|\n",
            "|       0|     3|  male|39.0| 31.275|       S|   0.0|        0.0|(2,[0],[1.0])|[3.0,39.0,31.275,...|\n",
            "|       0|     3|female|14.0| 7.8542|       S|   1.0|        0.0|(2,[0],[1.0])|[3.0,14.0,7.8542,...|\n",
            "|       1|     2|female|55.0|   16.0|       S|   1.0|        0.0|(2,[0],[1.0])|[2.0,55.0,16.0,1....|\n",
            "|       0|     3|  male| 2.0| 29.125|       Q|   0.0|        2.0|    (2,[],[])|[3.0,2.0,29.125,0...|\n",
            "|       1|     2|  male|29.7|   13.0|       S|   0.0|        0.0|(2,[0],[1.0])|[2.0,29.7,13.0,0....|\n",
            "|       0|     3|female|31.0|   18.0|       S|   1.0|        0.0|(2,[0],[1.0])|[3.0,31.0,18.0,1....|\n",
            "|       1|     3|female|29.7|  7.225|       C|   1.0|        1.0|(2,[1],[1.0])|[3.0,29.7,7.225,1...|\n",
            "+--------+------+------+----+-------+--------+------+-----------+-------------+--------------------+\n",
            "only showing top 20 rows\n",
            "\n"
          ]
        }
      ],
      "source": [
        "df_features.show()"
      ]
    },
    {
      "cell_type": "markdown",
      "metadata": {
        "id": "GjMxxrInEerA"
      },
      "source": [
        "## Разобьем данные на данные для обучения и проверки"
      ]
    },
    {
      "cell_type": "code",
      "execution_count": null,
      "metadata": {
        "id": "Hj9FZxr-EXi0"
      },
      "outputs": [],
      "source": [
        "train, test = df_features.randomSplit([0.8, 0.2], seed=12345)"
      ]
    },
    {
      "cell_type": "code",
      "execution_count": null,
      "metadata": {
        "colab": {
          "base_uri": "https://localhost:8080/"
        },
        "id": "Rq_EQCXVFRJ3",
        "outputId": "3579343c-8489-44d6-d9e8-efab03fc6608"
      },
      "outputs": [
        {
          "name": "stdout",
          "output_type": "stream",
          "text": [
            "+--------+------+------+----+--------+--------+------+-----------+-------------+--------------------+\n",
            "|Survived|Pclass|   Sex| Age|    Fare|Embarked|SexInd|EmbarkedInd|  EmbarkedOhe|            Features|\n",
            "+--------+------+------+----+--------+--------+------+-----------+-------------+--------------------+\n",
            "|       0|     1|female| 2.0|  151.55|       S|   1.0|        0.0|(2,[0],[1.0])|[1.0,2.0,151.55,1...|\n",
            "|       0|     1|female|25.0|  151.55|       S|   1.0|        0.0|(2,[0],[1.0])|[1.0,25.0,151.55,...|\n",
            "|       0|     1|female|50.0| 28.7125|       C|   1.0|        1.0|(2,[1],[1.0])|[1.0,50.0,28.7125...|\n",
            "|       0|     1|  male|18.0|   108.9|       C|   0.0|        1.0|(2,[1],[1.0])|[1.0,18.0,108.9,0...|\n",
            "|       0|     1|  male|19.0|    53.1|       S|   0.0|        0.0|(2,[0],[1.0])|[1.0,19.0,53.1,0....|\n",
            "|       0|     1|  male|19.0|   263.0|       S|   0.0|        0.0|(2,[0],[1.0])|[1.0,19.0,263.0,0...|\n",
            "|       0|     1|  male|22.0|135.6333|       C|   0.0|        1.0|(2,[1],[1.0])|[1.0,22.0,135.633...|\n",
            "|       0|     1|  male|24.0|    79.2|       C|   0.0|        1.0|(2,[1],[1.0])|[1.0,24.0,79.2,0....|\n",
            "|       0|     1|  male|24.0|247.5208|       C|   0.0|        1.0|(2,[1],[1.0])|[1.0,24.0,247.520...|\n",
            "|       0|     1|  male|27.0|   211.5|       C|   0.0|        1.0|(2,[1],[1.0])|[1.0,27.0,211.5,0...|\n",
            "|       0|     1|  male|28.0|    47.1|       S|   0.0|        0.0|(2,[0],[1.0])|[1.0,28.0,47.1,0....|\n",
            "|       0|     1|  male|28.0| 82.1708|       C|   0.0|        1.0|(2,[1],[1.0])|[1.0,28.0,82.1708...|\n",
            "|       0|     1|  male|29.0|    30.0|       S|   0.0|        0.0|(2,[0],[1.0])|[1.0,29.0,30.0,0....|\n",
            "|       0|     1|  male|29.0|    66.6|       S|   0.0|        0.0|(2,[0],[1.0])|[1.0,29.0,66.6,0....|\n",
            "|       0|     1|  male|29.7|     0.0|       S|   0.0|        0.0|(2,[0],[1.0])|[1.0,29.7,0.0,0.0...|\n",
            "|       0|     1|  male|29.7|     0.0|       S|   0.0|        0.0|(2,[0],[1.0])|[1.0,29.7,0.0,0.0...|\n",
            "|       0|     1|  male|29.7|  25.925|       S|   0.0|        0.0|(2,[0],[1.0])|[1.0,29.7,25.925,...|\n",
            "|       0|     1|  male|29.7|    26.0|       S|   0.0|        0.0|(2,[0],[1.0])|[1.0,29.7,26.0,0....|\n",
            "|       0|     1|  male|29.7|   26.55|       S|   0.0|        0.0|(2,[0],[1.0])|[1.0,29.7,26.55,0...|\n",
            "|       0|     1|  male|29.7| 27.7208|       C|   0.0|        1.0|(2,[1],[1.0])|[1.0,29.7,27.7208...|\n",
            "+--------+------+------+----+--------+--------+------+-----------+-------------+--------------------+\n",
            "only showing top 20 rows\n",
            "\n"
          ]
        }
      ],
      "source": [
        "train.show()"
      ]
    },
    {
      "cell_type": "markdown",
      "metadata": {
        "id": "qjiImzktE3Rx"
      },
      "source": [
        "## Создадим и обучим модель логистической регрессии"
      ]
    },
    {
      "cell_type": "code",
      "execution_count": null,
      "metadata": {
        "id": "4QIgYk9VE1Ug"
      },
      "outputs": [],
      "source": [
        "from pyspark.ml.classification import LogisticRegression"
      ]
    },
    {
      "cell_type": "code",
      "execution_count": null,
      "metadata": {
        "id": "DBcOuTtFFApc"
      },
      "outputs": [],
      "source": [
        "lr = LogisticRegression(featuresCol = 'Features', labelCol = 'Survived')\n",
        "lrModel = lr.fit(train)"
      ]
    },
    {
      "cell_type": "code",
      "execution_count": null,
      "metadata": {
        "id": "tr9NN0dpFNTq"
      },
      "outputs": [],
      "source": [
        "train_res = lrModel.transform(train)\n",
        "test_res = lrModel.transform(test)"
      ]
    },
    {
      "cell_type": "code",
      "execution_count": null,
      "metadata": {
        "colab": {
          "base_uri": "https://localhost:8080/"
        },
        "id": "I-E255CQFnU6",
        "outputId": "1096df97-d844-412b-9f9a-cd7a8db10d29"
      },
      "outputs": [
        {
          "name": "stdout",
          "output_type": "stream",
          "text": [
            "+--------+------+------+----+--------+--------+------+-----------+-------------+--------------------+--------------------+--------------------+----------+\n",
            "|Survived|Pclass|   Sex| Age|    Fare|Embarked|SexInd|EmbarkedInd|  EmbarkedOhe|            Features|       rawPrediction|         probability|prediction|\n",
            "+--------+------+------+----+--------+--------+------+-----------+-------------+--------------------+--------------------+--------------------+----------+\n",
            "|       0|     1|female| 2.0|  151.55|       S|   1.0|        0.0|(2,[0],[1.0])|[1.0,2.0,151.55,1...|[-3.3101041867087...|[0.03522617821846...|       1.0|\n",
            "|       0|     1|female|25.0|  151.55|       S|   1.0|        0.0|(2,[0],[1.0])|[1.0,25.0,151.55,...|[-2.4144758542870...|[0.08207547992848...|       1.0|\n",
            "|       0|     1|female|50.0| 28.7125|       C|   1.0|        1.0|(2,[1],[1.0])|[1.0,50.0,28.7125...|[-2.1747688852745...|[0.10203924364510...|       1.0|\n",
            "|       0|     1|  male|18.0|   108.9|       C|   0.0|        1.0|(2,[1],[1.0])|[1.0,18.0,108.9,0...|[-0.7303594937557...|[0.32511584394549...|       1.0|\n",
            "|       0|     1|  male|19.0|    53.1|       S|   0.0|        0.0|(2,[0],[1.0])|[1.0,19.0,53.1,0....|[-0.2513778191769...|[0.43748439995849...|       1.0|\n",
            "|       0|     1|  male|19.0|   263.0|       S|   0.0|        0.0|(2,[0],[1.0])|[1.0,19.0,263.0,0...|[0.09379263390658...|[0.52343098401710...|       0.0|\n",
            "|       0|     1|  male|22.0|135.6333|       C|   0.0|        1.0|(2,[1],[1.0])|[1.0,22.0,135.633...|[-0.5306364187531...|[0.37036846569821...|       1.0|\n",
            "|       0|     1|  male|24.0|    79.2|       C|   0.0|        1.0|(2,[1],[1.0])|[1.0,24.0,79.2,0....|[-0.5455575414077...|[0.36689570618277...|       1.0|\n",
            "|       0|     1|  male|24.0|247.5208|       C|   0.0|        1.0|(2,[1],[1.0])|[1.0,24.0,247.520...|[-0.2687620826207...|[0.43321102715079...|       1.0|\n",
            "|       0|     1|  male|27.0|   211.5|       C|   0.0|        1.0|(2,[1],[1.0])|[1.0,27.0,211.5,0...|[-0.2111754686580...|[0.44740145738483...|       1.0|\n",
            "|       0|     1|  male|28.0|    47.1|       S|   0.0|        0.0|(2,[0],[1.0])|[1.0,28.0,47.1,0....|[0.08921872995666...|[0.52228989885129...|       0.0|\n",
            "|       0|     1|  male|28.0| 82.1708|       C|   0.0|        1.0|(2,[1],[1.0])|[1.0,28.0,82.1708...|[-0.3849107545966...|[0.40494303089618...|       1.0|\n",
            "|       0|     1|  male|29.0|    30.0|       S|   0.0|        0.0|(2,[0],[1.0])|[1.0,29.0,30.0,0....|[0.10003896480505...|[0.52498890435827...|       0.0|\n",
            "|       0|     1|  male|29.0|    66.6|       S|   0.0|        0.0|(2,[0],[1.0])|[1.0,29.0,66.6,0....|[0.16022590421837...|[0.53997100019377...|       0.0|\n",
            "|       0|     1|  male|29.7|     0.0|       S|   0.0|        0.0|(2,[0],[1.0])|[1.0,29.7,0.0,0.0...|[0.07796366150432...|[0.51948104868461...|       0.0|\n",
            "|       0|     1|  male|29.7|     0.0|       S|   0.0|        0.0|(2,[0],[1.0])|[1.0,29.7,0.0,0.0...|[0.07796366150432...|[0.51948104868461...|       0.0|\n",
            "|       0|     1|  male|29.7|  25.925|       S|   0.0|        0.0|(2,[0],[1.0])|[1.0,29.7,25.925,...|[0.12059607692209...|[0.53011253315436...|       0.0|\n",
            "|       0|     1|  male|29.7|    26.0|       S|   0.0|        0.0|(2,[0],[1.0])|[1.0,29.7,26.0,0....|[0.12071941081433...|[0.53014325467847...|       0.0|\n",
            "|       0|     1|  male|29.7|   26.55|       S|   0.0|        0.0|(2,[0],[1.0])|[1.0,29.7,26.55,0...|[0.12162385935743...|[0.53036853886072...|       0.0|\n",
            "|       0|     1|  male|29.7| 27.7208|       C|   0.0|        1.0|(2,[1],[1.0])|[1.0,29.7,27.7208...|[-0.4082525444885...|[0.39933120212488...|       1.0|\n",
            "+--------+------+------+----+--------+--------+------+-----------+-------------+--------------------+--------------------+--------------------+----------+\n",
            "only showing top 20 rows\n",
            "\n"
          ]
        }
      ],
      "source": [
        "train_res.show()"
      ]
    },
    {
      "cell_type": "markdown",
      "metadata": {
        "id": "WlJPPs4rFrwv"
      },
      "source": [
        "## Оценим качество\n",
        "Для оценки качества предсказания в spark реализованно несколько классов\n",
        "Если мы решаем задачу бинарной классификации (то есть классов - 2), то нам подойдет BinaryCLassificationEvaluator, а если классов больше 2-х, то MulticlassClassificationEvaluator"
      ]
    },
    {
      "cell_type": "code",
      "execution_count": null,
      "metadata": {
        "id": "HlxLMOYAFpNt"
      },
      "outputs": [],
      "source": [
        "from pyspark.ml.evaluation import BinaryClassificationEvaluator"
      ]
    },
    {
      "cell_type": "code",
      "execution_count": null,
      "metadata": {
        "id": "6kDkBr1jGtv6"
      },
      "outputs": [],
      "source": [
        "ev = BinaryClassificationEvaluator(labelCol='Survived')"
      ]
    },
    {
      "cell_type": "code",
      "execution_count": null,
      "metadata": {
        "colab": {
          "base_uri": "https://localhost:8080/"
        },
        "id": "Yf1m2YR3G1oC",
        "outputId": "ea73e908-7301-4816-ab4a-2618c397bad7"
      },
      "outputs": [
        {
          "data": {
            "text/plain": [
              "0.8524237589235771"
            ]
          },
          "execution_count": 72,
          "metadata": {},
          "output_type": "execute_result"
        }
      ],
      "source": [
        "ev.evaluate(train_res)"
      ]
    },
    {
      "cell_type": "code",
      "execution_count": null,
      "metadata": {
        "colab": {
          "base_uri": "https://localhost:8080/"
        },
        "id": "OYffHnj9G_-m",
        "outputId": "caf99580-f1ac-41a1-c157-3f9368ee6507"
      },
      "outputs": [
        {
          "data": {
            "text/plain": [
              "0.8456432707244734"
            ]
          },
          "execution_count": 73,
          "metadata": {},
          "output_type": "execute_result"
        }
      ],
      "source": [
        "ev.evaluate(test_res)"
      ]
    },
    {
      "cell_type": "markdown",
      "metadata": {
        "id": "IWiuZZ5SJUip"
      },
      "source": [
        "## Практика 6. Обучите модель дерева решений и оцените его качество\n",
        "https://spark.apache.org/docs/latest/ml-classification-regression.html#decision-tree-classifier"
      ]
    },
    {
      "cell_type": "code",
      "execution_count": null,
      "metadata": {
        "id": "zHZB8WglLvh8"
      },
      "outputs": [],
      "source": [
        "from pyspark.ml.classification import DecisionTreeClassifier"
      ]
    },
    {
      "cell_type": "code",
      "execution_count": null,
      "metadata": {
        "id": "EYObXRFXaFmc"
      },
      "outputs": [],
      "source": [
        "tr = DecisionTreeClassifier(featuresCol='Features', labelCol='Survived')"
      ]
    },
    {
      "cell_type": "code",
      "execution_count": null,
      "metadata": {
        "id": "DEeSdS9RaFzN"
      },
      "outputs": [],
      "source": [
        "trFitted = tr.fit(train)"
      ]
    },
    {
      "cell_type": "code",
      "execution_count": null,
      "metadata": {
        "id": "rtSWJVynahNa"
      },
      "outputs": [],
      "source": [
        "train_tr_res=trFitted.transform(train)\n",
        "test_tr_res=trFitted.transform(test)"
      ]
    },
    {
      "cell_type": "code",
      "execution_count": null,
      "metadata": {
        "colab": {
          "base_uri": "https://localhost:8080/"
        },
        "id": "QlRcrgSnahQ4",
        "outputId": "8a50de86-ebda-4599-c0bd-c6e945a70343"
      },
      "outputs": [
        {
          "name": "stdout",
          "output_type": "stream",
          "text": [
            "+--------+------+------+----+--------+--------+------+-----------+-------------+--------------------+-------------+--------------------+----------+\n",
            "|Survived|Pclass|   Sex| Age|    Fare|Embarked|SexInd|EmbarkedInd|  EmbarkedOhe|            Features|rawPrediction|         probability|prediction|\n",
            "+--------+------+------+----+--------+--------+------+-----------+-------------+--------------------+-------------+--------------------+----------+\n",
            "|       0|     1|female| 2.0|  151.55|       S|   1.0|        0.0|(2,[0],[1.0])|[1.0,2.0,151.55,1...|    [1.0,0.0]|           [1.0,0.0]|       0.0|\n",
            "|       0|     1|female|25.0|  151.55|       S|   1.0|        0.0|(2,[0],[1.0])|[1.0,25.0,151.55,...|  [8.0,121.0]|[0.06201550387596...|       1.0|\n",
            "|       0|     1|female|50.0| 28.7125|       C|   1.0|        1.0|(2,[1],[1.0])|[1.0,50.0,28.7125...|  [8.0,121.0]|[0.06201550387596...|       1.0|\n",
            "|       0|     1|  male|18.0|   108.9|       C|   0.0|        1.0|(2,[1],[1.0])|[1.0,18.0,108.9,0...|  [59.0,33.0]|[0.64130434782608...|       0.0|\n",
            "|       0|     1|  male|19.0|    53.1|       S|   0.0|        0.0|(2,[0],[1.0])|[1.0,19.0,53.1,0....|  [59.0,33.0]|[0.64130434782608...|       0.0|\n",
            "|       0|     1|  male|19.0|   263.0|       S|   0.0|        0.0|(2,[0],[1.0])|[1.0,19.0,263.0,0...|  [59.0,33.0]|[0.64130434782608...|       0.0|\n",
            "|       0|     1|  male|22.0|135.6333|       C|   0.0|        1.0|(2,[1],[1.0])|[1.0,22.0,135.633...|  [59.0,33.0]|[0.64130434782608...|       0.0|\n",
            "|       0|     1|  male|24.0|    79.2|       C|   0.0|        1.0|(2,[1],[1.0])|[1.0,24.0,79.2,0....|  [59.0,33.0]|[0.64130434782608...|       0.0|\n",
            "|       0|     1|  male|24.0|247.5208|       C|   0.0|        1.0|(2,[1],[1.0])|[1.0,24.0,247.520...|  [59.0,33.0]|[0.64130434782608...|       0.0|\n",
            "|       0|     1|  male|27.0|   211.5|       C|   0.0|        1.0|(2,[1],[1.0])|[1.0,27.0,211.5,0...|  [59.0,33.0]|[0.64130434782608...|       0.0|\n",
            "|       0|     1|  male|28.0|    47.1|       S|   0.0|        0.0|(2,[0],[1.0])|[1.0,28.0,47.1,0....|  [59.0,33.0]|[0.64130434782608...|       0.0|\n",
            "|       0|     1|  male|28.0| 82.1708|       C|   0.0|        1.0|(2,[1],[1.0])|[1.0,28.0,82.1708...|  [59.0,33.0]|[0.64130434782608...|       0.0|\n",
            "|       0|     1|  male|29.0|    30.0|       S|   0.0|        0.0|(2,[0],[1.0])|[1.0,29.0,30.0,0....|  [59.0,33.0]|[0.64130434782608...|       0.0|\n",
            "|       0|     1|  male|29.0|    66.6|       S|   0.0|        0.0|(2,[0],[1.0])|[1.0,29.0,66.6,0....|  [59.0,33.0]|[0.64130434782608...|       0.0|\n",
            "|       0|     1|  male|29.7|     0.0|       S|   0.0|        0.0|(2,[0],[1.0])|[1.0,29.7,0.0,0.0...|   [10.0,0.0]|           [1.0,0.0]|       0.0|\n",
            "|       0|     1|  male|29.7|     0.0|       S|   0.0|        0.0|(2,[0],[1.0])|[1.0,29.7,0.0,0.0...|   [10.0,0.0]|           [1.0,0.0]|       0.0|\n",
            "|       0|     1|  male|29.7|  25.925|       S|   0.0|        0.0|(2,[0],[1.0])|[1.0,29.7,25.925,...|   [10.0,0.0]|           [1.0,0.0]|       0.0|\n",
            "|       0|     1|  male|29.7|    26.0|       S|   0.0|        0.0|(2,[0],[1.0])|[1.0,29.7,26.0,0....|   [10.0,0.0]|           [1.0,0.0]|       0.0|\n",
            "|       0|     1|  male|29.7|   26.55|       S|   0.0|        0.0|(2,[0],[1.0])|[1.0,29.7,26.55,0...|  [59.0,33.0]|[0.64130434782608...|       0.0|\n",
            "|       0|     1|  male|29.7| 27.7208|       C|   0.0|        1.0|(2,[1],[1.0])|[1.0,29.7,27.7208...|  [59.0,33.0]|[0.64130434782608...|       0.0|\n",
            "+--------+------+------+----+--------+--------+------+-----------+-------------+--------------------+-------------+--------------------+----------+\n",
            "only showing top 20 rows\n",
            "\n"
          ]
        }
      ],
      "source": [
        "train_tr_res.show()"
      ]
    },
    {
      "cell_type": "code",
      "execution_count": null,
      "metadata": {
        "colab": {
          "base_uri": "https://localhost:8080/"
        },
        "id": "g5og8djwahUB",
        "outputId": "03f6f71a-22dc-4313-c939-16507069decb"
      },
      "outputs": [
        {
          "data": {
            "text/plain": [
              "0.7435807809981247"
            ]
          },
          "execution_count": 79,
          "metadata": {},
          "output_type": "execute_result"
        }
      ],
      "source": [
        "ev.evaluate(train_tr_res)"
      ]
    },
    {
      "cell_type": "code",
      "execution_count": null,
      "metadata": {
        "colab": {
          "base_uri": "https://localhost:8080/"
        },
        "id": "CJHcr5Lwa-QS",
        "outputId": "ab6293be-d5fa-4a1c-9de2-bff328a205f2"
      },
      "outputs": [
        {
          "data": {
            "text/plain": [
              "0.8068775596667137"
            ]
          },
          "execution_count": 80,
          "metadata": {},
          "output_type": "execute_result"
        }
      ],
      "source": [
        "ev.evaluate(test_tr_res)"
      ]
    },
    {
      "cell_type": "markdown",
      "metadata": {
        "id": "AlK_Jtj1J60h"
      },
      "source": [
        "## Домашнее задание\n",
        "Обучите модель классификации для цветков Iris'а\n",
        "\n",
        "Примерная последовательность действий:\n",
        "1. Взять данные - https://drive.google.com/file/d/18ksAxTxBkp15LToEg46BHhwp3sPIoeUU/view?usp=sharing\n",
        "2. Загрузить в pyspark\n",
        "3. При помощи VectorAssembler преобразовать все колонки с признаками в одну (использовать PipeLine - опционально)\n",
        "4. Разбить данные на train и test\n",
        "5. Создать модель линейной регресии или модель дерева и обучить ее\n",
        "6. Воспользоваться MulticlassClassificationEvaluator для оценки качества на train и test множестве"
      ]
    },
    {
      "cell_type": "code",
      "execution_count": null,
      "metadata": {
        "id": "nrZ5gN71J41T"
      },
      "outputs": [],
      "source": []
    }
  ],
  "metadata": {
    "colab": {
      "provenance": []
    },
    "kernelspec": {
      "display_name": "Python 3",
      "name": "python3"
    },
    "language_info": {
      "codemirror_mode": {
        "name": "ipython",
        "version": 3
      },
      "file_extension": ".py",
      "mimetype": "text/x-python",
      "name": "python",
      "nbconvert_exporter": "python",
      "pygments_lexer": "ipython3",
      "version": "3.11.5"
    }
  },
  "nbformat": 4,
  "nbformat_minor": 0
}
