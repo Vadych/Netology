{
 "cells": [
  {
   "cell_type": "code",
   "execution_count": 1,
   "metadata": {},
   "outputs": [
    {
     "name": "stdout",
     "output_type": "stream",
     "text": [
      "Сингулярные значения: [6.00000000e+00 5.60898698e-16 3.88443959e-49]\n",
      "Фильтр сепарабельный\n"
     ]
    }
   ],
   "source": [
    "import numpy as np\n",
    "\n",
    "# Двумерное ядро фильтра\n",
    "kernel = np.array([[1, 2, 1],\n",
    "                   [2, 4, 2],\n",
    "                   [1, 2, 1]])\n",
    "\n",
    "# Сингулярное разложение\n",
    "U, S, V = np.linalg.svd(kernel)\n",
    "\n",
    "# Проверка сепарабельности\n",
    "print(\"Сингулярные значения:\", S)\n",
    "if np.sum(S > 1e-10) == 1:\n",
    "    print(\"Фильтр сепарабельный\")\n",
    "else:\n",
    "    print(\"Фильтр не сепарабельный\")"
   ]
  },
  {
   "cell_type": "code",
   "execution_count": 2,
   "metadata": {},
   "outputs": [
    {
     "data": {
      "text/plain": [
       "array([6.00000000e+00, 5.60898698e-16, 3.88443959e-49])"
      ]
     },
     "execution_count": 2,
     "metadata": {},
     "output_type": "execute_result"
    }
   ],
   "source": [
    "S"
   ]
  },
  {
   "cell_type": "code",
   "execution_count": 3,
   "metadata": {},
   "outputs": [
    {
     "data": {
      "text/plain": [
       "6.000000000000002"
      ]
     },
     "execution_count": 3,
     "metadata": {},
     "output_type": "execute_result"
    }
   ],
   "source": [
    "np.sum(S)"
   ]
  },
  {
   "cell_type": "code",
   "execution_count": 4,
   "metadata": {},
   "outputs": [
    {
     "data": {
      "text/plain": [
       "array([ True, False, False])"
      ]
     },
     "execution_count": 4,
     "metadata": {},
     "output_type": "execute_result"
    }
   ],
   "source": [
    "S > 1e-10"
   ]
  },
  {
   "cell_type": "code",
   "execution_count": 5,
   "metadata": {},
   "outputs": [
    {
     "name": "stdout",
     "output_type": "stream",
     "text": [
      "Горизонтальный фильтр: [-1. -2. -1.]\n",
      "Вертикальный фильтр: [-1. -2. -1.]\n",
      "Восстановленный фильтр:\n",
      " [[1. 2. 1.]\n",
      " [2. 4. 2.]\n",
      " [1. 2. 1.]]\n"
     ]
    }
   ],
   "source": [
    "import numpy as np\n",
    "\n",
    "# Двумерное ядро фильтра\n",
    "kernel = np.array([[1, 2, 1],\n",
    "                   [2, 4, 2],\n",
    "                   [1, 2, 1]])\n",
    "\n",
    "# Применяем SVD\n",
    "U, S, Vt = np.linalg.svd(kernel)\n",
    "\n",
    "# Первое сингулярное значение\n",
    "s1 = S[0]\n",
    "\n",
    "# Соответствующие векторы\n",
    "u1 = U[:, 0]  # Первый столбец матрицы U\n",
    "v1 = Vt[0, :]  # Первый строка матрицы V^T\n",
    "\n",
    "# Одномерные фильтры\n",
    "horizontal_filter = np.sqrt(s1) * v1\n",
    "vertical_filter = np.sqrt(s1) * u1\n",
    "\n",
    "print(\"Горизонтальный фильтр:\", horizontal_filter)\n",
    "print(\"Вертикальный фильтр:\", vertical_filter)\n",
    "\n",
    "# Восстановленный фильтр\n",
    "reconstructed_kernel = np.outer(vertical_filter, horizontal_filter)\n",
    "print(\"Восстановленный фильтр:\\n\", reconstructed_kernel)\n"
   ]
  },
  {
   "cell_type": "code",
   "execution_count": 6,
   "metadata": {},
   "outputs": [
    {
     "data": {
      "text/plain": [
       "6.0"
      ]
     },
     "execution_count": 6,
     "metadata": {},
     "output_type": "execute_result"
    }
   ],
   "source": [
    "horizontal_filter @ vertical_filter"
   ]
  },
  {
   "cell_type": "code",
   "execution_count": null,
   "metadata": {},
   "outputs": [],
   "source": []
  }
 ],
 "metadata": {
  "kernelspec": {
   "display_name": "base",
   "language": "python",
   "name": "python3"
  },
  "language_info": {
   "codemirror_mode": {
    "name": "ipython",
    "version": 3
   },
   "file_extension": ".py",
   "mimetype": "text/x-python",
   "name": "python",
   "nbconvert_exporter": "python",
   "pygments_lexer": "ipython3",
   "version": "3.11.5"
  }
 },
 "nbformat": 4,
 "nbformat_minor": 2
}
