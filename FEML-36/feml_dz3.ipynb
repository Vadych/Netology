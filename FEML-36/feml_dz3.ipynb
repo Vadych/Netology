{
 "cells": [
  {
   "cell_type": "code",
   "execution_count": 388,
   "metadata": {},
   "outputs": [],
   "source": [
    "import pandas as pd\n",
    "import numpy as np\n",
    "import matplotlib.pyplot as plt\n",
    "\n",
    "from sklearn.datasets import load_iris"
   ]
  },
  {
   "cell_type": "code",
   "execution_count": 389,
   "metadata": {},
   "outputs": [
    {
     "data": {
      "text/html": [
       "<div>\n",
       "<style scoped>\n",
       "    .dataframe tbody tr th:only-of-type {\n",
       "        vertical-align: middle;\n",
       "    }\n",
       "\n",
       "    .dataframe tbody tr th {\n",
       "        vertical-align: top;\n",
       "    }\n",
       "\n",
       "    .dataframe thead th {\n",
       "        text-align: right;\n",
       "    }\n",
       "</style>\n",
       "<table border=\"1\" class=\"dataframe\">\n",
       "  <thead>\n",
       "    <tr style=\"text-align: right;\">\n",
       "      <th></th>\n",
       "      <th>sepal length (cm)</th>\n",
       "      <th>sepal width (cm)</th>\n",
       "      <th>petal length (cm)</th>\n",
       "      <th>petal width (cm)</th>\n",
       "      <th>target</th>\n",
       "    </tr>\n",
       "  </thead>\n",
       "  <tbody>\n",
       "    <tr>\n",
       "      <th>0</th>\n",
       "      <td>5.1</td>\n",
       "      <td>3.5</td>\n",
       "      <td>1.4</td>\n",
       "      <td>0.2</td>\n",
       "      <td>0.0</td>\n",
       "    </tr>\n",
       "    <tr>\n",
       "      <th>1</th>\n",
       "      <td>4.9</td>\n",
       "      <td>3.0</td>\n",
       "      <td>1.4</td>\n",
       "      <td>0.2</td>\n",
       "      <td>0.0</td>\n",
       "    </tr>\n",
       "    <tr>\n",
       "      <th>2</th>\n",
       "      <td>4.7</td>\n",
       "      <td>3.2</td>\n",
       "      <td>1.3</td>\n",
       "      <td>0.2</td>\n",
       "      <td>0.0</td>\n",
       "    </tr>\n",
       "    <tr>\n",
       "      <th>3</th>\n",
       "      <td>4.6</td>\n",
       "      <td>3.1</td>\n",
       "      <td>1.5</td>\n",
       "      <td>0.2</td>\n",
       "      <td>0.0</td>\n",
       "    </tr>\n",
       "    <tr>\n",
       "      <th>4</th>\n",
       "      <td>5.0</td>\n",
       "      <td>3.6</td>\n",
       "      <td>1.4</td>\n",
       "      <td>0.2</td>\n",
       "      <td>0.0</td>\n",
       "    </tr>\n",
       "    <tr>\n",
       "      <th>...</th>\n",
       "      <td>...</td>\n",
       "      <td>...</td>\n",
       "      <td>...</td>\n",
       "      <td>...</td>\n",
       "      <td>...</td>\n",
       "    </tr>\n",
       "    <tr>\n",
       "      <th>95</th>\n",
       "      <td>5.7</td>\n",
       "      <td>3.0</td>\n",
       "      <td>4.2</td>\n",
       "      <td>1.2</td>\n",
       "      <td>1.0</td>\n",
       "    </tr>\n",
       "    <tr>\n",
       "      <th>96</th>\n",
       "      <td>5.7</td>\n",
       "      <td>2.9</td>\n",
       "      <td>4.2</td>\n",
       "      <td>1.3</td>\n",
       "      <td>1.0</td>\n",
       "    </tr>\n",
       "    <tr>\n",
       "      <th>97</th>\n",
       "      <td>6.2</td>\n",
       "      <td>2.9</td>\n",
       "      <td>4.3</td>\n",
       "      <td>1.3</td>\n",
       "      <td>1.0</td>\n",
       "    </tr>\n",
       "    <tr>\n",
       "      <th>98</th>\n",
       "      <td>5.1</td>\n",
       "      <td>2.5</td>\n",
       "      <td>3.0</td>\n",
       "      <td>1.1</td>\n",
       "      <td>1.0</td>\n",
       "    </tr>\n",
       "    <tr>\n",
       "      <th>99</th>\n",
       "      <td>5.7</td>\n",
       "      <td>2.8</td>\n",
       "      <td>4.1</td>\n",
       "      <td>1.3</td>\n",
       "      <td>1.0</td>\n",
       "    </tr>\n",
       "  </tbody>\n",
       "</table>\n",
       "<p>100 rows × 5 columns</p>\n",
       "</div>"
      ],
      "text/plain": [
       "    sepal length (cm)  sepal width (cm)  petal length (cm)  petal width (cm)  \\\n",
       "0                 5.1               3.5                1.4               0.2   \n",
       "1                 4.9               3.0                1.4               0.2   \n",
       "2                 4.7               3.2                1.3               0.2   \n",
       "3                 4.6               3.1                1.5               0.2   \n",
       "4                 5.0               3.6                1.4               0.2   \n",
       "..                ...               ...                ...               ...   \n",
       "95                5.7               3.0                4.2               1.2   \n",
       "96                5.7               2.9                4.2               1.3   \n",
       "97                6.2               2.9                4.3               1.3   \n",
       "98                5.1               2.5                3.0               1.1   \n",
       "99                5.7               2.8                4.1               1.3   \n",
       "\n",
       "    target  \n",
       "0      0.0  \n",
       "1      0.0  \n",
       "2      0.0  \n",
       "3      0.0  \n",
       "4      0.0  \n",
       "..     ...  \n",
       "95     1.0  \n",
       "96     1.0  \n",
       "97     1.0  \n",
       "98     1.0  \n",
       "99     1.0  \n",
       "\n",
       "[100 rows x 5 columns]"
      ]
     },
     "execution_count": 389,
     "metadata": {},
     "output_type": "execute_result"
    }
   ],
   "source": [
    "df = load_iris()\n",
    "df = pd.DataFrame(data= np.c_[df['data'], df['target']],\n",
    "                     columns= df['feature_names'] + ['target'])\n",
    "df = df[df['target'] != 2]\n",
    "df"
   ]
  },
  {
   "cell_type": "markdown",
   "metadata": {},
   "source": [
    "# Сигмоида\n",
    "$\\sigma=\\frac{1}{1 + exp(-\\left \\langle w,x_{i} \\right \\rangle)}$"
   ]
  },
  {
   "cell_type": "code",
   "execution_count": 391,
   "metadata": {},
   "outputs": [],
   "source": [
    "def sigmoid(wx):\n",
    "    \"\"\"Вычисляем сигмоиду для произведения векторов w и x\"\"\"\n",
    "    return 1 / (1 + np.exp(-wx))"
   ]
  },
  {
   "cell_type": "markdown",
   "metadata": {},
   "source": [
    "# Log Loss\n",
    "$L(X) = -\\sum^{l}_{i=1} (y_{i} \\text{ln}(\\sigma) + (1 - y_{i})\\text{ln} (1-\\sigma)).$\n"
   ]
  },
  {
   "cell_type": "code",
   "execution_count": 392,
   "metadata": {},
   "outputs": [],
   "source": [
    "def log_loss(X, y, w):\n",
    "    '''Вычисляет Log Loss для всего набора признаков X, таргетов y и весов w'''\n",
    "    Sg = sigmoid(X@w)\n",
    "    return -1 * np.sum(y * np.log(Sg) + (1 - y) * np.log(1 - Sg))"
   ]
  },
  {
   "cell_type": "markdown",
   "metadata": {},
   "source": [
    "# Градиент\n",
    "$$\\frac{dL}{dw} = X^{T}(\\sigma-Y)$$"
   ]
  },
  {
   "cell_type": "code",
   "execution_count": 393,
   "metadata": {},
   "outputs": [],
   "source": [
    "def grad(X, y, w):\n",
    "    '''Вычисляет градиент для для всего набора признаков X, таргетов y и весов w'''\n",
    "    return X.T @ (sigmoid(X@w) - y)"
   ]
  },
  {
   "cell_type": "markdown",
   "metadata": {},
   "source": [
    "# Градиентный спуск, предсказания и точность"
   ]
  },
  {
   "cell_type": "code",
   "execution_count": 394,
   "metadata": {},
   "outputs": [],
   "source": [
    "def gd(X, y, w=None, eta = 0.01, iter=50, eps=1e-8):\n",
    "    '''\n",
    "    Реализует алгоритм градиентного спуска для Логистической регрессии.\n",
    "    X - набор признаков, y - таргет\n",
    "    w - Начальный набор весов. Если не задан - генерируется нулевой. Свободный член всегда генерируется.\n",
    "    eta - шаг градиентного спуска. По умолчанию 0.01\n",
    "    iter - количество итераций. По умолчанию 100\n",
    "    eps - минимальное изменение вектора весов, при котором продолжается алгоритм спуска\n",
    "    Возвращает кортеж из весов, где последний элемент - свободный член и значения ошибки\n",
    "    '''\n",
    "    # np.linalg.norm(point_1-point_2)\n",
    "    losses = [] # Собираем ошибки для визуализации\n",
    "    \n",
    "    # Инициализируем веса.\n",
    "    if w is None or w.shape[0] != y.shape[0]:\n",
    "        w = np.zeros(X.shape[1])\n",
    "    w = np.append(w, 0)\n",
    "        \n",
    "    # Добавляем столбец для свободного члена\n",
    "    X = np.append(X, np.ones(X.shape[0]).reshape(-1, 1), axis=1)\n",
    "    \n",
    "    # Спускаемся\n",
    "    for _ in range(iter):\n",
    "        losses.append(log_loss(X, y, w))\n",
    "        w_new = w - eta * grad(X, y, w)\n",
    "        if np.linalg.norm(w_new - w) < eps:\n",
    "            break\n",
    "        w = w_new\n",
    "    \n",
    "    return w, losses"
   ]
  },
  {
   "cell_type": "code",
   "execution_count": 395,
   "metadata": {},
   "outputs": [],
   "source": [
    "def predict(X, w):\n",
    "    '''Предсказывает класс для набора признаков X с весами w'''\n",
    "    X = np.append(X, np.ones(X.shape[0]).reshape(-1, 1), axis=1)\n",
    "\n",
    "    return (sigmoid(X@w) > 0.5).astype('int')"
   ]
  },
  {
   "cell_type": "code",
   "execution_count": 396,
   "metadata": {},
   "outputs": [],
   "source": [
    "def accuracy(X, y, w):\n",
    "    '''Вычисляет точность для набора признаков X, таргетов y и весов w'''\n",
    "    return np.sum((predict(X, w) == y).astype('int')) / y.shape[0]\n"
   ]
  },
  {
   "cell_type": "markdown",
   "metadata": {},
   "source": [
    "# RMSProp"
   ]
  },
  {
   "cell_type": "code",
   "execution_count": 397,
   "metadata": {},
   "outputs": [],
   "source": [
    "def rmsprop(X, y, w=None, eta = 0.1, gamma = 0.9, iter=50, eps=1e-8):\n",
    "    '''\n",
    "    Реализует алгоритм RMSProp для Логистической регрессии.\n",
    "    X - набор признаков, y - таргет\n",
    "    w - Начальный набор весов. Если не задан - генерируется нулевой. Свободный член всегда генерируется.\n",
    "    eta - шаг градиентного спуска. По умолчанию 0.01\n",
    "    gamma - затухание. По умолчанию 0.9\n",
    "    iter - количество итераций. По умолчанию 100\n",
    "    eps - минимальное изменение вектора весов, при котором продолжается алгоритм спуска\n",
    "    Возвращает кортеж из весов, где последний элемент - свободный член и значения ошибки\n",
    "    '''\n",
    "    losses = [] # Собираем ошибки для визуализации\n",
    "    \n",
    "    # Инициализируем веса.\n",
    "    if w is None or w.shape[0] != y.shape[0]:\n",
    "        w = np.zeros(X.shape[1])\n",
    "    w = np.append(w, 0)\n",
    "        \n",
    "    # Добавляем столбец для свободного члена\n",
    "    X = np.append(X, np.ones(X.shape[0]).reshape(-1, 1), axis=1)\n",
    "    \n",
    "    # Спускаемся\n",
    "    E = 0\n",
    "    for _ in range(iter):\n",
    "        losses.append(log_loss(X, y, w))\n",
    "        g = grad(X, y, w)\n",
    "        E = E * gamma + (1 - gamma) * g ** 2\n",
    "        w_new = w - eta * g / np.sqrt(E + 1e-8)\n",
    "        if np.linalg.norm(w_new - w) < eps:\n",
    "            break\n",
    "        w = w_new\n",
    "    \n",
    "    return w, losses"
   ]
  },
  {
   "cell_type": "markdown",
   "metadata": {},
   "source": [
    "# Nadam"
   ]
  },
  {
   "cell_type": "code",
   "execution_count": 398,
   "metadata": {},
   "outputs": [],
   "source": [
    "def nadam(X, y, w=None, eta = 0.1, mu = 0.95, nu = 0.95, iter=50, eps=1e-8):\n",
    "    '''\n",
    "    Реализует алгоритм RMSProp для Логистической регрессии.\n",
    "    X - набор признаков, y - таргет\n",
    "    w - Начальный набор весов. Если не задан - генерируется нулевой. Свободный член всегда генерируется.\n",
    "    eta - шаг градиентного спуска. По умолчанию 0.1\n",
    "    mu - затухание первого момента. По умолчанию 0.9\n",
    "    nu - затухание второго момента. По умолчанию 0.95\n",
    "    iter - количество итераций. По умолчанию 100\n",
    "    eps - минимальное изменение вектора весов, при котором продолжается алгоритм спуска\n",
    "    Возвращает кортеж из весов, где последний элемент - свободный член и значения ошибки\n",
    "    '''\n",
    "    losses = [] # Собираем ошибки для визуализации\n",
    "    # Инициализируем веса.\n",
    "    if w is None or w.shape[0] != y.shape[0]:\n",
    "        w = np.zeros(X.shape[1])\n",
    "    w = np.append(w, 0)\n",
    "        \n",
    "    # Добавляем столбец для свободного члена\n",
    "    X = np.append(X, np.ones(X.shape[0]).reshape(-1, 1), axis=1)\n",
    "    \n",
    "    # Спускаемся\n",
    "    m = 0\n",
    "    n = 0\n",
    "    for _ in range(iter):\n",
    "        losses.append(log_loss(X, y, w))\n",
    "        g = grad(X, y, w)\n",
    "        m = mu * m + (1 - mu) * g\n",
    "        n = nu * n + (1 - nu) * g ** 2 \n",
    "        mhat = (mu * m / (1 - mu)) + ((1 - mu) * g / (1 - mu))\n",
    "        nhat = nu * n / (1 - nu)\n",
    "        w_new = w - eta / np.sqrt(nhat + 1e-8) * mhat\n",
    "        if np.linalg.norm(w_new - w) < eps:\n",
    "            break\n",
    "        w = w_new\n",
    "    \n",
    "    return w, losses"
   ]
  },
  {
   "cell_type": "markdown",
   "metadata": {},
   "source": [
    "# Исследования"
   ]
  },
  {
   "cell_type": "code",
   "execution_count": 399,
   "metadata": {},
   "outputs": [],
   "source": [
    "X = df.drop('target', axis=1).to_numpy()\n",
    "y = df['target'].to_numpy()\n",
    "N = 100"
   ]
  },
  {
   "cell_type": "code",
   "execution_count": 400,
   "metadata": {},
   "outputs": [],
   "source": [
    "from sklearn.model_selection import train_test_split\n",
    "X_train, X_test, y_train, y_test = train_test_split(X, y, test_size=0.2)"
   ]
  },
  {
   "cell_type": "markdown",
   "metadata": {},
   "source": [
    "## Градиентный спуск"
   ]
  },
  {
   "cell_type": "code",
   "execution_count": 401,
   "metadata": {},
   "outputs": [
    {
     "data": {
      "text/plain": [
       "(1.0, 0.5004035716726947)"
      ]
     },
     "execution_count": 401,
     "metadata": {},
     "output_type": "execute_result"
    }
   ],
   "source": [
    "w_gd, losses_gd = gd(X_train, y_train, iter=N)\n",
    "accuracy_gd = accuracy(X_test, y_test, w_gd)\n",
    "accuracy_gd, losses_gd[-1]"
   ]
  },
  {
   "cell_type": "code",
   "execution_count": 402,
   "metadata": {},
   "outputs": [
    {
     "data": {
      "text/plain": [
       "(1.0, 0.128574310036481)"
      ]
     },
     "execution_count": 402,
     "metadata": {},
     "output_type": "execute_result"
    }
   ],
   "source": [
    "w_rms, losses_rms = rmsprop(X_train, y_train, iter=N)\n",
    "accuracy_rms = accuracy(X_test, y_test, w_rms)\n",
    "accuracy_rms, losses_rms[-1]"
   ]
  },
  {
   "cell_type": "code",
   "execution_count": 403,
   "metadata": {},
   "outputs": [
    {
     "data": {
      "text/plain": [
       "(1.0, 0.00010583781850250287)"
      ]
     },
     "execution_count": 403,
     "metadata": {},
     "output_type": "execute_result"
    }
   ],
   "source": [
    "w_nadam, losses_nadam = nadam(X_train, y_train, iter=N)\n",
    "accuracy_nadam = accuracy(X_test, y_test, w_nadam)\n",
    "accuracy_nadam, losses_nadam[-1]"
   ]
  },
  {
   "cell_type": "code",
   "execution_count": 404,
   "metadata": {},
   "outputs": [],
   "source": [
    "epoh = range(10, 100)"
   ]
  },
  {
   "cell_type": "code",
   "execution_count": 405,
   "metadata": {},
   "outputs": [
    {
     "data": {
      "image/png": "[encoded data removed]",
      "text/plain": [
       "<Figure size 640x480 with 1 Axes>"
      ]
     },
     "metadata": {},
     "output_type": "display_data"
    }
   ],
   "source": [
    "plt.plot(epoh, losses_gd[10:], label='GD')\n",
    "plt.plot(epoh, losses_rms[10:], label='RMSProp')\n",
    "plt.plot(epoh, losses_nadam[10:], label='Nadam')\n",
    "plt.legend()\n",
    "plt.xlabel('Epochs')\n",
    "plt.ylabel('Loss')\n",
    "plt.show()"
   ]
  },
  {
   "cell_type": "markdown",
   "metadata": {},
   "source": [
    "# Выводы\n",
    "Они немного странные.\n",
    "\n",
    "Все модели показали accuracy = 1. То ли данные хорошо разделены, то ли я ошибся.\n",
    "\n",
    "Nadam показал лучшую функцию потерь и быстрее всех вышел на хороший результат.\n",
    "\n",
    "RMSProp дольше чем GD выходил на хороший результат, но в итоге показал лучший результат по потерям, чм GD.\n",
    "\n",
    "Все тесты проводил с рекомендованными значениями гиперпараметров.  "
   ]
  },
  {
   "cell_type": "markdown",
   "metadata": {},
   "source": []
  },
  {
   "cell_type": "markdown",
   "metadata": {},
   "source": []
  }
 ],
 "metadata": {
  "kernelspec": {
   "display_name": "base",
   "language": "python",
   "name": "python3"
  },
  "language_info": {
   "codemirror_mode": {
    "name": "ipython",
    "version": 3
   },
   "file_extension": ".py",
   "mimetype": "text/x-python",
   "name": "python",
   "nbconvert_exporter": "python",
   "pygments_lexer": "ipython3",
   "version": "3.11.5"
  }
 },
 "nbformat": 4,
 "nbformat_minor": 2
}
