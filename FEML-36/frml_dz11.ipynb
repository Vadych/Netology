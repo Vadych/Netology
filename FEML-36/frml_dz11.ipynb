{
 "cells": [
  {
   "cell_type": "code",
   "execution_count": 164,
   "metadata": {},
   "outputs": [],
   "source": [
    "import pandas as pd\n",
    "import numpy as np\n",
    "import matplotlib.pyplot as plt\n",
    "from sklearn.linear_model import LogisticRegression\n",
    "from sklearn.model_selection import cross_val_score"
   ]
  },
  {
   "cell_type": "code",
   "execution_count": 165,
   "metadata": {},
   "outputs": [],
   "source": [
    "from sklearn.datasets import make_classification\n",
    "x, y = make_classification(scale=1, random_state=1589)"
   ]
  },
  {
   "cell_type": "code",
   "execution_count": 166,
   "metadata": {},
   "outputs": [],
   "source": [
    "models = []"
   ]
  },
  {
   "cell_type": "code",
   "execution_count": 167,
   "metadata": {},
   "outputs": [],
   "source": [
    "def check_model(x, y, name):\n",
    "    acc = cross_val_score(LogisticRegression(random_state=1589), x, y, scoring='accuracy').mean()\n",
    "    acc = round(acc, 4)\n",
    "    models.append((name, x.shape[1], acc))\n",
    "    return acc"
   ]
  },
  {
   "cell_type": "code",
   "execution_count": 168,
   "metadata": {},
   "outputs": [
    {
     "data": {
      "text/plain": [
       "0.86"
      ]
     },
     "execution_count": 168,
     "metadata": {},
     "output_type": "execute_result"
    }
   ],
   "source": [
    "check_model(x, y, 'Без отбора')\n"
   ]
  },
  {
   "cell_type": "markdown",
   "metadata": {},
   "source": [
    "# Статистический отбор"
   ]
  },
  {
   "cell_type": "code",
   "execution_count": 169,
   "metadata": {},
   "outputs": [
    {
     "name": "stdout",
     "output_type": "stream",
     "text": [
      "0  =  0.11001119547980813\n",
      "1  =  -0.009231576669147978\n",
      "2  =  -0.049377988793817475\n",
      "3  =  0.013640489093679199\n",
      "4  =  0.502999314500629\n",
      "5  =  0.048228589784666966\n",
      "6  =  0.03723755104874646\n",
      "7  =  -0.005629807355083821\n",
      "8  =  0.011769516361466885\n",
      "9  =  0.04336993695456568\n",
      "10  =  0.029169689237087383\n",
      "11  =  -0.03133795148122613\n",
      "12  =  0.034414190607436945\n",
      "13  =  0.45307951985318257\n",
      "14  =  0.023777256015542578\n",
      "15  =  -0.46170365912733674\n",
      "16  =  -0.013413016971818301\n",
      "17  =  -0.015909557933945957\n",
      "18  =  -0.013165470622177747\n",
      "19  =  -0.08457491736055237\n"
     ]
    }
   ],
   "source": [
    "for i in range(x.shape[1]):\n",
    "    print(i, ' = ', np.cov(x[:,i], y)[0, 1])"
   ]
  },
  {
   "cell_type": "markdown",
   "metadata": {},
   "source": [
    "Отбираем признаки 0, 4, 6, 15"
   ]
  },
  {
   "cell_type": "code",
   "execution_count": 170,
   "metadata": {},
   "outputs": [
    {
     "data": {
      "text/plain": [
       "0.88"
      ]
     },
     "execution_count": 170,
     "metadata": {},
     "output_type": "execute_result"
    }
   ],
   "source": [
    "check_model(x[:, [0,4,6, 15]], y, 'Корреляция')\n"
   ]
  },
  {
   "cell_type": "code",
   "execution_count": 171,
   "metadata": {},
   "outputs": [],
   "source": [
    "from sklearn.feature_selection import VarianceThreshold"
   ]
  },
  {
   "cell_type": "code",
   "execution_count": 172,
   "metadata": {},
   "outputs": [
    {
     "data": {
      "text/plain": [
       "0.88"
      ]
     },
     "execution_count": 172,
     "metadata": {},
     "output_type": "execute_result"
    }
   ],
   "source": [
    "check_model(\n",
    "    VarianceThreshold(threshold=1).fit_transform(x),\n",
    "    y,\n",
    "    'VarianceThreshold'\n",
    ")"
   ]
  },
  {
   "cell_type": "markdown",
   "metadata": {},
   "source": [
    "# Дисперсионный анализ"
   ]
  },
  {
   "cell_type": "code",
   "execution_count": 173,
   "metadata": {},
   "outputs": [],
   "source": [
    "from sklearn.feature_selection import SelectKBest\n",
    "from sklearn.feature_selection import f_classif"
   ]
  },
  {
   "cell_type": "code",
   "execution_count": 174,
   "metadata": {},
   "outputs": [
    {
     "data": {
      "text/plain": [
       "0.89"
      ]
     },
     "execution_count": 174,
     "metadata": {},
     "output_type": "execute_result"
    }
   ],
   "source": [
    "check_model(\n",
    "    SelectKBest(f_classif, k=5).fit_transform(x, y),\n",
    "    y,\n",
    "    'Дисперсия'\n",
    ")"
   ]
  },
  {
   "cell_type": "markdown",
   "metadata": {},
   "source": [
    "# Отбор на основе моделей"
   ]
  },
  {
   "cell_type": "code",
   "execution_count": 175,
   "metadata": {},
   "outputs": [],
   "source": [
    "from sklearn.feature_selection import SelectFromModel\n",
    "\n",
    "lr_selector = SelectFromModel(\n",
    "    LogisticRegression(random_state=1589, penalty='l1', solver='liblinear'),\n",
    "    prefit=False,\n",
    "    threshold='mean'\n",
    ")"
   ]
  },
  {
   "cell_type": "code",
   "execution_count": 176,
   "metadata": {},
   "outputs": [
    {
     "data": {
      "text/plain": [
       "0.9"
      ]
     },
     "execution_count": 176,
     "metadata": {},
     "output_type": "execute_result"
    }
   ],
   "source": [
    "check_model(\n",
    "    lr_selector.fit_transform(x, y),\n",
    "    y,\n",
    "    'L1 отбор'\n",
    ")\n"
   ]
  },
  {
   "cell_type": "code",
   "execution_count": 177,
   "metadata": {},
   "outputs": [
    {
     "data": {
      "text/plain": [
       "array([0.02807984, 0.01672324, 0.02734461, 0.01761614, 0.28228108,\n",
       "       0.01913197, 0.01191736, 0.01414359, 0.0176748 , 0.01913196,\n",
       "       0.01595491, 0.01638639, 0.01678054, 0.12173672, 0.03085703,\n",
       "       0.23989051, 0.05088359, 0.01459682, 0.01547132, 0.02339757])"
      ]
     },
     "execution_count": 177,
     "metadata": {},
     "output_type": "execute_result"
    }
   ],
   "source": [
    "from sklearn.ensemble import RandomForestClassifier\n",
    "\n",
    "rf_selector = RandomForestClassifier(random_state=1589)\n",
    "rf_selector.fit(x, y)\n",
    "rf_selector.feature_importances_\n",
    "\n",
    "    \n"
   ]
  },
  {
   "cell_type": "code",
   "execution_count": 178,
   "metadata": {},
   "outputs": [
    {
     "data": {
      "text/plain": [
       "0.89"
      ]
     },
     "execution_count": 178,
     "metadata": {},
     "output_type": "execute_result"
    }
   ],
   "source": [
    "check_model(\n",
    "    x[:,rf_selector.feature_importances_ > rf_selector.feature_importances_.mean()],\n",
    "    y,\n",
    "    'RandomForest'\n",
    ")"
   ]
  },
  {
   "cell_type": "markdown",
   "metadata": {},
   "source": [
    "# Перебор"
   ]
  },
  {
   "cell_type": "code",
   "execution_count": 179,
   "metadata": {},
   "outputs": [],
   "source": [
    "from sklearn.feature_selection import SequentialFeatureSelector\n",
    "\n",
    "selector = SequentialFeatureSelector(\n",
    "\tLogisticRegression(random_state=1589), \n",
    "\tn_features_to_select='auto', \n",
    "\tdirection=\"forward\" \n",
    ").fit(x, y)"
   ]
  },
  {
   "cell_type": "code",
   "execution_count": 180,
   "metadata": {},
   "outputs": [
    {
     "data": {
      "text/plain": [
       "array([ True,  True,  True, False,  True,  True, False,  True,  True,\n",
       "       False,  True, False,  True, False, False,  True, False, False,\n",
       "       False, False])"
      ]
     },
     "execution_count": 180,
     "metadata": {},
     "output_type": "execute_result"
    }
   ],
   "source": [
    "selector.support_"
   ]
  },
  {
   "cell_type": "code",
   "execution_count": 181,
   "metadata": {},
   "outputs": [
    {
     "data": {
      "text/plain": [
       "0.89"
      ]
     },
     "execution_count": 181,
     "metadata": {},
     "output_type": "execute_result"
    }
   ],
   "source": [
    "check_model(\n",
    "    x[:,selector.support_],\n",
    "    y,\n",
    "    'Перебор'\n",
    ")"
   ]
  },
  {
   "cell_type": "markdown",
   "metadata": {},
   "source": [
    "# Итог"
   ]
  },
  {
   "cell_type": "code",
   "execution_count": 183,
   "metadata": {},
   "outputs": [
    {
     "name": "stdout",
     "output_type": "stream",
     "text": [
      "Без отбора          : ACC: 0.8600, Признаков = 20\n",
      "Корреляция          : ACC: 0.8800, Признаков = 4\n",
      "VarianceThreshold   : ACC: 0.8800, Признаков = 14\n",
      "Дисперсия           : ACC: 0.8900, Признаков = 5\n",
      "L1 отбор            : ACC: 0.9000, Признаков = 5\n",
      "RandomForest        : ACC: 0.8900, Признаков = 4\n",
      "Перебор             : ACC: 0.8900, Признаков = 10\n"
     ]
    }
   ],
   "source": [
    "for m in models:\n",
    "    print(f'{m[0]:20}: ACC: {m[2]:.4f}, Признаков = {m[1]}')"
   ]
  },
  {
   "cell_type": "markdown",
   "metadata": {},
   "source": [
    "Лучший результат дал отбор на основе L1.\n",
    "\n",
    "В принципе любой метод отбора улучшил показатели модели\n"
   ]
  },
  {
   "cell_type": "markdown",
   "metadata": {},
   "source": []
  }
 ],
 "metadata": {
  "kernelspec": {
   "display_name": "base",
   "language": "python",
   "name": "python3"
  },
  "language_info": {
   "codemirror_mode": {
    "name": "ipython",
    "version": 3
   },
   "file_extension": ".py",
   "mimetype": "text/x-python",
   "name": "python",
   "nbconvert_exporter": "python",
   "pygments_lexer": "ipython3",
   "version": "3.1.undefined"
  }
 },
 "nbformat": 4,
 "nbformat_minor": 2
}
