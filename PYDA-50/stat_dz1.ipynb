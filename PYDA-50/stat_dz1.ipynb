{
 "cells": [
  {
   "cell_type": "code",
   "execution_count": 8,
   "metadata": {},
   "outputs": [],
   "source": [
    "import pandas as pd\n",
    "import numpy as np\n"
   ]
  },
  {
   "cell_type": "markdown",
   "metadata": {},
   "source": [
    "# Задание 1\n",
    "В классе 40 студентов. Они написали тест, который оценили по 100-балльной системе. Ниже приведён список оценок, преобразованный для удобства расчётов в pd.Series.\n",
    "Задание. Рассчитайте базовые статистики: максимальную и минимальную величины, размах, дисперсию (округлить до целого), среднее, медиану и моду (приведите к int)."
   ]
  },
  {
   "cell_type": "code",
   "execution_count": 5,
   "metadata": {},
   "outputs": [
    {
     "name": "stdout",
     "output_type": "stream",
     "text": [
      "5\n",
      "100\n",
      "95\n",
      "544\n",
      "73.1\n",
      "77.5\n",
      "95\n"
     ]
    }
   ],
   "source": [
    "grades = [87, 80, 99, 90, 74, 100, 95, 90, 56, 95,\n",
    "          75, 5, 85, 78, 30, 77, 70, 59, 88, 100,\n",
    "          50, 69, 97, 96, 82, 21, 46, 93, 72, 95, \n",
    "          60, 91, 52, 27, 63, 66, 85, 59, 91, 76]\n",
    "\n",
    "\n",
    "sr = pd.Series(grades)\n",
    "\n",
    "\n",
    "min_ = sr.min()\n",
    "max_ = sr.max()\n",
    "range_ = max_ - min_\n",
    "disp = round(sr.var())\n",
    "mean = sr.mean()\n",
    "median = sr.median()\n",
    "mode = int(sr.mode()[0])\n",
    "print(min_, max_, range_, disp, mean, median, mode, sep='\\n')"
   ]
  },
  {
   "cell_type": "markdown",
   "metadata": {},
   "source": [
    "# Задание 2\n",
    "Мы попросили 100 человек написать на бумажке свой рост и кинуть в коробку. После занесли эти данные в список, из которого сделали pd.Series для удобства расчётов.\n",
    "\n",
    "Задание: рассчитайте базовые статистики: среднее, медиану, моду, межквартильный размах и с его помощью найдите выбросы.\n",
    "\n"
   ]
  },
  {
   "cell_type": "code",
   "execution_count": 7,
   "metadata": {},
   "outputs": [
    {
     "name": "stdout",
     "output_type": "stream",
     "text": [
      "170.79\n",
      "171.0\n",
      "163\n",
      "17.5\n",
      "[250, 67]\n"
     ]
    }
   ],
   "source": [
    "\n",
    "\n",
    "height = [154, 185, 170, 184, 175, 180, 187, 164, 178, 185, \n",
    "          157, 179, 183, 159, 178, 189, 172, 167, 163, 166,\n",
    "          156, 165, 181, 164, 171, 185, 171, 168, 161, 184,\n",
    "          178, 161, 184, 150, 168, 187, 175, 175, 174, 154,\n",
    "          180, 164, 163, 163, 165, 185, 161, 166, 163, 171,\n",
    "          163, 184, 160, 161, 155, 185, 152, 169, 178, 154,\n",
    "          188, 158, 177, 250, 190, 189, 163, 168, 158, 182,\n",
    "          165, 67, 166, 167, 188, 185, 182, 172, 162, 156,\n",
    "          175, 184, 171, 174, 153, 154, 151, 176, 179, 161,\n",
    "          175, 154, 167, 180, 186, 174, 188, 176, 160, 179]\n",
    "\n",
    "\n",
    "h = pd.Series(height)\n",
    "\n",
    "\n",
    "mean = h.mean()\n",
    "median = h.median()\n",
    "mode = h.mode()[0]\n",
    "q1 = h.quantile(0.25)\n",
    "q3 = h.quantile(0.75)\n",
    "iqr = q3 - q1\n",
    "lower_bound = q1 - 1.5 * iqr\n",
    "upper_bound = q3 + 1.5 * iqr\n",
    "outliers = [x for x in h if not lower_bound < x < upper_bound]\n",
    "\n",
    "\n",
    "print(mean, median, mode, iqr, outliers, sep='\\n')"
   ]
  },
  {
   "cell_type": "markdown",
   "metadata": {},
   "source": [
    "# Задание 3\n",
    "Требуется смоделировать игру против лотерейного автомата типа “777”.\n",
    "\n",
    "Игрок платит 1 руб., после чего выпадает случайное целое число, равномерно распределённое от 0 до 999 (np.random.randint).\n",
    "\n",
    "При некоторых значениях числа игрок получает выигрыш:\n",
    "- 777: 200 руб.\n",
    "- 999: 100 руб.\n",
    "- 555: 50 руб.\n",
    "- 333: 15 руб.\n",
    "- 111: 10 руб.\n",
    "- x77: 5 руб.\n",
    "- xx7: 3 руб.\n",
    "- x00: 2 руб.\n",
    "- xx0: 1 руб.\n",
    "\n",
    "где x – любая цифра.\n",
    "\n",
    "Задание: рассчитайте математическое ожидание суммы выигрыша.\n",
    "Результат круглите до пяти знаков после запятой."
   ]
  },
  {
   "cell_type": "code",
   "execution_count": 15,
   "metadata": {},
   "outputs": [],
   "source": [
    "# trials - список из 1 млн. целых чисел от 0 до 999\n",
    "# генерируется отдельно в тестовом файле\n",
    "def profit(avt):\n",
    "    if avt % 100 == 77:\n",
    "        return 5\n",
    "    elif avt % 100 == 0:\n",
    "        return 2\n",
    "    elif avt % 10 == 7:\n",
    "        return 3\n",
    "    elif avt % 10 == 0:\n",
    "        return 1\n",
    "    else:\n",
    "        return 0\n",
    "    \n",
    "def monte_carlo(trials):\n",
    "    # словарь, содержащий выигрышные комбинации и сумму выигрыша\n",
    "    # случаи с * следует обработать в цикле с помощью\n",
    "    # операции взятия остатка от деления (%)\n",
    "    score = {\n",
    "        999: 100,\n",
    "        777: 200,\n",
    "        555: 50,\n",
    "        333: 15,\n",
    "        111: 10\n",
    "    }\n",
    "    # сумма выигрыша      \n",
    "    balance = 0\n",
    "\n",
    "    for i in trials:\n",
    "        balance += score.get(i, profit(i))\n",
    "            \n",
    "            \n",
    "\n",
    "    res = balance / len(trials)\n",
    "    return round(res, 5)\n"
   ]
  },
  {
   "cell_type": "code",
   "execution_count": 16,
   "metadata": {},
   "outputs": [
    {
     "name": "stdout",
     "output_type": "stream",
     "text": [
      "0.79953\n"
     ]
    }
   ],
   "source": [
    "np.random.seed(42)\n",
    "trials = np.random.randint(0, 1000, 10000000)\n",
    "print(monte_carlo(trials))"
   ]
  },
  {
   "cell_type": "code",
   "execution_count": 10,
   "metadata": {},
   "outputs": [
    {
     "data": {
      "text/plain": [
       "array([102, 435, 860, ..., 100, 887, 792])"
      ]
     },
     "execution_count": 10,
     "metadata": {},
     "output_type": "execute_result"
    }
   ],
   "source": [
    "trials"
   ]
  }
 ],
 "metadata": {
  "kernelspec": {
   "display_name": "base",
   "language": "python",
   "name": "python3"
  },
  "language_info": {
   "codemirror_mode": {
    "name": "ipython",
    "version": 3
   },
   "file_extension": ".py",
   "mimetype": "text/x-python",
   "name": "python",
   "nbconvert_exporter": "python",
   "pygments_lexer": "ipython3",
   "version": "3.11.5"
  }
 },
 "nbformat": 4,
 "nbformat_minor": 2
}
