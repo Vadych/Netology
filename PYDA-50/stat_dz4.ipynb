{
  "cells": [
    {
      "cell_type": "markdown",
      "metadata": {
        "id": "SOZozVNIGZwQ"
      },
      "source": [
        "## Домашнее задание к занятию \"A/B-тесты\""
      ]
    },
    {
      "cell_type": "markdown",
      "metadata": {
        "id": "N5Z4Rg7PGZwR"
      },
      "source": [
        "### Описание задачи\n",
        "\n",
        "![banner](https://storage.googleapis.com/kaggle-datasets-images/635/1204/126be74882028aac7241553cef0e27a7/dataset-original.jpg)\n",
        "\n",
        "Покемоны - это маленькие существа, которые сражаются друг с другом на соревнованиях. Все покемоны имеют разные характеристики (сила атаки, защиты и т. д.) И относятся к одному или двум так называемым классам (вода, огонь и т. д.).\n",
        "Профессор Оук является изобретателем Pokedex - портативного устройства, которое хранит информацию обо всех существующих покемонах. Как его ведущий специалист по данным, Вы только что получили от него запрос с просьбой осуществить аналитику данных на всех устройствах Pokedex.\n",
        "\n",
        "### Описание набора данных\n",
        "Профессор Оук скопировал все содержимое в память одного устройства Pokedex, в результате чего получился набор данных, с которым Вы будете работать в этой задаче. В этом файле каждая строка представляет характеристики одного покемона:\n",
        "\n",
        "* `pid`: Numeric - ID покемона\n",
        "* `HP`: Numeric - Очки здоровья\n",
        "* `Attack`: Numeric - Сила обычной атаки\n",
        "* `Defense`: Numeric - Сила обычной защиты\n",
        "* `Sp. Atk`: Numeric - Сила специальной атаки\n",
        "* `Sp. Def`: Numeric - Сила специальной защиты\n",
        "* `Speed`: Numeric - Скорость движений\n",
        "* `Legendary`: Boolean - «True», если покемон редкий\n",
        "* `Class 1`: Categorical - Класс покемона\n",
        "* `Class 2`: Categorical - Класс покемона"
      ]
    },
    {
      "cell_type": "code",
      "execution_count": 1,
      "metadata": {},
      "outputs": [],
      "source": [
        "import scipy.stats as st\n",
        "import numpy as np"
      ]
    },
    {
      "cell_type": "code",
      "execution_count": 2,
      "metadata": {
        "colab": {
          "base_uri": "https://localhost:8080/",
          "height": 172
        },
        "id": "op1t0-0QGZwS",
        "outputId": "be3029cf-0c41-4bea-815f-ef74130e754a"
      },
      "outputs": [
        {
          "data": {
            "text/html": [
              "<div>\n",
              "<style scoped>\n",
              "    .dataframe tbody tr th:only-of-type {\n",
              "        vertical-align: middle;\n",
              "    }\n",
              "\n",
              "    .dataframe tbody tr th {\n",
              "        vertical-align: top;\n",
              "    }\n",
              "\n",
              "    .dataframe thead th {\n",
              "        text-align: right;\n",
              "    }\n",
              "</style>\n",
              "<table border=\"1\" class=\"dataframe\">\n",
              "  <thead>\n",
              "    <tr style=\"text-align: right;\">\n",
              "      <th></th>\n",
              "      <th>pid</th>\n",
              "      <th>Name</th>\n",
              "      <th>Class 1</th>\n",
              "      <th>Class 2</th>\n",
              "      <th>HP</th>\n",
              "      <th>Attack</th>\n",
              "      <th>Defense</th>\n",
              "      <th>Sp. Atk</th>\n",
              "      <th>Sp. Def</th>\n",
              "      <th>Speed</th>\n",
              "      <th>Legendary</th>\n",
              "    </tr>\n",
              "  </thead>\n",
              "  <tbody>\n",
              "    <tr>\n",
              "      <th>0</th>\n",
              "      <td>1</td>\n",
              "      <td>Bulbasaur</td>\n",
              "      <td>Grass</td>\n",
              "      <td>Poison</td>\n",
              "      <td>45</td>\n",
              "      <td>49</td>\n",
              "      <td>49</td>\n",
              "      <td>65</td>\n",
              "      <td>65</td>\n",
              "      <td>45</td>\n",
              "      <td>False</td>\n",
              "    </tr>\n",
              "    <tr>\n",
              "      <th>1</th>\n",
              "      <td>2</td>\n",
              "      <td>Ivysaur</td>\n",
              "      <td>Grass</td>\n",
              "      <td>Poison</td>\n",
              "      <td>60</td>\n",
              "      <td>62</td>\n",
              "      <td>63</td>\n",
              "      <td>80</td>\n",
              "      <td>80</td>\n",
              "      <td>60</td>\n",
              "      <td>False</td>\n",
              "    </tr>\n",
              "    <tr>\n",
              "      <th>2</th>\n",
              "      <td>3</td>\n",
              "      <td>Venusaur</td>\n",
              "      <td>Grass</td>\n",
              "      <td>Poison</td>\n",
              "      <td>80</td>\n",
              "      <td>82</td>\n",
              "      <td>83</td>\n",
              "      <td>100</td>\n",
              "      <td>100</td>\n",
              "      <td>80</td>\n",
              "      <td>False</td>\n",
              "    </tr>\n",
              "    <tr>\n",
              "      <th>3</th>\n",
              "      <td>4</td>\n",
              "      <td>Mega Venusaur</td>\n",
              "      <td>Grass</td>\n",
              "      <td>Poison</td>\n",
              "      <td>80</td>\n",
              "      <td>100</td>\n",
              "      <td>123</td>\n",
              "      <td>122</td>\n",
              "      <td>120</td>\n",
              "      <td>80</td>\n",
              "      <td>False</td>\n",
              "    </tr>\n",
              "    <tr>\n",
              "      <th>4</th>\n",
              "      <td>5</td>\n",
              "      <td>Charmander</td>\n",
              "      <td>Fire</td>\n",
              "      <td>NaN</td>\n",
              "      <td>39</td>\n",
              "      <td>52</td>\n",
              "      <td>43</td>\n",
              "      <td>60</td>\n",
              "      <td>50</td>\n",
              "      <td>65</td>\n",
              "      <td>False</td>\n",
              "    </tr>\n",
              "  </tbody>\n",
              "</table>\n",
              "</div>"
            ],
            "text/plain": [
              "   pid           Name Class 1 Class 2  HP  Attack  Defense  Sp. Atk  Sp. Def  \\\n",
              "0    1      Bulbasaur   Grass  Poison  45      49       49       65       65   \n",
              "1    2        Ivysaur   Grass  Poison  60      62       63       80       80   \n",
              "2    3       Venusaur   Grass  Poison  80      82       83      100      100   \n",
              "3    4  Mega Venusaur   Grass  Poison  80     100      123      122      120   \n",
              "4    5     Charmander    Fire     NaN  39      52       43       60       50   \n",
              "\n",
              "   Speed  Legendary  \n",
              "0     45      False  \n",
              "1     60      False  \n",
              "2     80      False  \n",
              "3     80      False  \n",
              "4     65      False  "
            ]
          },
          "execution_count": 2,
          "metadata": {},
          "output_type": "execute_result"
        }
      ],
      "source": [
        "import warnings\n",
        "# Отключение предупреждений (warnings)\n",
        "warnings.filterwarnings(\"ignore\")\n",
        "\n",
        "import pandas as pd\n",
        "\n",
        "from scipy.stats import ttest_ind\n",
        "from scipy.stats import f_oneway, shapiro\n",
        "\n",
        "pokemon = pd.read_csv('https://raw.githubusercontent.com/a-milenkin/datasets_for_t-tests/main/pokemon.csv', on_bad_lines='skip')  # Откроем датасет\n",
        "pokemon.head()\n",
        "\n",
        "# Обратите внимание, что у покемона может быть один или два класса.\n",
        "# Если у покемона два класса, считается, что они имеют одинаковую значимость."
      ]
    },
    {
      "cell_type": "code",
      "execution_count": 3,
      "metadata": {},
      "outputs": [
        {
          "name": "stdout",
          "output_type": "stream",
          "text": [
            "<class 'pandas.core.frame.DataFrame'>\n",
            "RangeIndex: 800 entries, 0 to 799\n",
            "Data columns (total 11 columns):\n",
            " #   Column     Non-Null Count  Dtype \n",
            "---  ------     --------------  ----- \n",
            " 0   pid        800 non-null    int64 \n",
            " 1   Name       799 non-null    object\n",
            " 2   Class 1    800 non-null    object\n",
            " 3   Class 2    414 non-null    object\n",
            " 4   HP         800 non-null    int64 \n",
            " 5   Attack     800 non-null    int64 \n",
            " 6   Defense    800 non-null    int64 \n",
            " 7   Sp. Atk    800 non-null    int64 \n",
            " 8   Sp. Def    800 non-null    int64 \n",
            " 9   Speed      800 non-null    int64 \n",
            " 10  Legendary  800 non-null    bool  \n",
            "dtypes: bool(1), int64(7), object(3)\n",
            "memory usage: 63.4+ KB\n"
          ]
        }
      ],
      "source": [
        "pokemon.info()"
      ]
    },
    {
      "cell_type": "markdown",
      "metadata": {
        "id": "8KytW3mUGZwT"
      },
      "source": [
        "### Задачи"
      ]
    },
    {
      "cell_type": "markdown",
      "metadata": {
        "id": "i72--cvLGZwT"
      },
      "source": [
        "<div class=\"alert alert-info\">\n",
        "<b>Задание № 1:</b>\n",
        "    \n",
        "Профессор Оук подозревает, что покемоны в классе `Grass` имеют более сильную обычную атаку, чем покемоны в классе `Rock`. Проверьте, прав ли он, и убедите его в своём выводе статистически.\n",
        "    \n",
        "    \n",
        "Примечание: если есть покемоны, которые относятся к обоим классам, просто выбросьте их;\n",
        "    \n",
        "Вы можете предположить, что распределение обычных атак является нормальным для всех классов покемонов.\n",
        "\n",
        "</div>"
      ]
    },
    {
      "cell_type": "code",
      "execution_count": 4,
      "metadata": {},
      "outputs": [
        {
          "data": {
            "text/plain": [
              "<bound method Series.unique of 0        1\n",
              "1        2\n",
              "2        3\n",
              "3        4\n",
              "4        5\n",
              "      ... \n",
              "795    796\n",
              "796    797\n",
              "797    798\n",
              "798    799\n",
              "799    800\n",
              "Name: pid, Length: 800, dtype: int64>"
            ]
          },
          "execution_count": 4,
          "metadata": {},
          "output_type": "execute_result"
        }
      ],
      "source": [
        "# Проверка на повторы\n",
        "pokemon['pid'].unique"
      ]
    },
    {
      "cell_type": "code",
      "execution_count": 5,
      "metadata": {},
      "outputs": [],
      "source": [
        "# Создаем признаки принадлежности к классу\n",
        "def set_class(row):\n",
        "    row[row['Class 1']] = True\n",
        "    row[row['Class 2']] = True\n",
        "    return row\n",
        "\n",
        "pokemon = pokemon.apply(set_class, axis=1)"
      ]
    },
    {
      "cell_type": "code",
      "execution_count": 6,
      "metadata": {},
      "outputs": [
        {
          "data": {
            "text/html": [
              "<div>\n",
              "<style scoped>\n",
              "    .dataframe tbody tr th:only-of-type {\n",
              "        vertical-align: middle;\n",
              "    }\n",
              "\n",
              "    .dataframe tbody tr th {\n",
              "        vertical-align: top;\n",
              "    }\n",
              "\n",
              "    .dataframe thead th {\n",
              "        text-align: right;\n",
              "    }\n",
              "</style>\n",
              "<table border=\"1\" class=\"dataframe\">\n",
              "  <thead>\n",
              "    <tr style=\"text-align: right;\">\n",
              "      <th></th>\n",
              "      <th>Attack</th>\n",
              "      <th>Class 1</th>\n",
              "      <th>Class 2</th>\n",
              "      <th>Defense</th>\n",
              "      <th>Fire</th>\n",
              "      <th>Grass</th>\n",
              "      <th>HP</th>\n",
              "      <th>Legendary</th>\n",
              "      <th>Name</th>\n",
              "      <th>Poison</th>\n",
              "      <th>...</th>\n",
              "      <th>Electric</th>\n",
              "      <th>Ground</th>\n",
              "      <th>Fairy</th>\n",
              "      <th>Fighting</th>\n",
              "      <th>Psychic</th>\n",
              "      <th>Rock</th>\n",
              "      <th>Steel</th>\n",
              "      <th>Ice</th>\n",
              "      <th>Ghost</th>\n",
              "      <th>Dark</th>\n",
              "    </tr>\n",
              "  </thead>\n",
              "  <tbody>\n",
              "    <tr>\n",
              "      <th>0</th>\n",
              "      <td>49</td>\n",
              "      <td>Grass</td>\n",
              "      <td>Poison</td>\n",
              "      <td>49</td>\n",
              "      <td>False</td>\n",
              "      <td>True</td>\n",
              "      <td>45</td>\n",
              "      <td>False</td>\n",
              "      <td>Bulbasaur</td>\n",
              "      <td>True</td>\n",
              "      <td>...</td>\n",
              "      <td>False</td>\n",
              "      <td>False</td>\n",
              "      <td>False</td>\n",
              "      <td>False</td>\n",
              "      <td>False</td>\n",
              "      <td>False</td>\n",
              "      <td>False</td>\n",
              "      <td>False</td>\n",
              "      <td>False</td>\n",
              "      <td>False</td>\n",
              "    </tr>\n",
              "    <tr>\n",
              "      <th>1</th>\n",
              "      <td>62</td>\n",
              "      <td>Grass</td>\n",
              "      <td>Poison</td>\n",
              "      <td>63</td>\n",
              "      <td>False</td>\n",
              "      <td>True</td>\n",
              "      <td>60</td>\n",
              "      <td>False</td>\n",
              "      <td>Ivysaur</td>\n",
              "      <td>True</td>\n",
              "      <td>...</td>\n",
              "      <td>False</td>\n",
              "      <td>False</td>\n",
              "      <td>False</td>\n",
              "      <td>False</td>\n",
              "      <td>False</td>\n",
              "      <td>False</td>\n",
              "      <td>False</td>\n",
              "      <td>False</td>\n",
              "      <td>False</td>\n",
              "      <td>False</td>\n",
              "    </tr>\n",
              "    <tr>\n",
              "      <th>2</th>\n",
              "      <td>82</td>\n",
              "      <td>Grass</td>\n",
              "      <td>Poison</td>\n",
              "      <td>83</td>\n",
              "      <td>False</td>\n",
              "      <td>True</td>\n",
              "      <td>80</td>\n",
              "      <td>False</td>\n",
              "      <td>Venusaur</td>\n",
              "      <td>True</td>\n",
              "      <td>...</td>\n",
              "      <td>False</td>\n",
              "      <td>False</td>\n",
              "      <td>False</td>\n",
              "      <td>False</td>\n",
              "      <td>False</td>\n",
              "      <td>False</td>\n",
              "      <td>False</td>\n",
              "      <td>False</td>\n",
              "      <td>False</td>\n",
              "      <td>False</td>\n",
              "    </tr>\n",
              "    <tr>\n",
              "      <th>3</th>\n",
              "      <td>100</td>\n",
              "      <td>Grass</td>\n",
              "      <td>Poison</td>\n",
              "      <td>123</td>\n",
              "      <td>False</td>\n",
              "      <td>True</td>\n",
              "      <td>80</td>\n",
              "      <td>False</td>\n",
              "      <td>Mega Venusaur</td>\n",
              "      <td>True</td>\n",
              "      <td>...</td>\n",
              "      <td>False</td>\n",
              "      <td>False</td>\n",
              "      <td>False</td>\n",
              "      <td>False</td>\n",
              "      <td>False</td>\n",
              "      <td>False</td>\n",
              "      <td>False</td>\n",
              "      <td>False</td>\n",
              "      <td>False</td>\n",
              "      <td>False</td>\n",
              "    </tr>\n",
              "    <tr>\n",
              "      <th>4</th>\n",
              "      <td>52</td>\n",
              "      <td>Fire</td>\n",
              "      <td>NaN</td>\n",
              "      <td>43</td>\n",
              "      <td>True</td>\n",
              "      <td>False</td>\n",
              "      <td>39</td>\n",
              "      <td>False</td>\n",
              "      <td>Charmander</td>\n",
              "      <td>False</td>\n",
              "      <td>...</td>\n",
              "      <td>False</td>\n",
              "      <td>False</td>\n",
              "      <td>False</td>\n",
              "      <td>False</td>\n",
              "      <td>False</td>\n",
              "      <td>False</td>\n",
              "      <td>False</td>\n",
              "      <td>False</td>\n",
              "      <td>False</td>\n",
              "      <td>False</td>\n",
              "    </tr>\n",
              "    <tr>\n",
              "      <th>...</th>\n",
              "      <td>...</td>\n",
              "      <td>...</td>\n",
              "      <td>...</td>\n",
              "      <td>...</td>\n",
              "      <td>...</td>\n",
              "      <td>...</td>\n",
              "      <td>...</td>\n",
              "      <td>...</td>\n",
              "      <td>...</td>\n",
              "      <td>...</td>\n",
              "      <td>...</td>\n",
              "      <td>...</td>\n",
              "      <td>...</td>\n",
              "      <td>...</td>\n",
              "      <td>...</td>\n",
              "      <td>...</td>\n",
              "      <td>...</td>\n",
              "      <td>...</td>\n",
              "      <td>...</td>\n",
              "      <td>...</td>\n",
              "      <td>...</td>\n",
              "    </tr>\n",
              "    <tr>\n",
              "      <th>795</th>\n",
              "      <td>100</td>\n",
              "      <td>Rock</td>\n",
              "      <td>Fairy</td>\n",
              "      <td>150</td>\n",
              "      <td>False</td>\n",
              "      <td>False</td>\n",
              "      <td>50</td>\n",
              "      <td>True</td>\n",
              "      <td>Diancie</td>\n",
              "      <td>False</td>\n",
              "      <td>...</td>\n",
              "      <td>False</td>\n",
              "      <td>False</td>\n",
              "      <td>True</td>\n",
              "      <td>False</td>\n",
              "      <td>False</td>\n",
              "      <td>True</td>\n",
              "      <td>False</td>\n",
              "      <td>False</td>\n",
              "      <td>False</td>\n",
              "      <td>False</td>\n",
              "    </tr>\n",
              "    <tr>\n",
              "      <th>796</th>\n",
              "      <td>160</td>\n",
              "      <td>Rock</td>\n",
              "      <td>Fairy</td>\n",
              "      <td>110</td>\n",
              "      <td>False</td>\n",
              "      <td>False</td>\n",
              "      <td>50</td>\n",
              "      <td>True</td>\n",
              "      <td>Mega Diancie</td>\n",
              "      <td>False</td>\n",
              "      <td>...</td>\n",
              "      <td>False</td>\n",
              "      <td>False</td>\n",
              "      <td>True</td>\n",
              "      <td>False</td>\n",
              "      <td>False</td>\n",
              "      <td>True</td>\n",
              "      <td>False</td>\n",
              "      <td>False</td>\n",
              "      <td>False</td>\n",
              "      <td>False</td>\n",
              "    </tr>\n",
              "    <tr>\n",
              "      <th>797</th>\n",
              "      <td>110</td>\n",
              "      <td>Psychic</td>\n",
              "      <td>Ghost</td>\n",
              "      <td>60</td>\n",
              "      <td>False</td>\n",
              "      <td>False</td>\n",
              "      <td>80</td>\n",
              "      <td>True</td>\n",
              "      <td>Hoopa Confined</td>\n",
              "      <td>False</td>\n",
              "      <td>...</td>\n",
              "      <td>False</td>\n",
              "      <td>False</td>\n",
              "      <td>False</td>\n",
              "      <td>False</td>\n",
              "      <td>True</td>\n",
              "      <td>False</td>\n",
              "      <td>False</td>\n",
              "      <td>False</td>\n",
              "      <td>True</td>\n",
              "      <td>False</td>\n",
              "    </tr>\n",
              "    <tr>\n",
              "      <th>798</th>\n",
              "      <td>160</td>\n",
              "      <td>Psychic</td>\n",
              "      <td>Dark</td>\n",
              "      <td>60</td>\n",
              "      <td>False</td>\n",
              "      <td>False</td>\n",
              "      <td>80</td>\n",
              "      <td>True</td>\n",
              "      <td>Hoopa Unbound</td>\n",
              "      <td>False</td>\n",
              "      <td>...</td>\n",
              "      <td>False</td>\n",
              "      <td>False</td>\n",
              "      <td>False</td>\n",
              "      <td>False</td>\n",
              "      <td>True</td>\n",
              "      <td>False</td>\n",
              "      <td>False</td>\n",
              "      <td>False</td>\n",
              "      <td>False</td>\n",
              "      <td>True</td>\n",
              "    </tr>\n",
              "    <tr>\n",
              "      <th>799</th>\n",
              "      <td>110</td>\n",
              "      <td>Fire</td>\n",
              "      <td>Water</td>\n",
              "      <td>120</td>\n",
              "      <td>True</td>\n",
              "      <td>False</td>\n",
              "      <td>80</td>\n",
              "      <td>True</td>\n",
              "      <td>Volcanion</td>\n",
              "      <td>False</td>\n",
              "      <td>...</td>\n",
              "      <td>False</td>\n",
              "      <td>False</td>\n",
              "      <td>False</td>\n",
              "      <td>False</td>\n",
              "      <td>False</td>\n",
              "      <td>False</td>\n",
              "      <td>False</td>\n",
              "      <td>False</td>\n",
              "      <td>False</td>\n",
              "      <td>False</td>\n",
              "    </tr>\n",
              "  </tbody>\n",
              "</table>\n",
              "<p>800 rows × 30 columns</p>\n",
              "</div>"
            ],
            "text/plain": [
              "     Attack  Class 1 Class 2  Defense   Fire  Grass  HP  Legendary  \\\n",
              "0        49    Grass  Poison       49  False   True  45      False   \n",
              "1        62    Grass  Poison       63  False   True  60      False   \n",
              "2        82    Grass  Poison       83  False   True  80      False   \n",
              "3       100    Grass  Poison      123  False   True  80      False   \n",
              "4        52     Fire     NaN       43   True  False  39      False   \n",
              "..      ...      ...     ...      ...    ...    ...  ..        ...   \n",
              "795     100     Rock   Fairy      150  False  False  50       True   \n",
              "796     160     Rock   Fairy      110  False  False  50       True   \n",
              "797     110  Psychic   Ghost       60  False  False  80       True   \n",
              "798     160  Psychic    Dark       60  False  False  80       True   \n",
              "799     110     Fire   Water      120   True  False  80       True   \n",
              "\n",
              "               Name  Poison  ...  Electric  Ground  Fairy  Fighting  Psychic  \\\n",
              "0         Bulbasaur    True  ...     False   False  False     False    False   \n",
              "1           Ivysaur    True  ...     False   False  False     False    False   \n",
              "2          Venusaur    True  ...     False   False  False     False    False   \n",
              "3     Mega Venusaur    True  ...     False   False  False     False    False   \n",
              "4        Charmander   False  ...     False   False  False     False    False   \n",
              "..              ...     ...  ...       ...     ...    ...       ...      ...   \n",
              "795         Diancie   False  ...     False   False   True     False    False   \n",
              "796    Mega Diancie   False  ...     False   False   True     False    False   \n",
              "797  Hoopa Confined   False  ...     False   False  False     False     True   \n",
              "798   Hoopa Unbound   False  ...     False   False  False     False     True   \n",
              "799       Volcanion   False  ...     False   False  False     False    False   \n",
              "\n",
              "      Rock  Steel    Ice  Ghost   Dark  \n",
              "0    False  False  False  False  False  \n",
              "1    False  False  False  False  False  \n",
              "2    False  False  False  False  False  \n",
              "3    False  False  False  False  False  \n",
              "4    False  False  False  False  False  \n",
              "..     ...    ...    ...    ...    ...  \n",
              "795   True  False  False  False  False  \n",
              "796   True  False  False  False  False  \n",
              "797  False  False  False   True  False  \n",
              "798  False  False  False  False   True  \n",
              "799  False  False  False  False  False  \n",
              "\n",
              "[800 rows x 30 columns]"
            ]
          },
          "execution_count": 6,
          "metadata": {},
          "output_type": "execute_result"
        }
      ],
      "source": [
        "pokemon[pokemon.columns.difference(['Name', 'Class 2'])] = pokemon[pokemon.columns.difference(['Name', 'Class 2'])].fillna(False)\n",
        "pokemon"
      ]
    },
    {
      "cell_type": "code",
      "execution_count": 7,
      "metadata": {},
      "outputs": [],
      "source": [
        "def f_test(group1, group2):\n",
        "    f = np.var(group1, ddof=1)/np.var(group2, ddof=1)\n",
        "    nun = group1.size-1\n",
        "    dun = group2.size-1\n",
        "    p_value = 1-st.f.cdf(f, nun, dun)\n",
        "    return f, p_value"
      ]
    },
    {
      "cell_type": "code",
      "execution_count": 8,
      "metadata": {},
      "outputs": [],
      "source": [
        "p1_df = pokemon.loc[~(pokemon['Grass'] & pokemon['Rock'])]"
      ]
    },
    {
      "cell_type": "code",
      "execution_count": 10,
      "metadata": {},
      "outputs": [
        {
          "data": {
            "text/plain": [
              "(0.48262460954678854, 0.9990088840898671)"
            ]
          },
          "execution_count": 10,
          "metadata": {},
          "output_type": "execute_result"
        }
      ],
      "source": [
        "stat, p = f_test(\n",
        "    p1_df.loc[p1_df['Grass'], 'Attack'], \n",
        "    p1_df.loc[p1_df['Rock'], 'Attack']\n",
        "    )\n",
        "stat, p"
      ]
    },
    {
      "cell_type": "code",
      "execution_count": 42,
      "metadata": {},
      "outputs": [
        {
          "data": {
            "text/plain": [
              "(-3.729457582692065, 0.00027333381459902664)"
            ]
          },
          "execution_count": 42,
          "metadata": {},
          "output_type": "execute_result"
        }
      ],
      "source": [
        "stat, p = st.ttest_ind(\n",
        "    p1_df.loc[p1_df['Grass'], 'Attack'], \n",
        "    p1_df.loc[p1_df['Rock'], 'Attack']\n",
        ")\n",
        "stat, p"
      ]
    },
    {
      "cell_type": "code",
      "execution_count": 12,
      "metadata": {},
      "outputs": [
        {
          "name": "stdout",
          "output_type": "stream",
          "text": [
            "73.73118279569893 91.78571428571429\n"
          ]
        }
      ],
      "source": [
        "print(\n",
        "    p1_df.loc[p1_df['Grass'], 'Attack'].mean(),\n",
        "    p1_df.loc[p1_df['Rock'], 'Attack'].mean()    \n",
        ")\n"
      ]
    },
    {
      "cell_type": "markdown",
      "metadata": {},
      "source": [
        "Отклоняем гипотезу о равенстве средних. Покемоны класса Rock атакуют сильней"
      ]
    },
    {
      "cell_type": "markdown",
      "metadata": {
        "id": "KS2OVjmFGZwV"
      },
      "source": [
        "<div class=\"alert alert-info\">\n",
        "<b>Задание № 2:</b>\n",
        "    \n",
        "Профессор Оук уже долго не может спать по ночам, ведь его волнует вопрос, а правда ли, что покемоны в классе `Water` в среднем быстрее, чем покемоны в классе `Normal`.\n",
        "    \n",
        "    \n",
        "Проверьте, прав ли он, и убедите его в своём выводе статистически.\n",
        "    \n",
        "Примечание: если есть покемоны, которые относятся к обоим классам, выбросьте их;\n",
        "    \n",
        "Вы можете предположить, что распределение скорости движения является нормальным для всех классов покемонов.\n",
        "</div>"
      ]
    },
    {
      "cell_type": "code",
      "execution_count": 13,
      "metadata": {},
      "outputs": [],
      "source": [
        "p2_df = pokemon.loc[~(pokemon['Water'] & pokemon['Normal'])]"
      ]
    },
    {
      "cell_type": "code",
      "execution_count": 44,
      "metadata": {},
      "outputs": [
        {
          "data": {
            "text/plain": [
              "(0.6403955333179285, 0.9907447713433752)"
            ]
          },
          "execution_count": 44,
          "metadata": {},
          "output_type": "execute_result"
        }
      ],
      "source": [
        "stat, p = f_test(\n",
        "    p2_df.loc[p2_df['Water'], 'Speed'], \n",
        "    p2_df.loc[p2_df['Normal'], 'Speed']\n",
        "    )\n",
        "stat, p"
      ]
    },
    {
      "cell_type": "code",
      "execution_count": 45,
      "metadata": {},
      "outputs": [
        {
          "data": {
            "text/plain": [
              "(-2.150913330007121, 0.032553535513910326)"
            ]
          },
          "execution_count": 45,
          "metadata": {},
          "output_type": "execute_result"
        }
      ],
      "source": [
        "stat, p = st.ttest_ind(\n",
        "    p2_df.loc[p2_df['Water'], 'Speed'], \n",
        "    p2_df.loc[p2_df['Normal'], 'Speed']\n",
        ")\n",
        "stat, p"
      ]
    },
    {
      "cell_type": "markdown",
      "metadata": {},
      "source": [
        "Нет различий между скоростью покемонов классов Water и Normal"
      ]
    },
    {
      "cell_type": "markdown",
      "metadata": {
        "id": "p9VPcdu-GZwb"
      },
      "source": [
        "<div class=\"alert alert-info\">\n",
        "<b>Задание № 3:</b>\n",
        "    \n",
        "Профессор Оук тот еще безумец. Он изобрёл сыворотку, способную ускорить покемона. Однако мы усомнились в эффективности его вакцины. Професоор дал эту сыворотку следующим покемонам: смотри массив `treathed_pokemon`. Проверьте, работает ли вообще его сыворотка, убедите всех в своём выводе статистически.\n",
        "    \n",
        "    \n",
        "Вы можете предположить, что распределение скорости движения является нормальным для всех классов покемонов.\n",
        "\n",
        "</div>"
      ]
    },
    {
      "cell_type": "code",
      "execution_count": 16,
      "metadata": {
        "id": "olGBBpq2GZwb"
      },
      "outputs": [],
      "source": [
        "# Покемоны, которые принимали сыворотку увеличения скорости\n",
        "treathed_pokemon = ['Mega Beedrill', 'Mega Alakazam',\n",
        "                    'Deoxys Normal Forme', 'Mega Lopunny']"
      ]
    },
    {
      "cell_type": "markdown",
      "metadata": {},
      "source": [
        "Логика моих размышлений такая. Если не прав, дайте обратную связь, пожалуйста.\n",
        "Мы сравниваем скорость испытуемого покемона со средней скоростью по всему его классу.\n",
        "Если есть отличия по обоим, то сыворотка действует. Если не отличается хотя бы по одному, то нет\n",
        "Для сравнения используем t-тест для одной выборки"
      ]
    },
    {
      "cell_type": "code",
      "execution_count": 41,
      "metadata": {},
      "outputs": [
        {
          "name": "stdout",
          "output_type": "stream",
          "text": [
            "Name: Mega Beedrill\t Class 1: Bug\t p-value 1: 0.00000\tClass 2: Poison\t p-value2: 0.00000\n",
            "Name: Mega Alakazam\t Class 1: Psychic\t p-value 1: 0.00000\tClass 2: nan\t p-value2: 0.00000\n",
            "Name: Deoxys Normal Forme\t Class 1: Psychic\t p-value 1: 0.00000\tClass 2: nan\t p-value2: 0.00000\n",
            "Name: Mega Lopunny\t Class 1: Normal\t p-value 1: 0.00000\tClass 2: Fighting\t p-value2: 0.00000\n"
          ]
        }
      ],
      "source": [
        "for cur_p in treathed_pokemon:\n",
        "    speed = pokemon.loc[pokemon['Name'] == cur_p, 'Speed'].values[0]\n",
        "    class1 = pokemon.loc[pokemon['Name'] == cur_p, 'Class 1'].values[0]\n",
        "    class2 = pokemon.loc[pokemon['Name'] == cur_p, 'Class 2'].values[0]\n",
        "    _, pval1 = st.ttest_1samp(\n",
        "        pokemon.loc[pokemon[class1], 'Speed'],\n",
        "        speed\n",
        "        )\n",
        "    if class2 is not None:\n",
        "         _, pval2 = st.ttest_1samp(\n",
        "            pokemon.loc[pokemon[class2], 'Speed'],\n",
        "            speed\n",
        "        )\n",
        "    else:\n",
        "        pval2 = None\n",
        "        \n",
        "    print(\n",
        "        f'Name: {cur_p}\\t Class 1: {class1}\\t p-value 1: {pval1:.5f}\\t'\n",
        "        f'Class 2: {class2}\\t p-value2: {pval2:.5f}'\n",
        "        )"
      ]
    },
    {
      "cell_type": "markdown",
      "metadata": {},
      "source": [
        "Отклоняем все нулевые гипотезы. Сыворотка работает"
      ]
    },
    {
      "cell_type": "markdown",
      "metadata": {
        "id": "IpgS6yk9GZwc"
      },
      "source": [
        "<div class=\"alert alert-info\">\n",
        "<b>Задание № 4:</b>\n",
        "    \n",
        "Профессор Оук всегда любил истории про легендарных покемонов. Однако профессор не очень уверен, что они лучше остальных покемонов. Оук предложил разобраться в этом нам. Проверьте, действительно ли сумма характеристик `HP`,`Attack`,`Defense` у легендарных покемонов выше, чем у других покемонов?\n",
        "\n",
        "А произведение этих же параметров?\n",
        "\n",
        "Найдите ответы на эти вопросы и убедите всех в своём выводе статистически.\n",
        "   \n",
        "\n",
        "Вы можете предположить, что распределение сум и произведений этих параметров является нормальным для всех классов покемонов.\n",
        "\n",
        "</div>"
      ]
    },
    {
      "cell_type": "markdown",
      "metadata": {
        "id": "ah5AoxB1t8tA"
      },
      "source": [
        "pokemon['Sum'] = pokemon['HP'] + pokemon['Attack'] + pokemon['Defense']\n",
        "pokemon['Mul'] = pokemon['HP'] * pokemon['Attack'] * pokemon['Defense']"
      ]
    },
    {
      "cell_type": "code",
      "execution_count": 47,
      "metadata": {},
      "outputs": [
        {
          "data": {
            "text/plain": [
              "(11.591852366462316, 7.970942205722087e-29)"
            ]
          },
          "execution_count": 47,
          "metadata": {},
          "output_type": "execute_result"
        }
      ],
      "source": [
        "stat, p = st.ttest_ind(\n",
        "    pokemon.loc[pokemon['Legendary'], 'Sum'],\n",
        "    pokemon.loc[~pokemon['Legendary'], 'Sum']\n",
        ")\n",
        "stat, p"
      ]
    },
    {
      "cell_type": "code",
      "execution_count": 48,
      "metadata": {},
      "outputs": [
        {
          "data": {
            "text/plain": [
              "(13.263253408231844, 1.992664308842282e-36)"
            ]
          },
          "execution_count": 48,
          "metadata": {},
          "output_type": "execute_result"
        }
      ],
      "source": [
        "stat, p = st.ttest_ind(\n",
        "    pokemon.loc[pokemon['Legendary'], 'Mul'],\n",
        "    pokemon.loc[~pokemon['Legendary'], 'Mul']\n",
        ")\n",
        "stat, p"
      ]
    },
    {
      "cell_type": "code",
      "execution_count": 51,
      "metadata": {},
      "outputs": [
        {
          "data": {
            "text/html": [
              "<div>\n",
              "<style scoped>\n",
              "    .dataframe tbody tr th:only-of-type {\n",
              "        vertical-align: middle;\n",
              "    }\n",
              "\n",
              "    .dataframe tbody tr th {\n",
              "        vertical-align: top;\n",
              "    }\n",
              "\n",
              "    .dataframe thead th {\n",
              "        text-align: right;\n",
              "    }\n",
              "</style>\n",
              "<table border=\"1\" class=\"dataframe\">\n",
              "  <thead>\n",
              "    <tr style=\"text-align: right;\">\n",
              "      <th></th>\n",
              "      <th>Sum</th>\n",
              "      <th>Mul</th>\n",
              "    </tr>\n",
              "    <tr>\n",
              "      <th>Legendary</th>\n",
              "      <th></th>\n",
              "      <th></th>\n",
              "    </tr>\n",
              "  </thead>\n",
              "  <tbody>\n",
              "    <tr>\n",
              "      <th>False</th>\n",
              "      <td>214.410884</td>\n",
              "      <td>4.250414e+05</td>\n",
              "    </tr>\n",
              "    <tr>\n",
              "      <th>True</th>\n",
              "      <td>309.076923</td>\n",
              "      <td>1.085942e+06</td>\n",
              "    </tr>\n",
              "  </tbody>\n",
              "</table>\n",
              "</div>"
            ],
            "text/plain": [
              "                  Sum           Mul\n",
              "Legendary                          \n",
              "False      214.410884  4.250414e+05\n",
              "True       309.076923  1.085942e+06"
            ]
          },
          "execution_count": 51,
          "metadata": {},
          "output_type": "execute_result"
        }
      ],
      "source": [
        "pokemon[['Sum', 'Mul', 'Legendary']].groupby('Legendary').mean()"
      ]
    },
    {
      "cell_type": "markdown",
      "metadata": {},
      "source": [
        "И сумма и произведение параметров у легендарных покемонов выше"
      ]
    },
    {
      "cell_type": "markdown",
      "metadata": {
        "id": "g9GwcheAGZwc"
      },
      "source": [
        "<div class=\"alert alert-info\">\n",
        "<b>Задание № 5:</b>\n",
        "    \n",
        "Профессор Оук частенько наблюдает за боями покемонов. После очередных таких боёв Оук выделил четыре класса `best_defence_class`, которые на его взгляд одинаковы по \"силе обычной защиты\" `Defense`.\n",
        "\n",
        "Проверьте, действительно ли эти классы покемонов не отличаются по уровню защиты статистически значимо? Всё та же статистика вам в помощь!\n",
        "   \n",
        "\n",
        "Вы можете предположить, что распределение параметров защитных характеристик является нормальным для всех классов покемонов.\n",
        "\n",
        "</div>"
      ]
    },
    {
      "cell_type": "code",
      "execution_count": 52,
      "metadata": {
        "colab": {
          "base_uri": "https://localhost:8080/"
        },
        "id": "F0w6ipNBGZwd",
        "outputId": "e20a4efd-dcf6-4730-8730-91f7fec544ea"
      },
      "outputs": [
        {
          "data": {
            "text/plain": [
              "['Rock', 'Ground', 'Steel', 'Ice']"
            ]
          },
          "execution_count": 52,
          "metadata": {},
          "output_type": "execute_result"
        }
      ],
      "source": [
        "best_defence_class = ['Rock', 'Ground', 'Steel', 'Ice']\n",
        "best_defence_class"
      ]
    },
    {
      "cell_type": "code",
      "execution_count": 60,
      "metadata": {},
      "outputs": [
        {
          "data": {
            "text/plain": [
              "[80     100\n",
              " 81     115\n",
              " 82     130\n",
              " 103    160\n",
              " 119     95\n",
              " 120    120\n",
              " 149    100\n",
              " 150    125\n",
              " 151     90\n",
              " 152    105\n",
              " 153     65\n",
              " 154     85\n",
              " 200    115\n",
              " 230    230\n",
              " 237    120\n",
              " 240     85\n",
              " 265     50\n",
              " 266     70\n",
              " 267    110\n",
              " 268    150\n",
              " 323    135\n",
              " 330    100\n",
              " 331    140\n",
              " 332    180\n",
              " 369     65\n",
              " 370     85\n",
              " 377     77\n",
              " 378     97\n",
              " 379     50\n",
              " 380    100\n",
              " 404    130\n",
              " 414    200\n",
              " 453     40\n",
              " 454     60\n",
              " 455    118\n",
              " 456    168\n",
              " 486     95\n",
              " 515    130\n",
              " 528    145\n",
              " 583     85\n",
              " 584    105\n",
              " 585    130\n",
              " 618     85\n",
              " 619    125\n",
              " 625    103\n",
              " 626    133\n",
              " 627     45\n",
              " 628     65\n",
              " 700     90\n",
              " 758     67\n",
              " 759    115\n",
              " 766     77\n",
              " 767    119\n",
              " 768     50\n",
              " 769     72\n",
              " 773    150\n",
              " 795    150\n",
              " 796    110\n",
              " Name: Defense, dtype: int64,\n",
              " 32      85\n",
              " 33     110\n",
              " 36      87\n",
              " 39      77\n",
              " 55      25\n",
              "       ... \n",
              " 684     80\n",
              " 708     90\n",
              " 709     90\n",
              " 728     77\n",
              " 794    121\n",
              " Name: Defense, Length: 67, dtype: int64,\n",
              " 88      70\n",
              " 89      95\n",
              " 220    140\n",
              " 223    200\n",
              " 224    230\n",
              " 228    100\n",
              " 229    140\n",
              " 245    140\n",
              " 328     85\n",
              " 329    125\n",
              " 330    100\n",
              " 331    140\n",
              " 332    180\n",
              " 333    230\n",
              " 410     80\n",
              " 411    100\n",
              " 412    130\n",
              " 413    150\n",
              " 416    150\n",
              " 427    100\n",
              " 440     88\n",
              " 455    118\n",
              " 456    168\n",
              " 460     95\n",
              " 484     86\n",
              " 485    116\n",
              " 497     70\n",
              " 498     88\n",
              " 513    115\n",
              " 528    145\n",
              " 540    120\n",
              " 542    106\n",
              " 589     60\n",
              " 650    105\n",
              " 658     91\n",
              " 659    131\n",
              " 660     70\n",
              " 661     95\n",
              " 662    115\n",
              " 685     70\n",
              " 686    100\n",
              " 693    112\n",
              " 699    129\n",
              " 717     95\n",
              " 748    100\n",
              " 749    150\n",
              " 750     50\n",
              " 751    150\n",
              " 777     91\n",
              " Name: Defense, dtype: int64,\n",
              " 94      80\n",
              " 98     180\n",
              " 133     35\n",
              " 142     80\n",
              " 156    100\n",
              " 233     55\n",
              " 238     40\n",
              " 239     80\n",
              " 243     45\n",
              " 257     15\n",
              " 395     50\n",
              " 396     80\n",
              " 397     80\n",
              " 398     50\n",
              " 399     70\n",
              " 400     90\n",
              " 415    100\n",
              " 509     50\n",
              " 510     75\n",
              " 511    105\n",
              " 512     65\n",
              " 522    110\n",
              " 524     80\n",
              " 530     70\n",
              " 534    107\n",
              " 643     50\n",
              " 644     65\n",
              " 645     85\n",
              " 674     40\n",
              " 675     80\n",
              " 676     30\n",
              " 710     90\n",
              " 711    100\n",
              " 712     90\n",
              " 768     50\n",
              " 769     72\n",
              " 788     85\n",
              " 789    184\n",
              " Name: Defense, dtype: int64]"
            ]
          },
          "execution_count": 60,
          "metadata": {},
          "output_type": "execute_result"
        }
      ],
      "source": [
        "p_best = [pokemon.loc[pokemon[class_], 'Defense'] for class_ in best_defence_class]\n",
        "p_best"
      ]
    },
    {
      "cell_type": "code",
      "execution_count": 61,
      "metadata": {
        "id": "pYOPHA9Xt_eF"
      },
      "outputs": [
        {
          "data": {
            "text/plain": [
              "(10.82012408304731, 1.231528168152447e-06)"
            ]
          },
          "execution_count": 61,
          "metadata": {},
          "output_type": "execute_result"
        }
      ],
      "source": [
        "stat, p = st.f_oneway(*p_best)\n",
        "stat, p"
      ]
    },
    {
      "cell_type": "markdown",
      "metadata": {},
      "source": [
        "Классы отличаются по уровню защиты"
      ]
    },
    {
      "cell_type": "markdown",
      "metadata": {
        "id": "If3qgUORDFBb"
      },
      "source": [
        "# **Примечание:**\n",
        "\n",
        "Домашнее задание сдается ссылкой [Google Colab](https://colab.research.google.com/). Мы не сможем проверить его или помочь, если вы пришлете:\n",
        "\n",
        "*   файлы;\n",
        "*   архивы;\n",
        "*   скриншоты кода.\n",
        "\n",
        "Все обсуждения и консультации по выполнению домашнего задания ведутся только на соответствующем канале в Discord.\n",
        "\n",
        "**Как правильно задавать вопросы аспирантам, преподавателям и коллегам:**\n",
        "\n",
        "Прежде чем задать вопрос, попробуйте найти ответ в интернете. Навык самостоятельного поиска информации — один из важнейших. Каждый практикующий специалист любого уровня делает это ежедневно.\n",
        "\n",
        "Сформулируйте вопрос по алгоритму:\n",
        "\n",
        "1.   Что я делаю?\n",
        "2.   Какого результата я ожидаю?\n",
        "3.   Как фактический результат отличается от ожидаемого?\n",
        "4.   Что я уже попробовал сделать, чтобы исправить проблему?\n",
        "\n",
        "По возможности прикрепите к вопросу скриншоты либо ссылки на код. Не выкладывайте все решение, оставляйте только проблемный и воспроизводимый участок кода."
      ]
    }
  ],
  "metadata": {
    "colab": {
      "provenance": []
    },
    "kernelspec": {
      "display_name": "Python 3",
      "language": "python",
      "name": "python3"
    },
    "language_info": {
      "codemirror_mode": {
        "name": "ipython",
        "version": 3
      },
      "file_extension": ".py",
      "mimetype": "text/x-python",
      "name": "python",
      "nbconvert_exporter": "python",
      "pygments_lexer": "ipython3",
      "version": "3.11.5"
    },
    "toc": {
      "base_numbering": 1,
      "nav_menu": {},
      "number_sections": true,
      "sideBar": true,
      "skip_h1_title": false,
      "title_cell": "Table of Contents",
      "title_sidebar": "Contents",
      "toc_cell": false,
      "toc_position": {},
      "toc_section_display": true,
      "toc_window_display": false
    }
  },
  "nbformat": 4,
  "nbformat_minor": 0
}
