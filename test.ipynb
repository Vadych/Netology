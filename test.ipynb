{
 "cells": [
  {
   "cell_type": "code",
   "execution_count": 3,
   "metadata": {},
   "outputs": [],
   "source": [
    "import numpy as np"
   ]
  },
  {
   "cell_type": "code",
   "execution_count": 11,
   "metadata": {},
   "outputs": [
    {
     "data": {
      "text/plain": [
       "(array([17.04490057, -0.50740215,  0.46250158]),\n",
       " array([[-0.31530161, -0.73885965,  0.17980302],\n",
       "        [-0.58684916, -0.22796476, -0.81889172],\n",
       "        [-0.74578346,  0.63412813,  0.54505708]]))"
      ]
     },
     "execution_count": 11,
     "metadata": {},
     "output_type": "execute_result"
    }
   ],
   "source": [
    "A = np.array([[2,3,4], [4,6,7], [6, 7, 9]])\n",
    "np.transpose(A) # Транспонирование\n",
    "A.T # Транспонирование\n",
    "np.linalg.det(A) # Определитель \n",
    "np.linalg.matrix_rank(A) # Ранг матрицы\n",
    "np.linalg.inv(A) # Обратная матрица\n",
    "np.linalg.eigvals(A) # Собственные значения\n",
    "np.linalg.eig(A) # Кортеж. Собственные значения и собственные векторы\n"
   ]
  },
  {
   "cell_type": "code",
   "execution_count": null,
   "metadata": {},
   "outputs": [],
   "source": [
    "np.transpose()"
   ]
  }
 ],
 "metadata": {
  "kernelspec": {
   "display_name": "base",
   "language": "python",
   "name": "python3"
  },
  "language_info": {
   "codemirror_mode": {
    "name": "ipython",
    "version": 3
   },
   "file_extension": ".py",
   "mimetype": "text/x-python",
   "name": "python",
   "nbconvert_exporter": "python",
   "pygments_lexer": "ipython3",
   "version": "3.11.5"
  }
 },
 "nbformat": 4,
 "nbformat_minor": 2
}
